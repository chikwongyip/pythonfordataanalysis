{
 "cells": [
  {
   "cell_type": "markdown",
   "metadata": {},
   "source": [
    "Numpy(Numerical Python的简称)是python数值计算重要的基础包，\n",
    "大多数提供科学计算的包都用NumPy的数组作为构建基础\n",
    "\n",
    "NumPy的部分功能如下：\n",
    "ndarray，一个具有矢量算术运算和复杂广播能力的快速且节省空间的多维数组\n",
    "用于对整组数据进行快读运算的标准数学函数\n",
    "用于读写磁盘数据的工具以及用于操作内存映射文件的工具\n",
    "线性代数，随机数生成以及傅里叶变换功能\n",
    "用于集成由C，C++,Fortain等语言编写的代码A C API"
   ]
  },
  {
   "cell_type": "markdown",
   "metadata": {},
   "source": [
    "对于大部分数据分析应用而言，我最关注的功能主要集中在：\n",
    "用于数据整理和清理，子集构造和过滤，转换等快速矢量化数组运算\n",
    "常用数组算法，如排序，唯一化，集合运算等\n",
    "高效的描述统计和数据聚合摘要运算\n",
    "用于异构数据集合的合并/连接运算的数据对齐和关系型数据运算\n",
    "将条件逻辑表述为数组表达式，而不是带有if-elif-else分支循环\n",
    "数据的分组运算（聚合，转换，函数应用）"
   ]
  },
  {
   "cell_type": "markdown",
   "metadata": {},
   "source": [
    "NumPy之所以特别重要的原因之一，是因为它可以高效处理大数组的数据，因为:\n",
    "NumPy是一个连续内存块中存储数据，独立于其他Python 内置对象。Numpy的c语言编写的算法库可以操作内存，而不必进行类型检查或其他前期工作。比起python的内置序列Numpy数组使用内存更少\n",
    "NumPy可以在整个数组上执行复杂计算而不需要For 循环"
   ]
  },
  {
   "cell_type": "code",
   "execution_count": 2,
   "metadata": {},
   "outputs": [
    {
     "name": "stdout",
     "output_type": "stream",
     "text": [
      "CPU times: total: 15.6 ms\n",
      "Wall time: 23.1 ms\n"
     ]
    }
   ],
   "source": [
    "import numpy as np\n",
    "my_arr = np.arange(1000000)\n",
    "my_list = list(range(1000000))\n",
    "# 各个序列分别乘以2\n",
    "%time for _ in range(10):my_arr2 = my_arr  * 2"
   ]
  },
  {
   "cell_type": "code",
   "execution_count": 3,
   "metadata": {},
   "outputs": [
    {
     "name": "stdout",
     "output_type": "stream",
     "text": [
      "CPU times: total: 312 ms\n",
      "Wall time: 312 ms\n"
     ]
    }
   ],
   "source": [
    "%time for _ in range(10):my_list2 = my_list * 2"
   ]
  },
  {
   "cell_type": "markdown",
   "metadata": {},
   "source": [
    "Numpy的ndarray 一种多维数组对象\n",
    "NumPy重要一个特点是其N维数组对象，该对象是一个快速而灵活的大数据集容器"
   ]
  },
  {
   "cell_type": "code",
   "execution_count": 4,
   "metadata": {},
   "outputs": [
    {
     "data": {
      "text/plain": [
       "array([[ 0.2949905 ,  0.43922286,  0.79395427],\n",
       "       [-0.8698906 , -1.02752813, -0.25810584]])"
      ]
     },
     "execution_count": 4,
     "metadata": {},
     "output_type": "execute_result"
    }
   ],
   "source": [
    "import numpy as np\n",
    "data = np.random.randn(2,3)\n",
    "data"
   ]
  },
  {
   "cell_type": "code",
   "execution_count": 5,
   "metadata": {},
   "outputs": [
    {
     "data": {
      "text/plain": [
       "array([[  2.94990502,   4.39222861,   7.93954273],\n",
       "       [ -8.69890597, -10.27528126,  -2.58105841]])"
      ]
     },
     "execution_count": 5,
     "metadata": {},
     "output_type": "execute_result"
    }
   ],
   "source": [
    "data * 10"
   ]
  },
  {
   "cell_type": "code",
   "execution_count": 6,
   "metadata": {},
   "outputs": [
    {
     "data": {
      "text/plain": [
       "array([[ 0.589981  ,  0.87844572,  1.58790855],\n",
       "       [-1.73978119, -2.05505625, -0.51621168]])"
      ]
     },
     "execution_count": 6,
     "metadata": {},
     "output_type": "execute_result"
    }
   ],
   "source": [
    "data + data"
   ]
  },
  {
   "cell_type": "markdown",
   "metadata": {},
   "source": [
    "标准是习惯用法 import numpy as np\n",
    "你当然也可以代码中使用 from numpy import *，但不建议这么做。\n",
    "numpy 的命名空间很大，包含许多函数，有一些函数会与python 内置函数重命名"
   ]
  },
  {
   "cell_type": "code",
   "execution_count": 7,
   "metadata": {},
   "outputs": [
    {
     "data": {
      "text/plain": [
       "(2, 3)"
      ]
     },
     "execution_count": 7,
     "metadata": {},
     "output_type": "execute_result"
    }
   ],
   "source": [
    "#shape 表示各维度大小元组\n",
    "#dtype 一个用于说明数组数据类型的对象\n",
    "data.shape"
   ]
  },
  {
   "cell_type": "code",
   "execution_count": 8,
   "metadata": {},
   "outputs": [
    {
     "data": {
      "text/plain": [
       "dtype('float64')"
      ]
     },
     "execution_count": 8,
     "metadata": {},
     "output_type": "execute_result"
    }
   ],
   "source": [
    "data.dtype"
   ]
  },
  {
   "cell_type": "markdown",
   "metadata": {},
   "source": [
    "创建ndarray\n",
    "使用array函数，它接受一切序列对象包括其他数组，然后产生一个新的含传入数据Numpy 数组"
   ]
  },
  {
   "cell_type": "code",
   "execution_count": 10,
   "metadata": {},
   "outputs": [
    {
     "data": {
      "text/plain": [
       "[6, 5, 7, 9, 10]"
      ]
     },
     "execution_count": 10,
     "metadata": {},
     "output_type": "execute_result"
    }
   ],
   "source": [
    "data = [6,5,7,9,10]\n",
    "narr = np.array(data)\n",
    "data"
   ]
  },
  {
   "cell_type": "code",
   "execution_count": 11,
   "metadata": {},
   "outputs": [
    {
     "data": {
      "text/plain": [
       "array([ 6,  5,  7,  9, 10])"
      ]
     },
     "execution_count": 11,
     "metadata": {},
     "output_type": "execute_result"
    }
   ],
   "source": [
    "narr"
   ]
  },
  {
   "cell_type": "code",
   "execution_count": 14,
   "metadata": {},
   "outputs": [
    {
     "data": {
      "text/plain": [
       "array([[1, 2, 3, 4],\n",
       "       [5, 6, 7, 8]])"
      ]
     },
     "execution_count": 14,
     "metadata": {},
     "output_type": "execute_result"
    }
   ],
   "source": [
    "# 嵌套序列会被转换一个多维数组\n",
    "data2 = [[1,2,3,4],[5,6,7,8]]\n",
    "narr2 = np.array(data2)\n",
    "narr2"
   ]
  },
  {
   "cell_type": "markdown",
   "metadata": {},
   "source": [
    "np.array可以创建zeros和ones分别可以创建指定长度和形状全0或者全1数组\n",
    "empty可以创建一个没有任何具体值的数组"
   ]
  },
  {
   "cell_type": "code",
   "execution_count": 15,
   "metadata": {},
   "outputs": [
    {
     "data": {
      "text/plain": [
       "array([0., 0., 0., 0., 0., 0., 0., 0., 0., 0.])"
      ]
     },
     "execution_count": 15,
     "metadata": {},
     "output_type": "execute_result"
    }
   ],
   "source": [
    "np.zeros(10)"
   ]
  },
  {
   "cell_type": "code",
   "execution_count": 16,
   "metadata": {},
   "outputs": [
    {
     "data": {
      "text/plain": [
       "array([[0., 0., 0., 0., 0., 0.],\n",
       "       [0., 0., 0., 0., 0., 0.],\n",
       "       [0., 0., 0., 0., 0., 0.]])"
      ]
     },
     "execution_count": 16,
     "metadata": {},
     "output_type": "execute_result"
    }
   ],
   "source": [
    "np.zeros((3,6))"
   ]
  },
  {
   "cell_type": "code",
   "execution_count": 17,
   "metadata": {},
   "outputs": [
    {
     "data": {
      "text/plain": [
       "array([[[6.23042070e-307, 4.67296746e-307, 1.69121096e-306,\n",
       "         1.11260755e-306],\n",
       "        [1.33511969e-306, 1.42418987e-306, 7.56599807e-307,\n",
       "         8.90104239e-307],\n",
       "        [1.24610383e-306, 1.69118108e-306, 8.06632139e-308,\n",
       "         1.20160711e-306]],\n",
       "\n",
       "       [[1.69119330e-306, 1.06811151e-306, 8.45609552e-307,\n",
       "         1.60221072e-306],\n",
       "        [1.51317924e-306, 1.24610994e-306, 8.34423493e-308,\n",
       "         8.34424342e-308],\n",
       "        [1.78021527e-306, 9.79107193e-307, 8.34420522e-308,\n",
       "         1.42410974e-306]]])"
      ]
     },
     "execution_count": 17,
     "metadata": {},
     "output_type": "execute_result"
    }
   ],
   "source": [
    "np.empty((2,3,4))"
   ]
  },
  {
   "cell_type": "markdown",
   "metadata": {},
   "source": [
    "认为np.empty会返回全0数组的想法是不安全的，\n",
    "很多情况下它返回一些未初始化的垃圾值"
   ]
  },
  {
   "cell_type": "code",
   "execution_count": null,
   "metadata": {},
   "outputs": [],
   "source": [
    "arange是python内置函数的数组版"
   ]
  },
  {
   "cell_type": "code",
   "execution_count": 18,
   "metadata": {},
   "outputs": [
    {
     "data": {
      "text/plain": [
       "array([   0,    1,    2, ..., 9997, 9998, 9999])"
      ]
     },
     "execution_count": 18,
     "metadata": {},
     "output_type": "execute_result"
    }
   ],
   "source": [
    "np.arange(10000)"
   ]
  },
  {
   "cell_type": "code",
   "execution_count": 27,
   "metadata": {},
   "outputs": [
    {
     "data": {
      "text/plain": [
       "array([1., 2., 3.])"
      ]
     },
     "execution_count": 27,
     "metadata": {},
     "output_type": "execute_result"
    }
   ],
   "source": [
    "arr1 = np.array([1,2,3],dtype=np.float64)\n",
    "arr1"
   ]
  },
  {
   "cell_type": "code",
   "execution_count": 29,
   "metadata": {},
   "outputs": [
    {
     "data": {
      "text/plain": [
       "array([1, 2, 3, 4])"
      ]
     },
     "execution_count": 29,
     "metadata": {},
     "output_type": "execute_result"
    }
   ],
   "source": [
    "arr_int = np.array([1,2,3,4],dtype=np.int32)\n",
    "arr_int"
   ]
  }
 ],
 "metadata": {
  "kernelspec": {
   "display_name": "Python 3.9.12 ('base')",
   "language": "python",
   "name": "python3"
  },
  "language_info": {
   "codemirror_mode": {
    "name": "ipython",
    "version": 3
   },
   "file_extension": ".py",
   "mimetype": "text/x-python",
   "name": "python",
   "nbconvert_exporter": "python",
   "pygments_lexer": "ipython3",
   "version": "3.9.12"
  },
  "orig_nbformat": 4,
  "vscode": {
   "interpreter": {
    "hash": "74676c5a11183895e3609f8173225bfe0ea9bf792f2206eefbd5c07a799d1d16"
   }
  }
 },
 "nbformat": 4,
 "nbformat_minor": 2
}

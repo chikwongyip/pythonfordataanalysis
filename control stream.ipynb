{
 "cells": [
  {
   "cell_type": "code",
   "execution_count": 8,
   "id": "e68d08cb",
   "metadata": {},
   "outputs": [],
   "source": [
    "#python 有若干内建的关键字进行条件逻辑，循环和其他控制流操作\n",
    "#if elif else\n",
    "# if x < 0:\n",
    "#     print('it is negative')"
   ]
  },
  {
   "cell_type": "code",
   "execution_count": 9,
   "id": "6f99b70a",
   "metadata": {},
   "outputs": [],
   "source": [
    "# for 循环 在一个集合（列表或者元组）中进行迭代\n",
    "seq = [1,2,None,4,None,5]\n",
    "total = 0\n",
    "for value in seq:\n",
    "    if value is None:\n",
    "        continue\n",
    "    total += value\n",
    "    "
   ]
  },
  {
   "cell_type": "code",
   "execution_count": 10,
   "id": "e3224c95",
   "metadata": {},
   "outputs": [],
   "source": [
    "#用break 跳出循环\n",
    "seq = [1,2,3,0.4,6,5,3,1]\n",
    "total_until_5 = 0\n",
    "for value in seq:\n",
    "    if value ==5:\n",
    "        break\n",
    "    total_until_5 += value\n"
   ]
  },
  {
   "cell_type": "code",
   "execution_count": 12,
   "id": "42fcdb68",
   "metadata": {},
   "outputs": [
    {
     "name": "stdout",
     "output_type": "stream",
     "text": [
      "(0, 0)\n",
      "(1, 0)\n",
      "(1, 1)\n",
      "(2, 0)\n",
      "(2, 1)\n",
      "(2, 2)\n",
      "(3, 0)\n",
      "(3, 1)\n",
      "(3, 2)\n",
      "(3, 3)\n"
     ]
    }
   ],
   "source": [
    "# break 只中断for 循环的最内层，其余for 循环仍会运行\n",
    "for i in range(4):\n",
    "    for j in range(4):\n",
    "        if j > i:\n",
    "            break\n",
    "        print((i,j))"
   ]
  },
  {
   "cell_type": "code",
   "execution_count": 15,
   "id": "a7b8e514",
   "metadata": {},
   "outputs": [
    {
     "name": "stdout",
     "output_type": "stream",
     "text": [
      "128\n",
      "64\n",
      "32\n",
      "16\n",
      "8\n",
      "4\n"
     ]
    }
   ],
   "source": [
    "# while 循环指定条件和代码，当条件为False 或用break推出循环，代码才会推出循环\n",
    "x = 256\n",
    "total = 0\n",
    "while x > 0:\n",
    "    if total > 500:\n",
    "        break\n",
    "    total += x\n",
    "    x = x //2\n",
    "    print(x)\n",
    "    "
   ]
  },
  {
   "cell_type": "code",
   "execution_count": 17,
   "id": "946d7722",
   "metadata": {},
   "outputs": [],
   "source": [
    "#pass 是python 中的非操作语句\n",
    "x = 0\n",
    "if x < 0:\n",
    "    print(\"negative\")\n",
    "elif x == 0:\n",
    "#not do anything\n",
    "    pass\n",
    "else:\n",
    "    print(\"positive\")\n",
    "    "
   ]
  },
  {
   "cell_type": "code",
   "execution_count": 19,
   "id": "19ad7629",
   "metadata": {},
   "outputs": [
    {
     "data": {
      "text/plain": [
       "range(0, 10)"
      ]
     },
     "execution_count": 19,
     "metadata": {},
     "output_type": "execute_result"
    }
   ],
   "source": [
    "#range 函数返回一个迭代器，产生一个均匀分布的整数序列\n",
    "range(10)"
   ]
  },
  {
   "cell_type": "code",
   "execution_count": 20,
   "id": "98bf9a4a",
   "metadata": {},
   "outputs": [
    {
     "data": {
      "text/plain": [
       "[0, 1, 2, 3, 4, 5, 6, 7, 8, 9]"
      ]
     },
     "execution_count": 20,
     "metadata": {},
     "output_type": "execute_result"
    }
   ],
   "source": [
    "list(range(10))"
   ]
  }
 ],
 "metadata": {
  "kernelspec": {
   "display_name": "Python 3 (ipykernel)",
   "language": "python",
   "name": "python3"
  },
  "language_info": {
   "codemirror_mode": {
    "name": "ipython",
    "version": 3
   },
   "file_extension": ".py",
   "mimetype": "text/x-python",
   "name": "python",
   "nbconvert_exporter": "python",
   "pygments_lexer": "ipython3",
   "version": "3.9.12"
  }
 },
 "nbformat": 4,
 "nbformat_minor": 5
}

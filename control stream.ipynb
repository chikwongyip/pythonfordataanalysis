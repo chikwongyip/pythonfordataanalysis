{
 "cells": [
  {
   "cell_type": "code",
   "execution_count": 1,
   "id": "e68d08cb",
   "metadata": {
    "pycharm": {
     "name": "#%%\n"
    }
   },
   "outputs": [],
   "source": [
    "#python 有若干内建的关键字进行条件逻辑，循环和其他控制流操作\n",
    "#if elif else\n",
    "# if x < 0:\n",
    "#     print('it is negative')"
   ]
  },
  {
   "cell_type": "code",
   "execution_count": null,
   "id": "5711ad45",
   "metadata": {},
   "outputs": [],
   "source": []
  },
  {
   "cell_type": "code",
   "execution_count": 9,
   "id": "6f99b70a",
   "metadata": {
    "pycharm": {
     "name": "#%%\n"
    }
   },
   "outputs": [],
   "source": [
    "# for 循环 在一个集合（列表或者元组）中进行迭代\n",
    "seq = [1,2,None,4,None,5]\n",
    "total = 0\n",
    "for value in seq:\n",
    "    if value is None:\n",
    "        continue\n",
    "    total += value\n",
    "    "
   ]
  },
  {
   "cell_type": "code",
   "execution_count": 10,
   "id": "e3224c95",
   "metadata": {
    "pycharm": {
     "name": "#%%\n"
    }
   },
   "outputs": [],
   "source": [
    "#用break 跳出循环\n",
    "seq = [1,2,3,0.4,6,5,3,1]\n",
    "total_until_5 = 0\n",
    "for value in seq:\n",
    "    if value ==5:\n",
    "        break\n",
    "    total_until_5 += value\n"
   ]
  },
  {
   "cell_type": "code",
   "execution_count": 12,
   "id": "42fcdb68",
   "metadata": {
    "pycharm": {
     "name": "#%%\n"
    }
   },
   "outputs": [
    {
     "name": "stdout",
     "output_type": "stream",
     "text": [
      "(0, 0)\n",
      "(1, 0)\n",
      "(1, 1)\n",
      "(2, 0)\n",
      "(2, 1)\n",
      "(2, 2)\n",
      "(3, 0)\n",
      "(3, 1)\n",
      "(3, 2)\n",
      "(3, 3)\n"
     ]
    }
   ],
   "source": [
    "# break 只中断for 循环的最内层，其余for 循环仍会运行\n",
    "for i in range(4):\n",
    "    for j in range(4):\n",
    "        if j > i:\n",
    "            break\n",
    "        print((i,j))"
   ]
  },
  {
   "cell_type": "code",
   "execution_count": 15,
   "id": "a7b8e514",
   "metadata": {
    "pycharm": {
     "name": "#%%\n"
    }
   },
   "outputs": [
    {
     "name": "stdout",
     "output_type": "stream",
     "text": [
      "128\n",
      "64\n",
      "32\n",
      "16\n",
      "8\n",
      "4\n"
     ]
    }
   ],
   "source": [
    "# while 循环指定条件和代码，当条件为False 或用break推出循环，代码才会推出循环\n",
    "x = 256\n",
    "total = 0\n",
    "while x > 0:\n",
    "    if total > 500:\n",
    "        break\n",
    "    total += x\n",
    "    x = x //2\n",
    "    print(x)\n",
    "    "
   ]
  },
  {
   "cell_type": "code",
   "execution_count": 17,
   "id": "946d7722",
   "metadata": {
    "pycharm": {
     "name": "#%%\n"
    }
   },
   "outputs": [],
   "source": [
    "#pass 是python 中的非操作语句\n",
    "x = 0\n",
    "if x < 0:\n",
    "    print(\"negative\")\n",
    "elif x == 0:\n",
    "#not do anything\n",
    "    pass\n",
    "else:\n",
    "    print(\"positive\")\n",
    "    "
   ]
  },
  {
   "cell_type": "code",
   "execution_count": 19,
   "id": "19ad7629",
   "metadata": {
    "pycharm": {
     "name": "#%%\n"
    }
   },
   "outputs": [
    {
     "data": {
      "text/plain": [
       "range(0, 10)"
      ]
     },
     "execution_count": 19,
     "metadata": {},
     "output_type": "execute_result"
    }
   ],
   "source": [
    "#range 函数返回一个迭代器，产生一个均匀分布的整数序列\n",
    "range(10)"
   ]
  },
  {
   "cell_type": "code",
   "execution_count": 3,
   "id": "98bf9a4a",
   "metadata": {
    "pycharm": {
     "name": "#%%\n"
    }
   },
   "outputs": [
    {
     "data": {
      "text/plain": [
       "[0, 1, 2, 3, 4, 5, 6, 7, 8, 9]"
      ]
     },
     "execution_count": 3,
     "metadata": {},
     "output_type": "execute_result"
    }
   ],
   "source": [
    "list(range(10))"
   ]
  },
  {
   "cell_type": "code",
   "execution_count": 2,
   "id": "e3a57b4c",
   "metadata": {
    "pycharm": {
     "name": "#%%\n"
    }
   },
   "outputs": [
    {
     "name": "stdout",
     "output_type": "stream",
     "text": [
      "128\n",
      "64\n",
      "32\n",
      "16\n",
      "8\n",
      "4\n",
      "128\n",
      "64\n",
      "32\n",
      "16\n",
      "8\n",
      "4\n"
     ]
    }
   ],
   "source": [
    "x = 256\n",
    "total = 0\n",
    "while x > 0:\n",
    "    if total > 500:\n",
    "        break\n",
    "    total += x\n",
    "    x = x // 2\n",
    "    print(x)\n"
   ]
  },
  {
   "cell_type": "code",
   "execution_count": 3,
   "id": "504de2c5",
   "metadata": {
    "pycharm": {
     "name": "#%%\n"
    }
   },
   "outputs": [
    {
     "name": "stdout",
     "output_type": "stream",
     "text": [
      "2333316668\n"
     ]
    }
   ],
   "source": [
    "sum = 0\n",
    "for i in range(100000):\n",
    "    if i % 3 == 0 or i % 5 == 0:\n",
    "        sum += i\n",
    "print(sum)\n"
   ]
  },
  {
   "cell_type": "code",
   "execution_count": 5,
   "id": "02737fa9",
   "metadata": {
    "pycharm": {
     "name": "#%%\n"
    }
   },
   "outputs": [
    {
     "data": {
      "text/plain": [
       "'Non-negative'"
      ]
     },
     "execution_count": 5,
     "metadata": {},
     "output_type": "execute_result"
    }
   ],
   "source": [
    "# 三元表达式 value = true-expr if condition else false-expr\n",
    "# 三元表达是可以压缩代码，但会降低可读性\n",
    "x = 5\n",
    "'Non-negative' if x >=0 else 'Negative'\n",
    "\n"
   ]
  },
  {
   "cell_type": "code",
   "execution_count": 3,
   "id": "ee2801e8",
   "metadata": {
    "pycharm": {
     "name": "#%%\n"
    }
   },
   "outputs": [
    {
     "data": {
      "text/plain": [
       "(4, 5, 6)"
      ]
     },
     "execution_count": 3,
     "metadata": {},
     "output_type": "execute_result"
    }
   ],
   "source": [
    "#元祖 是一个固定长度，不可改变的Python序列对象\n",
    "tup = 4,5,6\n",
    "tup"
   ]
  },
  {
   "cell_type": "code",
   "execution_count": 4,
   "id": "76e3f535",
   "metadata": {
    "pycharm": {
     "name": "#%%\n"
    }
   },
   "outputs": [
    {
     "data": {
      "text/plain": [
       "((4, 5, 6), (7, 8))"
      ]
     },
     "execution_count": 4,
     "metadata": {},
     "output_type": "execute_result"
    }
   ],
   "source": [
    "#当使用复杂元组最好放括号\n",
    "nest_up = (4,5,6),(7,8)\n",
    "nest_up"
   ]
  },
  {
   "cell_type": "code",
   "execution_count": 7,
   "id": "76e6167c",
   "metadata": {
    "pycharm": {
     "name": "#%%\n"
    }
   },
   "outputs": [
    {
     "data": {
      "text/plain": [
       "(1, 2, 3)"
      ]
     },
     "execution_count": 7,
     "metadata": {},
     "output_type": "execute_result"
    }
   ],
   "source": [
    "#tuple 可以将任意序列转成元组\n",
    "list = [1,2,3]\n",
    "tup_list = tuple(list)\n",
    "tup_list"
   ]
  },
  {
   "cell_type": "code",
   "execution_count": 9,
   "id": "836849a5",
   "metadata": {
    "pycharm": {
     "name": "#%%\n"
    }
   },
   "outputs": [
    {
     "data": {
      "text/plain": [
       "'s'"
      ]
     },
     "execution_count": 9,
     "metadata": {},
     "output_type": "execute_result"
    }
   ],
   "source": [
    "#可以将任意序列或迭代转换成元组\n",
    "tup = tuple(\"string\")\n",
    "tup[0]"
   ]
  },
  {
   "cell_type": "code",
   "execution_count": 12,
   "id": "8323778b",
   "metadata": {
    "pycharm": {
     "name": "#%%\n"
    }
   },
   "outputs": [
    {
     "data": {
      "text/plain": [
       "(1, 2, 3, 4)"
      ]
     },
     "execution_count": 12,
     "metadata": {},
     "output_type": "execute_result"
    }
   ],
   "source": [
    "#元组相加\n",
    "(1,2) + (3,4)\n"
   ]
  },
  {
   "cell_type": "code",
   "execution_count": 13,
   "id": "3c4c00ec",
   "metadata": {
    "pycharm": {
     "name": "#%%\n"
    }
   },
   "outputs": [
    {
     "data": {
      "text/plain": [
       "('foo', 'bar', 'foo', 'bar', 'foo', 'bar', 'foo', 'bar')"
      ]
     },
     "execution_count": 13,
     "metadata": {},
     "output_type": "execute_result"
    }
   ],
   "source": [
    "#元组相乘\n",
    "(\"foo\",\"bar\") * 4"
   ]
  },
  {
   "cell_type": "code",
   "execution_count": 15,
   "id": "5f374d11",
   "metadata": {
    "pycharm": {
     "name": "#%%\n"
    }
   },
   "outputs": [
    {
     "data": {
      "text/plain": [
       "(4, 5, 6)"
      ]
     },
     "execution_count": 15,
     "metadata": {},
     "output_type": "execute_result"
    }
   ],
   "source": [
    "tup = (4,5,6)\n",
    "a,b,c = tup\n",
    "a,b,c\n"
   ]
  },
  {
   "cell_type": "code",
   "execution_count": 1,
   "id": "692753e1",
   "metadata": {},
   "outputs": [
    {
     "data": {
      "text/plain": [
       "((4, 5, 6), (7, 8))"
      ]
     },
     "execution_count": 1,
     "metadata": {},
     "output_type": "execute_result"
    }
   ],
   "source": [
    "nest_tup = (4,5,6),(7,8)\n",
    "nest_tup"
   ]
  },
  {
   "cell_type": "code",
   "execution_count": 2,
   "id": "8d73639b",
   "metadata": {},
   "outputs": [
    {
     "data": {
      "text/plain": [
       "(4, 0, 2)"
      ]
     },
     "execution_count": 2,
     "metadata": {},
     "output_type": "execute_result"
    }
   ],
   "source": [
    "#tuple 可以将任意序列转换成元组\n",
    "tuple([4,0,2])"
   ]
  },
  {
   "cell_type": "code",
   "execution_count": 4,
   "id": "d5b49d76",
   "metadata": {},
   "outputs": [
    {
     "data": {
      "text/plain": [
       "'s'"
      ]
     },
     "execution_count": 4,
     "metadata": {},
     "output_type": "execute_result"
    }
   ],
   "source": [
    "tup = tuple('string')\n",
    "tup\n",
    "tup[0]"
   ]
  },
  {
   "cell_type": "code",
   "execution_count": 5,
   "id": "035b4870",
   "metadata": {},
   "outputs": [
    {
     "name": "stdout",
     "output_type": "stream",
     "text": [
      "a=1, b=2, c=3\n",
      "a=4, b=5, c=6\n",
      "a=7, b=8, c=9\n"
     ]
    }
   ],
   "source": [
    "#变量拆分常用迭代元组或列表序列\n",
    "seq = [(1,2,3),(4,5,6),(7,8,9)]\n",
    "for a, b, c in seq:\n",
    "    print('a={0}, b={1}, c={2}'.format(a, b, c))\n",
    "    "
   ]
  },
  {
   "cell_type": "code",
   "execution_count": 9,
   "id": "b75c7d95",
   "metadata": {},
   "outputs": [
    {
     "data": {
      "text/plain": [
       "((1, 2, 3), (4, 5, 6))"
      ]
     },
     "execution_count": 9,
     "metadata": {},
     "output_type": "execute_result"
    }
   ],
   "source": [
    "values = 1,2,3,4,5,6\n",
    "a,b, *rest = values\n",
    "a,b\n",
    "rest\n",
    "values = (1,2,3),(4,5,6),(7,8,9)\n",
    "a,b, * rest = values\n",
    "a, b\n"
   ]
  },
  {
   "cell_type": "code",
   "execution_count": 11,
   "id": "a3e590ad",
   "metadata": {},
   "outputs": [
    {
     "data": {
      "text/plain": [
       "6"
      ]
     },
     "execution_count": 11,
     "metadata": {},
     "output_type": "execute_result"
    }
   ],
   "source": [
    "#tuple方法\n",
    "#因为元组的大小和内容不能修改，其中一个很有用的就是count，它可以计算某个值出现频率\n",
    "a = (1,2,3,4,2,2,2,2,2,6)\n",
    "a.count(2)\n"
   ]
  },
  {
   "cell_type": "code",
   "execution_count": 14,
   "id": "cb223e97",
   "metadata": {},
   "outputs": [
    {
     "data": {
      "text/plain": [
       "['foo', 'Pokemon', 'zone']"
      ]
     },
     "execution_count": 14,
     "metadata": {},
     "output_type": "execute_result"
    }
   ],
   "source": [
    "#列表\n",
    "#与元组对比，列表长度可变，内容可以被修改\n",
    "a_list = [2,3,7,None]\n",
    "tup = ('foo','bar','zone')\n",
    "b_list = list(tup)\n",
    "b_list[1] = 'Pokemon'\n",
    "b_list\n"
   ]
  },
  {
   "cell_type": "code",
   "execution_count": 16,
   "id": "ee640239",
   "metadata": {},
   "outputs": [
    {
     "data": {
      "text/plain": [
       "[0, 1, 2, 3, 4, 5, 6, 7, 8, 9]"
      ]
     },
     "execution_count": 16,
     "metadata": {},
     "output_type": "execute_result"
    }
   ],
   "source": [
    "#迭代器 和 生产器\n",
    "gen = range(10)\n",
    "a_list = list(gen)\n",
    "a_list"
   ]
  },
  {
   "cell_type": "code",
   "execution_count": 18,
   "id": "714c23a8",
   "metadata": {},
   "outputs": [
    {
     "data": {
      "text/plain": [
       "[0, 1, 2, 3, 4, 5, 6, 7, 8, 9, 'aaaa']"
      ]
     },
     "execution_count": 18,
     "metadata": {},
     "output_type": "execute_result"
    }
   ],
   "source": [
    "#列表添加元素 append\n",
    "gen = range(10)\n",
    "a_list = list(gen)\n",
    "a_list.append('aaaa')\n",
    "a_list"
   ]
  },
  {
   "cell_type": "code",
   "execution_count": 19,
   "id": "fe767176",
   "metadata": {},
   "outputs": [
    {
     "data": {
      "text/plain": [
       "['aaaa', 0, 1, 2, 3, 4, 5, 6, 7, 8, 9]"
      ]
     },
     "execution_count": 19,
     "metadata": {},
     "output_type": "execute_result"
    }
   ],
   "source": [
    "#insert 插入指定位置\n",
    "a_list = list(range(10))\n",
    "a_list.insert(0,'aaaa')\n",
    "a_list\n",
    "#与append 相比 insert 耗时量大对后续元素必须内部迁移空间"
   ]
  },
  {
   "cell_type": "code",
   "execution_count": 21,
   "id": "a94f5506",
   "metadata": {},
   "outputs": [
    {
     "data": {
      "text/plain": [
       "[0, 1, 3, 4, 5, 6, 7, 8, 9]"
      ]
     },
     "execution_count": 21,
     "metadata": {},
     "output_type": "execute_result"
    }
   ],
   "source": [
    "#insert 的逆运算是pop，它移除并返回指定位置元素\n",
    "a_list = list(range(10))\n",
    "a_list.pop(2)\n",
    "a_list"
   ]
  },
  {
   "cell_type": "code",
   "execution_count": 24,
   "id": "a5fae8e8",
   "metadata": {},
   "outputs": [
    {
     "data": {
      "text/plain": [
       "['red', 'baz', 'dwarf', 'foo']"
      ]
     },
     "execution_count": 24,
     "metadata": {},
     "output_type": "execute_result"
    }
   ],
   "source": [
    "b_list = ['foo','red','baz','dwarf']\n",
    "b_list.append('foo')\n",
    "b_list.remove('foo')\n",
    "b_list"
   ]
  },
  {
   "cell_type": "code",
   "execution_count": 25,
   "id": "c1750c59",
   "metadata": {},
   "outputs": [
    {
     "data": {
      "text/plain": [
       "True"
      ]
     },
     "execution_count": 25,
     "metadata": {},
     "output_type": "execute_result"
    }
   ],
   "source": [
    "'dwarf' in b_list"
   ]
  },
  {
   "cell_type": "code",
   "execution_count": 26,
   "id": "bda5a665",
   "metadata": {},
   "outputs": [
    {
     "data": {
      "text/plain": [
       "False"
      ]
     },
     "execution_count": 26,
     "metadata": {},
     "output_type": "execute_result"
    }
   ],
   "source": [
    "'dwarf' not in b_list\n",
    "#在列表中检查是否存在某个值远比字典和集合速度慢"
   ]
  },
  {
   "cell_type": "code",
   "execution_count": 27,
   "id": "349fc58c",
   "metadata": {},
   "outputs": [
    {
     "data": {
      "text/plain": [
       "[1, 2, 3, 4, 'a', 'b', 'c']"
      ]
     },
     "execution_count": 27,
     "metadata": {},
     "output_type": "execute_result"
    }
   ],
   "source": [
    "[1,2,3,4] +['a','b','c']\n"
   ]
  },
  {
   "cell_type": "code",
   "execution_count": 30,
   "id": "e7dba2ab",
   "metadata": {},
   "outputs": [
    {
     "data": {
      "text/plain": [
       "[4, 'fpx', 'rng', 'edg', 'we']"
      ]
     },
     "execution_count": 30,
     "metadata": {},
     "output_type": "execute_result"
    }
   ],
   "source": [
    "#extend 方法可以追加多个元素\n",
    "x = [4,'fpx','rng']\n",
    "x.extend(['edg','we'])\n",
    "x\n"
   ]
  },
  {
   "cell_type": "code",
   "execution_count": 31,
   "id": "99651ddb",
   "metadata": {},
   "outputs": [
    {
     "ename": "NameError",
     "evalue": "name 'list_of_lists' is not defined",
     "output_type": "error",
     "traceback": [
      "\u001b[1;31m---------------------------------------------------------------------------\u001b[0m",
      "\u001b[1;31mNameError\u001b[0m                                 Traceback (most recent call last)",
      "Input \u001b[1;32mIn [31]\u001b[0m, in \u001b[0;36m<cell line: 3>\u001b[1;34m()\u001b[0m\n\u001b[0;32m      1\u001b[0m \u001b[38;5;66;03m#通过加法将列表串联计算量较大，用extend 追加更为可取\u001b[39;00m\n\u001b[0;32m      2\u001b[0m everything \u001b[38;5;241m=\u001b[39m []\n\u001b[1;32m----> 3\u001b[0m \u001b[38;5;28;01mfor\u001b[39;00m chunk \u001b[38;5;129;01min\u001b[39;00m \u001b[43mlist_of_lists\u001b[49m:\n\u001b[0;32m      4\u001b[0m     everything\u001b[38;5;241m.\u001b[39mextend(chunk)\n",
      "\u001b[1;31mNameError\u001b[0m: name 'list_of_lists' is not defined"
     ]
    }
   ],
   "source": [
    "#通过加法将列表串联计算量较大，用extend 追加更为可取\n",
    "# everything = []\n",
    "# for chunk in list_of_lists:\n",
    "#     everything.extend(chunk)"
   ]
  },
  {
   "cell_type": "code",
   "execution_count": 32,
   "id": "c1d3343f",
   "metadata": {},
   "outputs": [
    {
     "data": {
      "text/plain": [
       "[2, 5, 7, 9, 10, 19]"
      ]
     },
     "execution_count": 32,
     "metadata": {},
     "output_type": "execute_result"
    }
   ],
   "source": [
    "#排序，你可以用sort 函数将一个列表原地排序\n",
    "a = [7,2,5,9,19,10]\n",
    "a.sort()\n",
    "a"
   ]
  },
  {
   "cell_type": "code",
   "execution_count": 33,
   "id": "dc4e665f",
   "metadata": {},
   "outputs": [
    {
     "data": {
      "text/plain": [
       "['he', 'saw', 'six', 'small', 'foxes']"
      ]
     },
     "execution_count": 33,
     "metadata": {},
     "output_type": "execute_result"
    }
   ],
   "source": [
    "b = ['saw','small','he','foxes','six']\n",
    "b.sort(key = len)\n",
    "b"
   ]
  },
  {
   "cell_type": "code",
   "execution_count": 3,
   "id": "6de1c8d6",
   "metadata": {},
   "outputs": [
    {
     "data": {
      "text/plain": [
       "[1, 2, 2, 2, 2, 3, 4, 6, 7]"
      ]
     },
     "execution_count": 3,
     "metadata": {},
     "output_type": "execute_result"
    }
   ],
   "source": [
    "import bisect\n",
    "c = [1,2,2,2,2,3,4,7]\n",
    "bisect.bisect(c,2)\n",
    "bisect.insort(c,6)\n",
    "c"
   ]
  },
  {
   "cell_type": "code",
   "execution_count": 4,
   "id": "8cbb4f5f",
   "metadata": {},
   "outputs": [
    {
     "data": {
      "text/plain": [
       "[2, 3, 4, 5]"
      ]
     },
     "execution_count": 4,
     "metadata": {},
     "output_type": "execute_result"
    }
   ],
   "source": [
    "#切片 切片基本形式是：start:stop\n",
    "seq = [7,2,3,4,5,6,0,1]\n",
    "seq[1:5]"
   ]
  },
  {
   "cell_type": "code",
   "execution_count": 7,
   "id": "bdda9189",
   "metadata": {},
   "outputs": [
    {
     "data": {
      "text/plain": [
       "[7, 2, 3, 4, 5]"
      ]
     },
     "execution_count": 7,
     "metadata": {},
     "output_type": "execute_result"
    }
   ],
   "source": [
    "#切片的起始元素是包括的，不包含结束元素\n",
    "#start:stop 是可以省略的\n",
    "seq[:5]"
   ]
  },
  {
   "cell_type": "code",
   "execution_count": 12,
   "id": "4a8625f6",
   "metadata": {},
   "outputs": [
    {
     "data": {
      "text/plain": [
       "[0, 1]"
      ]
     },
     "execution_count": 12,
     "metadata": {},
     "output_type": "execute_result"
    }
   ],
   "source": [
    "#负数表示从后向前切\n",
    "seq[-2:]"
   ]
  },
  {
   "cell_type": "code",
   "execution_count": 17,
   "id": "dc2664ae",
   "metadata": {},
   "outputs": [
    {
     "data": {
      "text/plain": [
       "[]"
      ]
     },
     "execution_count": 17,
     "metadata": {},
     "output_type": "execute_result"
    }
   ],
   "source": [
    "seq[-1:0]"
   ]
  },
  {
   "cell_type": "code",
   "execution_count": 19,
   "id": "a4fc0d6b",
   "metadata": {},
   "outputs": [
    {
     "data": {
      "text/plain": [
       "[7, 3, 5, 0]"
      ]
     },
     "execution_count": 19,
     "metadata": {},
     "output_type": "execute_result"
    }
   ],
   "source": [
    "#在第二个冒号使用step，可以隔一个取一个\n",
    "seq[::2]"
   ]
  },
  {
   "cell_type": "code",
   "execution_count": 20,
   "id": "bbeb7ae8",
   "metadata": {},
   "outputs": [
    {
     "data": {
      "text/plain": [
       "[1, 0, 6, 5, 4, 3, 2, 7]"
      ]
     },
     "execution_count": 20,
     "metadata": {},
     "output_type": "execute_result"
    }
   ],
   "source": [
    "#一个聪明方法使用-1，它可以将列表颠倒过来\n",
    "seq[::-1]"
   ]
  },
  {
   "cell_type": "code",
   "execution_count": 21,
   "id": "3a40c453",
   "metadata": {},
   "outputs": [],
   "source": [
    "#迭代一个序列\n",
    "collection = [1,2,3,4,5,6,7,0]\n",
    "i = 0\n",
    "for value in collection:\n",
    "    i += 1"
   ]
  },
  {
   "cell_type": "markdown",
   "id": "d59db22c",
   "metadata": {},
   "source": [
    "python 内建了一个函数enumerate可以返回(i,value)"
   ]
  },
  {
   "cell_type": "code",
   "execution_count": 23,
   "id": "e606237e",
   "metadata": {},
   "outputs": [
    {
     "name": "stdout",
     "output_type": "stream",
     "text": [
      "i=0,value=1\n",
      "i=1,value=2\n",
      "i=2,value=3\n",
      "i=3,value=4\n",
      "i=4,value=5\n",
      "i=5,value=6\n",
      "i=6,value=7\n",
      "i=7,value=0\n"
     ]
    }
   ],
   "source": [
    "for i, value in enumerate(collection):\n",
    "    print(\"i={0},value={1}\".format(i,value))"
   ]
  },
  {
   "cell_type": "markdown",
   "id": "8aebfd53",
   "metadata": {},
   "source": [
    "当你索引数据时，使用enumerate 的一个好方法是计算序列 dict 映射到位置值"
   ]
  },
  {
   "cell_type": "code",
   "execution_count": 24,
   "id": "bc36d6f1",
   "metadata": {},
   "outputs": [
    {
     "data": {
      "text/plain": [
       "{'football': 0, 'basketball': 1, 'batminton': 2}"
      ]
     },
     "execution_count": 24,
     "metadata": {},
     "output_type": "execute_result"
    }
   ],
   "source": [
    "some_list = ['football','basketball','batminton']\n",
    "mapping = {}\n",
    "for i, v in enumerate(some_list):\n",
    "    mapping[v] = i\n",
    "mapping"
   ]
  },
  {
   "cell_type": "markdown",
   "id": "e2f6bc78",
   "metadata": {},
   "source": [
    "sorted 函数可以从任意序列的元素返回一个新排好序的列表"
   ]
  },
  {
   "cell_type": "code",
   "execution_count": 25,
   "id": "96755eee",
   "metadata": {},
   "outputs": [
    {
     "data": {
      "text/plain": [
       "[1, 1, 2, 3, 3, 7, 56, 67]"
      ]
     },
     "execution_count": 25,
     "metadata": {},
     "output_type": "execute_result"
    }
   ],
   "source": [
    "sorted([7,1,2,3,1,3,67,56])"
   ]
  },
  {
   "cell_type": "code",
   "execution_count": 28,
   "id": "63bde4a2",
   "metadata": {},
   "outputs": [
    {
     "data": {
      "text/plain": [
       "['e', 'h', 'o', 'r', 's']"
      ]
     },
     "execution_count": 28,
     "metadata": {},
     "output_type": "execute_result"
    }
   ],
   "source": [
    "sorted('horse')"
   ]
  },
  {
   "cell_type": "markdown",
   "id": "4aa164af",
   "metadata": {},
   "source": [
    "zip 可以将多个列表，元组或其他序列组成一个元组列表"
   ]
  },
  {
   "cell_type": "code",
   "execution_count": 32,
   "id": "bb38f471",
   "metadata": {},
   "outputs": [
    {
     "data": {
      "text/plain": [
       "[('happy', 'kobe'), ('bear', 'kourou'), ('chips', 'little')]"
      ]
     },
     "execution_count": 32,
     "metadata": {},
     "output_type": "execute_result"
    }
   ],
   "source": [
    "seq_1 = ['happy','bear','chips']\n",
    "seq_2 = ['kobe', 'kourou','little']\n",
    "seq_zip = zip(seq_1,seq_2)\n",
    "seq_zip\n",
    "list(seq_zip)"
   ]
  },
  {
   "cell_type": "markdown",
   "id": "78d1ee3a",
   "metadata": {},
   "source": [
    "zip可以处理任意多的序列，元素最决于最短那个"
   ]
  },
  {
   "cell_type": "code",
   "execution_count": 35,
   "id": "b7f24cbd",
   "metadata": {},
   "outputs": [
    {
     "data": {
      "text/plain": [
       "<zip at 0x1c9dcf56c00>"
      ]
     },
     "execution_count": 35,
     "metadata": {},
     "output_type": "execute_result"
    }
   ],
   "source": [
    "seq_3 = [True,False]\n",
    "seq_zip = zip(seq_1,seq_2,seq_3)\n",
    "tuple(seq_zip)\n",
    "seq_zip"
   ]
  }
 ],
 "metadata": {
  "kernelspec": {
   "display_name": "Python 3.9.12 ('base')",
   "language": "python",
   "name": "python3"
  },
  "language_info": {
   "codemirror_mode": {
    "name": "ipython",
    "version": 3
   },
   "file_extension": ".py",
   "mimetype": "text/x-python",
   "name": "python",
   "nbconvert_exporter": "python",
   "pygments_lexer": "ipython3",
   "version": "3.9.12"
  },
  "vscode": {
   "interpreter": {
    "hash": "74676c5a11183895e3609f8173225bfe0ea9bf792f2206eefbd5c07a799d1d16"
   }
  }
 },
 "nbformat": 4,
 "nbformat_minor": 5
}

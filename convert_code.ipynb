{
 "cells": [
  {
   "cell_type": "code",
   "execution_count": null,
   "id": "6751bb12",
   "metadata": {},
   "outputs": [
    {
     "name": "stdout",
     "output_type": "stream",
     "text": [
      "成功将 data/source/kj_pzjk_05.csv 转换为 ANSI 编码，保存为 data/target/kj_pzjk_05.csv\n"
     ]
    }
   ],
   "source": [
    "import pandas as pd\n",
    "import sys\n",
    "\n",
    "def convert_csv_utf_to_ansi(input_file, output_file):\n",
    "    try:\n",
    "        # 读取 UTF-8 编码的 CSV 文件\n",
    "        df = pd.read_csv(input_file, encoding='utf-8')\n",
    "        \n",
    "        # 将数据保存为 ANSI (Windows-1252) 编码的 CSV 文件\n",
    "        # 使用 errors='replace' 来替换无法编码的字符\n",
    "        df.to_csv(output_file, encoding='', errors='replace', index=False)\n",
    "        print(f\"成功将 {input_file} 转换为 ANSI 编码，保存为 {output_file}\")\n",
    "        \n",
    "    except FileNotFoundError:\n",
    "        print(f\"错误：找不到输入文件 {input_file}\")\n",
    "    except UnicodeEncodeError as e:\n",
    "        print(f\"编码错误：无法将某些字符转换为 ANSI 编码 - {str(e)}\")\n",
    "        print(\"已将无法编码的字符替换为替代字符\")\n",
    "    except Exception as e:\n",
    "        print(f\"转换过程中发生错误：{str(e)}\")\n",
    "\n",
    "convert_csv_utf_to_ansi('data/source/kj_pzjk_05.csv','data/target/kj_pzjk_05.csv')"
   ]
  },
  {
   "cell_type": "code",
   "execution_count": 5,
   "id": "d81b9528",
   "metadata": {},
   "outputs": [
    {
     "name": "stdout",
     "output_type": "stream",
     "text": [
      "成功将 data/source/kj_pzjk_06.csv 转换为 ANSI 编码，保存为 data/target/kj_pzjk_06.csv\n"
     ]
    }
   ],
   "source": [
    "convert_csv_utf_to_ansi('data/source/kj_pzjk_06.csv','data/target/kj_pzjk_06.csv')"
   ]
  },
  {
   "cell_type": "code",
   "execution_count": 6,
   "id": "62469290",
   "metadata": {},
   "outputs": [
    {
     "name": "stdout",
     "output_type": "stream",
     "text": [
      "成功将 data/source/kj_pzjk_07.csv 转换为 ANSI 编码，保存为 data/target/kj_pzjk_07.csv\n"
     ]
    }
   ],
   "source": [
    "convert_csv_utf_to_ansi('data/source/kj_pzjk_07.csv','data/target/kj_pzjk_07.csv')"
   ]
  },
  {
   "cell_type": "code",
   "execution_count": 7,
   "id": "40d22658",
   "metadata": {},
   "outputs": [
    {
     "name": "stdout",
     "output_type": "stream",
     "text": [
      "成功将 data/source/kj_pzjk_08.csv 转换为 ANSI 编码，保存为 data/target/kj_pzjk_08.csv\n"
     ]
    }
   ],
   "source": [
    "convert_csv_utf_to_ansi('data/source/kj_pzjk_08.csv','data/target/kj_pzjk_08.csv')"
   ]
  },
  {
   "cell_type": "code",
   "execution_count": 8,
   "id": "26815190",
   "metadata": {},
   "outputs": [
    {
     "name": "stdout",
     "output_type": "stream",
     "text": [
      "成功将 data/source/kj_pzjk_09.csv 转换为 ANSI 编码，保存为 data/target/kj_pzjk_09.csv\n"
     ]
    }
   ],
   "source": [
    "convert_csv_utf_to_ansi('data/source/kj_pzjk_09.csv','data/target/kj_pzjk_09.csv')"
   ]
  },
  {
   "cell_type": "code",
   "execution_count": 9,
   "id": "4c4070ca",
   "metadata": {},
   "outputs": [
    {
     "name": "stdout",
     "output_type": "stream",
     "text": [
      "成功将 data/source/kj_pzjk_10.csv 转换为 ANSI 编码，保存为 data/target/kj_pzjk_10.csv\n"
     ]
    }
   ],
   "source": [
    "convert_csv_utf_to_ansi('data/source/kj_pzjk_10.csv','data/target/kj_pzjk_10.csv')"
   ]
  },
  {
   "cell_type": "code",
   "execution_count": 10,
   "id": "af663b50",
   "metadata": {},
   "outputs": [
    {
     "name": "stdout",
     "output_type": "stream",
     "text": [
      "成功将 data/source/kj_pzjk_11.csv 转换为 ANSI 编码，保存为 data/target/kj_pzjk_11.csv\n"
     ]
    }
   ],
   "source": [
    "convert_csv_utf_to_ansi('data/source/kj_pzjk_11.csv','data/target/kj_pzjk_11.csv')"
   ]
  },
  {
   "cell_type": "code",
   "execution_count": 11,
   "id": "c2cd5826",
   "metadata": {},
   "outputs": [
    {
     "name": "stderr",
     "output_type": "stream",
     "text": [
      "C:\\Users\\zhiye\\AppData\\Local\\Temp\\ipykernel_45948\\1629647313.py:7: DtypeWarning: Columns (9) have mixed types. Specify dtype option on import or set low_memory=False.\n",
      "  df = pd.read_csv(input_file, encoding='utf-8')\n"
     ]
    },
    {
     "name": "stdout",
     "output_type": "stream",
     "text": [
      "成功将 data/source/kj_pzjk_12.csv 转换为 ANSI 编码，保存为 data/target/kj_pzjk_12.csv\n"
     ]
    }
   ],
   "source": [
    "convert_csv_utf_to_ansi('data/source/kj_pzjk_12.csv','data/target/kj_pzjk_12.csv')"
   ]
  }
 ],
 "metadata": {
  "kernelspec": {
   "display_name": "ThinkStats",
   "language": "python",
   "name": "python3"
  },
  "language_info": {
   "codemirror_mode": {
    "name": "ipython",
    "version": 3
   },
   "file_extension": ".py",
   "mimetype": "text/x-python",
   "name": "python",
   "nbconvert_exporter": "python",
   "pygments_lexer": "ipython3",
   "version": "3.10.18"
  }
 },
 "nbformat": 4,
 "nbformat_minor": 5
}

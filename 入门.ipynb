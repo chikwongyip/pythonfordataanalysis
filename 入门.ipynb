{
 "cells": [
  {
   "cell_type": "code",
   "execution_count": 1,
   "outputs": [],
   "source": [
    "import numpy as np"
   ],
   "metadata": {
    "collapsed": false,
    "ExecuteTime": {
     "end_time": "2024-05-22T22:11:16.722952Z",
     "start_time": "2024-05-22T22:11:15.755531Z"
    }
   },
   "id": "eefbe636a8582060"
  },
  {
   "cell_type": "code",
   "execution_count": 2,
   "outputs": [],
   "source": [
    "import pandas as pd"
   ],
   "metadata": {
    "collapsed": false,
    "ExecuteTime": {
     "end_time": "2024-05-22T22:11:16.724595Z",
     "start_time": "2024-05-22T22:11:15.897374Z"
    }
   },
   "id": "11455ff1386383e0"
  },
  {
   "cell_type": "code",
   "execution_count": 3,
   "outputs": [
    {
     "data": {
      "text/plain": "'2.1.4'"
     },
     "execution_count": 3,
     "metadata": {},
     "output_type": "execute_result"
    }
   ],
   "source": [
    "pd.__version__"
   ],
   "metadata": {
    "collapsed": false,
    "ExecuteTime": {
     "end_time": "2024-05-22T22:11:16.775047Z",
     "start_time": "2024-05-22T22:11:16.185112Z"
    }
   },
   "id": "7d5a1b906423d9e5"
  },
  {
   "cell_type": "code",
   "execution_count": 4,
   "outputs": [],
   "source": [
    "data = {'animal': ['cat', 'cat', 'snake', 'dog', 'dog', 'cat', 'snake', 'cat', 'dog', 'dog'],\n",
    "        'age': [2.5, 3, 0.5, np.nan, 5, 2, 4.5, np.nan, 7, 3],\n",
    "        'visits': [1, 3, 2, 3, 2, 3, 1, 1, 2, 1],\n",
    "        'priority': ['yes', 'yes', 'no', 'yes', 'no', 'no', 'no', 'yes', 'no', 'no']}\n",
    "labels = ['a', 'b', 'c', 'd', 'e', 'f', 'g', 'h', 'i', 'j']"
   ],
   "metadata": {
    "collapsed": false,
    "ExecuteTime": {
     "end_time": "2024-05-22T22:11:16.792787Z",
     "start_time": "2024-05-22T22:11:16.189151Z"
    }
   },
   "id": "2f1df613a16d3149"
  },
  {
   "cell_type": "code",
   "execution_count": 5,
   "outputs": [
    {
     "data": {
      "text/plain": "{'animal': ['cat',\n  'cat',\n  'snake',\n  'dog',\n  'dog',\n  'cat',\n  'snake',\n  'cat',\n  'dog',\n  'dog'],\n 'age': [2.5, 3, 0.5, nan, 5, 2, 4.5, nan, 7, 3],\n 'visits': [1, 3, 2, 3, 2, 3, 1, 1, 2, 1],\n 'priority': ['yes', 'yes', 'no', 'yes', 'no', 'no', 'no', 'yes', 'no', 'no']}"
     },
     "execution_count": 5,
     "metadata": {},
     "output_type": "execute_result"
    }
   ],
   "source": [
    "data"
   ],
   "metadata": {
    "collapsed": false,
    "ExecuteTime": {
     "end_time": "2024-05-22T22:11:16.793229Z",
     "start_time": "2024-05-22T22:11:16.191502Z"
    }
   },
   "id": "c7704624f3319a60"
  },
  {
   "cell_type": "code",
   "execution_count": 6,
   "outputs": [],
   "source": [
    "df = pd.DataFrame(data, index=labels)"
   ],
   "metadata": {
    "collapsed": false,
    "ExecuteTime": {
     "end_time": "2024-05-22T22:11:16.793339Z",
     "start_time": "2024-05-22T22:11:16.196207Z"
    }
   },
   "id": "be3eea2a68c4a5f9"
  },
  {
   "cell_type": "code",
   "execution_count": 7,
   "outputs": [
    {
     "data": {
      "text/plain": "  animal  age  visits priority\na    cat  2.5       1      yes\nb    cat  3.0       3      yes\nc  snake  0.5       2       no\nd    dog  NaN       3      yes\ne    dog  5.0       2       no\nf    cat  2.0       3       no\ng  snake  4.5       1       no\nh    cat  NaN       1      yes\ni    dog  7.0       2       no\nj    dog  3.0       1       no",
      "text/html": "<div>\n<style scoped>\n    .dataframe tbody tr th:only-of-type {\n        vertical-align: middle;\n    }\n\n    .dataframe tbody tr th {\n        vertical-align: top;\n    }\n\n    .dataframe thead th {\n        text-align: right;\n    }\n</style>\n<table border=\"1\" class=\"dataframe\">\n  <thead>\n    <tr style=\"text-align: right;\">\n      <th></th>\n      <th>animal</th>\n      <th>age</th>\n      <th>visits</th>\n      <th>priority</th>\n    </tr>\n  </thead>\n  <tbody>\n    <tr>\n      <th>a</th>\n      <td>cat</td>\n      <td>2.5</td>\n      <td>1</td>\n      <td>yes</td>\n    </tr>\n    <tr>\n      <th>b</th>\n      <td>cat</td>\n      <td>3.0</td>\n      <td>3</td>\n      <td>yes</td>\n    </tr>\n    <tr>\n      <th>c</th>\n      <td>snake</td>\n      <td>0.5</td>\n      <td>2</td>\n      <td>no</td>\n    </tr>\n    <tr>\n      <th>d</th>\n      <td>dog</td>\n      <td>NaN</td>\n      <td>3</td>\n      <td>yes</td>\n    </tr>\n    <tr>\n      <th>e</th>\n      <td>dog</td>\n      <td>5.0</td>\n      <td>2</td>\n      <td>no</td>\n    </tr>\n    <tr>\n      <th>f</th>\n      <td>cat</td>\n      <td>2.0</td>\n      <td>3</td>\n      <td>no</td>\n    </tr>\n    <tr>\n      <th>g</th>\n      <td>snake</td>\n      <td>4.5</td>\n      <td>1</td>\n      <td>no</td>\n    </tr>\n    <tr>\n      <th>h</th>\n      <td>cat</td>\n      <td>NaN</td>\n      <td>1</td>\n      <td>yes</td>\n    </tr>\n    <tr>\n      <th>i</th>\n      <td>dog</td>\n      <td>7.0</td>\n      <td>2</td>\n      <td>no</td>\n    </tr>\n    <tr>\n      <th>j</th>\n      <td>dog</td>\n      <td>3.0</td>\n      <td>1</td>\n      <td>no</td>\n    </tr>\n  </tbody>\n</table>\n</div>"
     },
     "execution_count": 7,
     "metadata": {},
     "output_type": "execute_result"
    }
   ],
   "source": [
    "df"
   ],
   "metadata": {
    "collapsed": false,
    "ExecuteTime": {
     "end_time": "2024-05-22T22:11:16.794802Z",
     "start_time": "2024-05-22T22:11:16.201547Z"
    }
   },
   "id": "826f99e6c5eceb31"
  },
  {
   "cell_type": "code",
   "execution_count": 8,
   "outputs": [],
   "source": [
    "df1 = pd.DataFrame(data)"
   ],
   "metadata": {
    "collapsed": false,
    "ExecuteTime": {
     "end_time": "2024-05-22T22:11:16.795035Z",
     "start_time": "2024-05-22T22:11:16.216007Z"
    }
   },
   "id": "3eba4688ce675778"
  },
  {
   "cell_type": "code",
   "execution_count": 9,
   "outputs": [
    {
     "data": {
      "text/plain": "  animal  age  visits priority\n0    cat  2.5       1      yes\n1    cat  3.0       3      yes\n2  snake  0.5       2       no\n3    dog  NaN       3      yes\n4    dog  5.0       2       no\n5    cat  2.0       3       no\n6  snake  4.5       1       no\n7    cat  NaN       1      yes\n8    dog  7.0       2       no\n9    dog  3.0       1       no",
      "text/html": "<div>\n<style scoped>\n    .dataframe tbody tr th:only-of-type {\n        vertical-align: middle;\n    }\n\n    .dataframe tbody tr th {\n        vertical-align: top;\n    }\n\n    .dataframe thead th {\n        text-align: right;\n    }\n</style>\n<table border=\"1\" class=\"dataframe\">\n  <thead>\n    <tr style=\"text-align: right;\">\n      <th></th>\n      <th>animal</th>\n      <th>age</th>\n      <th>visits</th>\n      <th>priority</th>\n    </tr>\n  </thead>\n  <tbody>\n    <tr>\n      <th>0</th>\n      <td>cat</td>\n      <td>2.5</td>\n      <td>1</td>\n      <td>yes</td>\n    </tr>\n    <tr>\n      <th>1</th>\n      <td>cat</td>\n      <td>3.0</td>\n      <td>3</td>\n      <td>yes</td>\n    </tr>\n    <tr>\n      <th>2</th>\n      <td>snake</td>\n      <td>0.5</td>\n      <td>2</td>\n      <td>no</td>\n    </tr>\n    <tr>\n      <th>3</th>\n      <td>dog</td>\n      <td>NaN</td>\n      <td>3</td>\n      <td>yes</td>\n    </tr>\n    <tr>\n      <th>4</th>\n      <td>dog</td>\n      <td>5.0</td>\n      <td>2</td>\n      <td>no</td>\n    </tr>\n    <tr>\n      <th>5</th>\n      <td>cat</td>\n      <td>2.0</td>\n      <td>3</td>\n      <td>no</td>\n    </tr>\n    <tr>\n      <th>6</th>\n      <td>snake</td>\n      <td>4.5</td>\n      <td>1</td>\n      <td>no</td>\n    </tr>\n    <tr>\n      <th>7</th>\n      <td>cat</td>\n      <td>NaN</td>\n      <td>1</td>\n      <td>yes</td>\n    </tr>\n    <tr>\n      <th>8</th>\n      <td>dog</td>\n      <td>7.0</td>\n      <td>2</td>\n      <td>no</td>\n    </tr>\n    <tr>\n      <th>9</th>\n      <td>dog</td>\n      <td>3.0</td>\n      <td>1</td>\n      <td>no</td>\n    </tr>\n  </tbody>\n</table>\n</div>"
     },
     "execution_count": 9,
     "metadata": {},
     "output_type": "execute_result"
    }
   ],
   "source": [
    "df1"
   ],
   "metadata": {
    "collapsed": false,
    "ExecuteTime": {
     "end_time": "2024-05-22T22:11:16.795659Z",
     "start_time": "2024-05-22T22:11:16.220160Z"
    }
   },
   "id": "5cc30a16b9108ae5"
  },
  {
   "cell_type": "code",
   "execution_count": 10,
   "outputs": [
    {
     "data": {
      "text/plain": "<pandas.io.parsers.readers.TextFileReader at 0x118743ed0>"
     },
     "execution_count": 10,
     "metadata": {},
     "output_type": "execute_result"
    }
   ],
   "source": [
    "df = pd.read_csv('https://raw.githubusercontent.com/selva86/datasets/master/BostonHousing.csv', chunksize=50)\n",
    "df"
   ],
   "metadata": {
    "collapsed": false,
    "ExecuteTime": {
     "end_time": "2024-05-22T22:11:17.208278Z",
     "start_time": "2024-05-22T22:11:16.225051Z"
    }
   },
   "id": "c115d63f68da3abf"
  },
  {
   "cell_type": "code",
   "execution_count": 11,
   "outputs": [],
   "source": [
    "df = pd.DataFrame([[1,2],[3,4]])"
   ],
   "metadata": {
    "collapsed": false,
    "ExecuteTime": {
     "end_time": "2024-05-22T22:11:17.208549Z",
     "start_time": "2024-05-22T22:11:17.145640Z"
    }
   },
   "id": "9eecf7b94e464e9f"
  },
  {
   "cell_type": "code",
   "execution_count": 12,
   "outputs": [
    {
     "data": {
      "text/plain": "   0  1\n0  1  2\n1  3  4",
      "text/html": "<div>\n<style scoped>\n    .dataframe tbody tr th:only-of-type {\n        vertical-align: middle;\n    }\n\n    .dataframe tbody tr th {\n        vertical-align: top;\n    }\n\n    .dataframe thead th {\n        text-align: right;\n    }\n</style>\n<table border=\"1\" class=\"dataframe\">\n  <thead>\n    <tr style=\"text-align: right;\">\n      <th></th>\n      <th>0</th>\n      <th>1</th>\n    </tr>\n  </thead>\n  <tbody>\n    <tr>\n      <th>0</th>\n      <td>1</td>\n      <td>2</td>\n    </tr>\n    <tr>\n      <th>1</th>\n      <td>3</td>\n      <td>4</td>\n    </tr>\n  </tbody>\n</table>\n</div>"
     },
     "execution_count": 12,
     "metadata": {},
     "output_type": "execute_result"
    }
   ],
   "source": [
    "df"
   ],
   "metadata": {
    "collapsed": false,
    "ExecuteTime": {
     "end_time": "2024-05-22T22:11:17.209176Z",
     "start_time": "2024-05-22T22:11:17.149080Z"
    }
   },
   "id": "d587bde2f8f17cbc"
  },
  {
   "cell_type": "code",
   "execution_count": 13,
   "outputs": [
    {
     "ename": "AttributeError",
     "evalue": "'DataFrame' object has no attribute 'concat'",
     "output_type": "error",
     "traceback": [
      "\u001B[0;31m---------------------------------------------------------------------------\u001B[0m",
      "\u001B[0;31mAttributeError\u001B[0m                            Traceback (most recent call last)",
      "\u001B[0;32m/var/folders/gd/8y9x6hsx68q9nj6yn7hklxbh0000gn/T/ipykernel_50078/1865013573.py\u001B[0m in \u001B[0;36m?\u001B[0;34m()\u001B[0m\n\u001B[0;32m----> 1\u001B[0;31m \u001B[0mdf\u001B[0m\u001B[0;34m.\u001B[0m\u001B[0mconcat\u001B[0m\u001B[0;34m(\u001B[0m\u001B[0mdf\u001B[0m\u001B[0;34m)\u001B[0m\u001B[0;34m\u001B[0m\u001B[0;34m\u001B[0m\u001B[0m\n\u001B[0m",
      "\u001B[0;32m~/anaconda3/envs/data_anaylsis/lib/python3.11/site-packages/pandas/core/generic.py\u001B[0m in \u001B[0;36m?\u001B[0;34m(self, name)\u001B[0m\n\u001B[1;32m   6200\u001B[0m             \u001B[0;32mand\u001B[0m \u001B[0mname\u001B[0m \u001B[0;32mnot\u001B[0m \u001B[0;32min\u001B[0m \u001B[0mself\u001B[0m\u001B[0;34m.\u001B[0m\u001B[0m_accessors\u001B[0m\u001B[0;34m\u001B[0m\u001B[0;34m\u001B[0m\u001B[0m\n\u001B[1;32m   6201\u001B[0m             \u001B[0;32mand\u001B[0m \u001B[0mself\u001B[0m\u001B[0;34m.\u001B[0m\u001B[0m_info_axis\u001B[0m\u001B[0;34m.\u001B[0m\u001B[0m_can_hold_identifiers_and_holds_name\u001B[0m\u001B[0;34m(\u001B[0m\u001B[0mname\u001B[0m\u001B[0;34m)\u001B[0m\u001B[0;34m\u001B[0m\u001B[0;34m\u001B[0m\u001B[0m\n\u001B[1;32m   6202\u001B[0m         ):\n\u001B[1;32m   6203\u001B[0m             \u001B[0;32mreturn\u001B[0m \u001B[0mself\u001B[0m\u001B[0;34m[\u001B[0m\u001B[0mname\u001B[0m\u001B[0;34m]\u001B[0m\u001B[0;34m\u001B[0m\u001B[0;34m\u001B[0m\u001B[0m\n\u001B[0;32m-> 6204\u001B[0;31m         \u001B[0;32mreturn\u001B[0m \u001B[0mobject\u001B[0m\u001B[0;34m.\u001B[0m\u001B[0m__getattribute__\u001B[0m\u001B[0;34m(\u001B[0m\u001B[0mself\u001B[0m\u001B[0;34m,\u001B[0m \u001B[0mname\u001B[0m\u001B[0;34m)\u001B[0m\u001B[0;34m\u001B[0m\u001B[0;34m\u001B[0m\u001B[0m\n\u001B[0m",
      "\u001B[0;31mAttributeError\u001B[0m: 'DataFrame' object has no attribute 'concat'"
     ]
    }
   ],
   "source": [
    "df.concat(df)"
   ],
   "metadata": {
    "collapsed": false,
    "ExecuteTime": {
     "end_time": "2024-05-22T22:11:17.209668Z",
     "start_time": "2024-05-22T22:11:17.152048Z"
    }
   },
   "id": "8a223e5e61d49ee0"
  },
  {
   "cell_type": "code",
   "execution_count": null,
   "outputs": [],
   "source": [
    "df1 = pd.DataFrame([1,2,3,4,5,6],index=['a','b','c','d','e','f'],columns=['happy'])\n",
    "df1"
   ],
   "metadata": {
    "collapsed": false,
    "ExecuteTime": {
     "start_time": "2024-05-22T22:11:17.202536Z"
    }
   },
   "id": "7ed65a2c4bc78070"
  },
  {
   "cell_type": "code",
   "execution_count": null,
   "outputs": [],
   "source": [
    "df2 = pd.DataFrame([(1,2,3,4),(2,3,4,5)],index=['a','b'],columns=['col1','col2','col3','col4'])\n",
    "df2"
   ],
   "metadata": {
    "collapsed": false,
    "ExecuteTime": {
     "start_time": "2024-05-22T22:11:17.204047Z"
    }
   },
   "id": "5e572eb0839857e5"
  },
  {
   "cell_type": "markdown",
   "source": [
    "字典转换dataframe"
   ],
   "metadata": {
    "collapsed": false
   },
   "id": "bb21b0c5b799cb93"
  },
  {
   "cell_type": "code",
   "execution_count": null,
   "outputs": [],
   "source": [
    "data = {'a': [1, 2], 'b': [3, 4]}\n",
    "df1 = pd.DataFrame(data)\n",
    "df1"
   ],
   "metadata": {
    "collapsed": false,
    "ExecuteTime": {
     "start_time": "2024-05-22T22:11:17.205552Z"
    }
   },
   "id": "1ebd681c9a6b21e7"
  },
  {
   "cell_type": "code",
   "execution_count": null,
   "outputs": [],
   "source": [
    "data = {'people': [{'name': 'ck', 'age': 10},{'name': 'ck2', 'age': 10}]}\n",
    "data"
   ],
   "metadata": {
    "collapsed": false,
    "ExecuteTime": {
     "start_time": "2024-05-22T22:11:17.207277Z"
    }
   },
   "id": "5039335490c61524"
  },
  {
   "cell_type": "code",
   "execution_count": null,
   "outputs": [],
   "source": [
    "df2 = pd.DataFrame(data)\n",
    "df2"
   ],
   "metadata": {
    "collapsed": false,
    "ExecuteTime": {
     "start_time": "2024-05-22T22:11:17.209090Z"
    }
   },
   "id": "6b483a666fe55c0c"
  },
  {
   "cell_type": "code",
   "execution_count": 23,
   "outputs": [
    {
     "data": {
      "text/plain": "               color size       date  feature_1  feature_2\nclass country                                             \nA     JP       black    S 2019-01-06   1.007540   0.694028\nB     CN       white    M 2019-01-13  -0.402817   3.716323\n      US       black    L 2019-01-20  -0.046512   3.129162\n      US       white    M 2019-01-27   0.715755  -0.540841\nC     US       black    L 2019-02-03   1.564241   0.751161\nA     CN       white    S 2019-02-10  -1.093301  -2.318841\nB     CN       black    S 2019-02-17  -0.989124  -2.572446\nA     CA       white   XL 2019-02-24  -0.548505  -0.153491\nC     JP       black   XL 2019-03-03  -0.838982  -0.772322\n      CA       white    M 2019-03-10   0.033401   2.582309",
      "text/html": "<div>\n<style scoped>\n    .dataframe tbody tr th:only-of-type {\n        vertical-align: middle;\n    }\n\n    .dataframe tbody tr th {\n        vertical-align: top;\n    }\n\n    .dataframe thead th {\n        text-align: right;\n    }\n</style>\n<table border=\"1\" class=\"dataframe\">\n  <thead>\n    <tr style=\"text-align: right;\">\n      <th></th>\n      <th></th>\n      <th>color</th>\n      <th>size</th>\n      <th>date</th>\n      <th>feature_1</th>\n      <th>feature_2</th>\n    </tr>\n    <tr>\n      <th>class</th>\n      <th>country</th>\n      <th></th>\n      <th></th>\n      <th></th>\n      <th></th>\n      <th></th>\n    </tr>\n  </thead>\n  <tbody>\n    <tr>\n      <th>A</th>\n      <th>JP</th>\n      <td>black</td>\n      <td>S</td>\n      <td>2019-01-06</td>\n      <td>1.007540</td>\n      <td>0.694028</td>\n    </tr>\n    <tr>\n      <th rowspan=\"3\" valign=\"top\">B</th>\n      <th>CN</th>\n      <td>white</td>\n      <td>M</td>\n      <td>2019-01-13</td>\n      <td>-0.402817</td>\n      <td>3.716323</td>\n    </tr>\n    <tr>\n      <th>US</th>\n      <td>black</td>\n      <td>L</td>\n      <td>2019-01-20</td>\n      <td>-0.046512</td>\n      <td>3.129162</td>\n    </tr>\n    <tr>\n      <th>US</th>\n      <td>white</td>\n      <td>M</td>\n      <td>2019-01-27</td>\n      <td>0.715755</td>\n      <td>-0.540841</td>\n    </tr>\n    <tr>\n      <th>C</th>\n      <th>US</th>\n      <td>black</td>\n      <td>L</td>\n      <td>2019-02-03</td>\n      <td>1.564241</td>\n      <td>0.751161</td>\n    </tr>\n    <tr>\n      <th>A</th>\n      <th>CN</th>\n      <td>white</td>\n      <td>S</td>\n      <td>2019-02-10</td>\n      <td>-1.093301</td>\n      <td>-2.318841</td>\n    </tr>\n    <tr>\n      <th>B</th>\n      <th>CN</th>\n      <td>black</td>\n      <td>S</td>\n      <td>2019-02-17</td>\n      <td>-0.989124</td>\n      <td>-2.572446</td>\n    </tr>\n    <tr>\n      <th>A</th>\n      <th>CA</th>\n      <td>white</td>\n      <td>XL</td>\n      <td>2019-02-24</td>\n      <td>-0.548505</td>\n      <td>-0.153491</td>\n    </tr>\n    <tr>\n      <th rowspan=\"2\" valign=\"top\">C</th>\n      <th>JP</th>\n      <td>black</td>\n      <td>XL</td>\n      <td>2019-03-03</td>\n      <td>-0.838982</td>\n      <td>-0.772322</td>\n    </tr>\n    <tr>\n      <th>CA</th>\n      <td>white</td>\n      <td>M</td>\n      <td>2019-03-10</td>\n      <td>0.033401</td>\n      <td>2.582309</td>\n    </tr>\n  </tbody>\n</table>\n</div>"
     },
     "execution_count": 23,
     "metadata": {},
     "output_type": "execute_result"
    }
   ],
   "source": [
    "data_dict = {'color' : ['black', 'white', 'black', 'white', 'black',\n",
    "                      'white', 'black', 'white', 'black', 'white'],\n",
    "            'size' : ['S','M','L','M','L','S','S','XL','XL','M'],\n",
    "        'date':pd.date_range('1/1/2019',periods=10, freq='W' ),\n",
    "            'feature_1': np.random.randn(10),\n",
    "            'feature_2': np.random.normal(0.5, 2, 10)}\n",
    "array_index=[['A','B','B','B','C','A','B','A','C','C'],['JP','CN','US','US','US','CN','CN','CA','JP','CA']]\n",
    "                                                 \n",
    "index = pd.MultiIndex.from_arrays(array_index, names=['class', 'country'])\n",
    "data_df = pd.DataFrame(data_dict,index=index)\n",
    "data_df"
   ],
   "metadata": {
    "collapsed": false,
    "ExecuteTime": {
     "end_time": "2024-05-22T22:17:09.183820Z",
     "start_time": "2024-05-22T22:17:09.135823Z"
    }
   },
   "id": "5d2c3b771f4680d3"
  },
  {
   "cell_type": "code",
   "execution_count": null,
   "outputs": [],
   "source": [
    "group_by_size = data_df.groupby('size')"
   ],
   "metadata": {
    "collapsed": false,
    "ExecuteTime": {
     "start_time": "2024-05-22T22:11:17.221377Z"
    }
   },
   "id": "8c6b8c1741768507"
  },
  {
   "cell_type": "code",
   "execution_count": null,
   "outputs": [],
   "source": [
    "for i in list(group_by_size):\n",
    "        print(i)"
   ],
   "metadata": {
    "collapsed": false,
    "ExecuteTime": {
     "start_time": "2024-05-22T22:11:17.223010Z"
    }
   },
   "id": "42d42c47bc6e3965"
  },
  {
   "cell_type": "code",
   "execution_count": null,
   "outputs": [],
   "source": [
    "group_by_size.sum('feature_1').add_prefix('sum_')"
   ],
   "metadata": {
    "collapsed": false,
    "ExecuteTime": {
     "start_time": "2024-05-22T22:11:17.223724Z"
    }
   },
   "id": "16ebd41f4494d537"
  },
  {
   "cell_type": "code",
   "execution_count": null,
   "outputs": [],
   "source": [
    "group_by_size_date = data_df.groupby(['size','date'])"
   ],
   "metadata": {
    "collapsed": false,
    "ExecuteTime": {
     "start_time": "2024-05-22T22:11:17.224370Z"
    }
   },
   "id": "6f1beb9fad3c4b0e"
  },
  {
   "cell_type": "code",
   "execution_count": null,
   "outputs": [],
   "source": [
    "group_by_size_date.sum('feature_1').add_prefix('sum_')"
   ],
   "metadata": {
    "collapsed": false,
    "ExecuteTime": {
     "start_time": "2024-05-22T22:11:17.225012Z"
    }
   },
   "id": "3071228341a397be"
  },
  {
   "cell_type": "markdown",
   "source": [
    "利用预先设定的函数分组"
   ],
   "metadata": {
    "collapsed": false
   },
   "id": "ccf1185ea1b247ac"
  },
  {
   "cell_type": "code",
   "execution_count": null,
   "outputs": [],
   "source": [
    "def get_letter_type(letter):\n",
    "    if 'feature' in letter:\n",
    "        return 'feature'\n",
    "    else:\n",
    "        return 'other'\n",
    "for i in list(data_df.groupby(get_letter_type,axis=1)):\n",
    "    print(i)"
   ],
   "metadata": {
    "collapsed": false,
    "ExecuteTime": {
     "start_time": "2024-05-22T22:11:17.225752Z"
    }
   },
   "id": "c419ba4a1b666bd7"
  },
  {
   "cell_type": "markdown",
   "source": [
    "利用索引分组"
   ],
   "metadata": {
    "collapsed": false
   },
   "id": "bcbcc3de72b2f27f"
  },
  {
   "cell_type": "markdown",
   "source": [],
   "metadata": {
    "collapsed": false
   },
   "id": "b25e14f973cc2a22"
  },
  {
   "cell_type": "code",
   "execution_count": null,
   "outputs": [],
   "source": [
    "for i in list(data_df.groupby(level=[0,1])):\n",
    "    print(i)"
   ],
   "metadata": {
    "collapsed": false,
    "ExecuteTime": {
     "start_time": "2024-05-22T22:11:17.226431Z"
    }
   },
   "id": "b8f9b3fdcf3f9525"
  },
  {
   "cell_type": "code",
   "execution_count": null,
   "outputs": [],
   "source": [
    "group_2 = data_df.groupby(['size','color'])\n"
   ],
   "metadata": {
    "collapsed": false,
    "ExecuteTime": {
     "start_time": "2024-05-22T22:11:17.227103Z"
    }
   },
   "id": "688dbb18c22e7bc0"
  },
  {
   "cell_type": "code",
   "execution_count": null,
   "outputs": [],
   "source": [
    "for i in list(group_2):\n",
    "    print(i)"
   ],
   "metadata": {
    "collapsed": false,
    "ExecuteTime": {
     "start_time": "2024-05-22T22:11:17.227741Z"
    }
   },
   "id": "f136ef3267464d48"
  },
  {
   "cell_type": "code",
   "execution_count": null,
   "outputs": [],
   "source": [
    "group_2.agg({'feature_1':np.min,'feature_2':np.mean})"
   ],
   "metadata": {
    "collapsed": false,
    "ExecuteTime": {
     "start_time": "2024-05-22T22:11:17.228402Z"
    }
   },
   "id": "de59ba6565c6e45a"
  },
  {
   "cell_type": "markdown",
   "source": [
    "transform 函数"
   ],
   "metadata": {
    "collapsed": false
   },
   "id": "badc83701018e290"
  },
  {
   "cell_type": "code",
   "execution_count": null,
   "outputs": [],
   "source": [
    "data_range = lambda x: x.max() - x.min()\n",
    "data_df.groupby('size').transform(data_range)"
   ],
   "metadata": {
    "collapsed": false,
    "ExecuteTime": {
     "start_time": "2024-05-22T22:11:17.228995Z"
    }
   },
   "id": "c0f02659ed5a4e5d"
  },
  {
   "cell_type": "code",
   "execution_count": 19,
   "outputs": [
    {
     "name": "stdout",
     "output_type": "stream",
     "text": [
      "('black',    color size       date  feature_1  feature_2\n",
      "0  black    S 2019-01-06   1.038126   0.098439\n",
      "2  black    L 2019-01-20  -0.064036  -1.601794\n",
      "4  black    L 2019-02-03   0.658369   1.806356\n",
      "6  black    S 2019-02-17   0.752772   2.788837\n",
      "8  black   XL 2019-03-03  -0.393925   4.012268)\n",
      "('white',    color size       date  feature_1  feature_2\n",
      "1  white    M 2019-01-13  -0.466943   2.813962\n",
      "3  white    M 2019-01-27  -0.763927   0.168176\n",
      "5  white    S 2019-02-10  -0.925625   2.165718\n",
      "7  white   XL 2019-02-24   1.231681  -2.150777\n",
      "9  white    M 2019-03-10   0.692221  -0.598405)\n"
     ]
    }
   ],
   "source": [
    "for i in list(data_df.groupby('color')):\n",
    "    print(i)"
   ],
   "metadata": {
    "collapsed": false,
    "ExecuteTime": {
     "end_time": "2024-05-22T22:13:05.899071Z",
     "start_time": "2024-05-22T22:13:05.831282Z"
    }
   },
   "id": "5a4fc4d0b0e8a2bd"
  },
  {
   "cell_type": "code",
   "execution_count": 20,
   "outputs": [
    {
     "data": {
      "text/plain": "color   \nblack  0         NaN\n       2         NaN\n       4    0.544153\n       6    0.449035\n       8    0.339072\nwhite  1         NaN\n       3         NaN\n       5   -0.718832\n       7   -0.152624\n       9    0.332759\nName: feature_1, dtype: float64"
     },
     "execution_count": 20,
     "metadata": {},
     "output_type": "execute_result"
    }
   ],
   "source": [
    "data_df.groupby('color').rolling(3).feature_1.mean()"
   ],
   "metadata": {
    "collapsed": false,
    "ExecuteTime": {
     "end_time": "2024-05-22T22:13:51.763576Z",
     "start_time": "2024-05-22T22:13:51.707646Z"
    }
   },
   "id": "86c33d50acf64dfd"
  },
  {
   "cell_type": "code",
   "execution_count": 24,
   "outputs": [
    {
     "name": "stdout",
     "output_type": "stream",
     "text": [
      "('A',                color size       date  feature_1  feature_2\n",
      "class country                                             \n",
      "A     JP       black    S 2019-01-06   1.007540   0.694028\n",
      "      CN       white    S 2019-02-10  -1.093301  -2.318841\n",
      "      CA       white   XL 2019-02-24  -0.548505  -0.153491)\n",
      "('B',                color size       date  feature_1  feature_2\n",
      "class country                                             \n",
      "B     CN       white    M 2019-01-13  -0.402817   3.716323\n",
      "      US       black    L 2019-01-20  -0.046512   3.129162\n",
      "      US       white    M 2019-01-27   0.715755  -0.540841\n",
      "      CN       black    S 2019-02-17  -0.989124  -2.572446)\n",
      "('C',                color size       date  feature_1  feature_2\n",
      "class country                                             \n",
      "C     US       black    L 2019-02-03   1.564241   0.751161\n",
      "      JP       black   XL 2019-03-03  -0.838982  -0.772322\n",
      "      CA       white    M 2019-03-10   0.033401   2.582309)\n"
     ]
    }
   ],
   "source": [
    "for i in data_df.groupby('class'):\n",
    "    print(i)"
   ],
   "metadata": {
    "collapsed": false,
    "ExecuteTime": {
     "end_time": "2024-05-22T22:17:17.379327Z",
     "start_time": "2024-05-22T22:17:17.345157Z"
    }
   },
   "id": "1a05accd1ea42b77"
  },
  {
   "cell_type": "code",
   "execution_count": 26,
   "outputs": [
    {
     "ename": "TypeError",
     "evalue": "'str' object is not callable",
     "output_type": "error",
     "traceback": [
      "\u001B[0;31m---------------------------------------------------------------------------\u001B[0m",
      "\u001B[0;31mTypeError\u001B[0m                                 Traceback (most recent call last)",
      "Cell \u001B[0;32mIn[26], line 1\u001B[0m\n\u001B[0;32m----> 1\u001B[0m data_df\u001B[38;5;241m.\u001B[39mgroupby(\u001B[38;5;124m'\u001B[39m\u001B[38;5;124mclass\u001B[39m\u001B[38;5;124m'\u001B[39m)\u001B[38;5;241m.\u001B[39mfilter(\u001B[38;5;124m'\u001B[39m\u001B[38;5;124mfeature_1\u001B[39m\u001B[38;5;124m'\u001B[39m)\n",
      "File \u001B[0;32m~/anaconda3/envs/data_anaylsis/lib/python3.11/site-packages/pandas/core/groupby/generic.py:1932\u001B[0m, in \u001B[0;36mDataFrameGroupBy.filter\u001B[0;34m(self, func, dropna, *args, **kwargs)\u001B[0m\n\u001B[1;32m   1927\u001B[0m \u001B[38;5;28;01mfor\u001B[39;00m name, group \u001B[38;5;129;01min\u001B[39;00m gen:\n\u001B[1;32m   1928\u001B[0m     \u001B[38;5;66;03m# 2023-02-27 no tests are broken this pinning, but it is documented in the\u001B[39;00m\n\u001B[1;32m   1929\u001B[0m     \u001B[38;5;66;03m#  docstring above.\u001B[39;00m\n\u001B[1;32m   1930\u001B[0m     \u001B[38;5;28mobject\u001B[39m\u001B[38;5;241m.\u001B[39m\u001B[38;5;21m__setattr__\u001B[39m(group, \u001B[38;5;124m\"\u001B[39m\u001B[38;5;124mname\u001B[39m\u001B[38;5;124m\"\u001B[39m, name)\n\u001B[0;32m-> 1932\u001B[0m     res \u001B[38;5;241m=\u001B[39m func(group, \u001B[38;5;241m*\u001B[39margs, \u001B[38;5;241m*\u001B[39m\u001B[38;5;241m*\u001B[39mkwargs)\n\u001B[1;32m   1934\u001B[0m     \u001B[38;5;28;01mtry\u001B[39;00m:\n\u001B[1;32m   1935\u001B[0m         res \u001B[38;5;241m=\u001B[39m res\u001B[38;5;241m.\u001B[39msqueeze()\n",
      "\u001B[0;31mTypeError\u001B[0m: 'str' object is not callable"
     ]
    }
   ],
   "source": [
    "data_df.groupby('class').filter('feature_1')"
   ],
   "metadata": {
    "collapsed": false,
    "ExecuteTime": {
     "end_time": "2024-05-22T22:19:45.252091Z",
     "start_time": "2024-05-22T22:19:45.118213Z"
    }
   },
   "id": "d0a43a57d2f12a2d"
  },
  {
   "cell_type": "code",
   "execution_count": null,
   "outputs": [],
   "source": [],
   "metadata": {
    "collapsed": false
   },
   "id": "762c4955cb7635d8"
  }
 ],
 "metadata": {
  "kernelspec": {
   "display_name": "Python 3",
   "language": "python",
   "name": "python3"
  },
  "language_info": {
   "codemirror_mode": {
    "name": "ipython",
    "version": 2
   },
   "file_extension": ".py",
   "mimetype": "text/x-python",
   "name": "python",
   "nbconvert_exporter": "python",
   "pygments_lexer": "ipython2",
   "version": "2.7.6"
  }
 },
 "nbformat": 4,
 "nbformat_minor": 5
}

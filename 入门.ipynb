{
 "cells": [
  {
   "cell_type": "code",
   "execution_count": 77,
   "outputs": [],
   "source": [
    "import numpy as np"
   ],
   "metadata": {
    "collapsed": false,
    "ExecuteTime": {
     "end_time": "2024-05-21T22:40:41.131965Z",
     "start_time": "2024-05-21T22:40:40.746027Z"
    }
   },
   "id": "eefbe636a8582060"
  },
  {
   "cell_type": "code",
   "execution_count": 78,
   "outputs": [],
   "source": [
    "import pandas as pd"
   ],
   "metadata": {
    "collapsed": false,
    "ExecuteTime": {
     "end_time": "2024-05-21T22:40:41.359124Z",
     "start_time": "2024-05-21T22:40:40.749911Z"
    }
   },
   "id": "11455ff1386383e0"
  },
  {
   "cell_type": "code",
   "execution_count": 79,
   "outputs": [
    {
     "data": {
      "text/plain": "'2.1.4'"
     },
     "execution_count": 79,
     "metadata": {},
     "output_type": "execute_result"
    }
   ],
   "source": [
    "pd.__version__"
   ],
   "metadata": {
    "collapsed": false,
    "ExecuteTime": {
     "end_time": "2024-05-21T22:40:41.424832Z",
     "start_time": "2024-05-21T22:40:40.759499Z"
    }
   },
   "id": "7d5a1b906423d9e5"
  },
  {
   "cell_type": "code",
   "execution_count": 80,
   "outputs": [],
   "source": [
    "data = {'animal': ['cat', 'cat', 'snake', 'dog', 'dog', 'cat', 'snake', 'cat', 'dog', 'dog'],\n",
    "        'age': [2.5, 3, 0.5, np.nan, 5, 2, 4.5, np.nan, 7, 3],\n",
    "        'visits': [1, 3, 2, 3, 2, 3, 1, 1, 2, 1],\n",
    "        'priority': ['yes', 'yes', 'no', 'yes', 'no', 'no', 'no', 'yes', 'no', 'no']}\n",
    "labels = ['a', 'b', 'c', 'd', 'e', 'f', 'g', 'h', 'i', 'j']"
   ],
   "metadata": {
    "collapsed": false,
    "ExecuteTime": {
     "end_time": "2024-05-21T22:40:41.425938Z",
     "start_time": "2024-05-21T22:40:40.764309Z"
    }
   },
   "id": "2f1df613a16d3149"
  },
  {
   "cell_type": "code",
   "execution_count": 81,
   "outputs": [
    {
     "data": {
      "text/plain": "{'animal': ['cat',\n  'cat',\n  'snake',\n  'dog',\n  'dog',\n  'cat',\n  'snake',\n  'cat',\n  'dog',\n  'dog'],\n 'age': [2.5, 3, 0.5, nan, 5, 2, 4.5, nan, 7, 3],\n 'visits': [1, 3, 2, 3, 2, 3, 1, 1, 2, 1],\n 'priority': ['yes', 'yes', 'no', 'yes', 'no', 'no', 'no', 'yes', 'no', 'no']}"
     },
     "execution_count": 81,
     "metadata": {},
     "output_type": "execute_result"
    }
   ],
   "source": [
    "data"
   ],
   "metadata": {
    "collapsed": false,
    "ExecuteTime": {
     "end_time": "2024-05-21T22:40:41.426073Z",
     "start_time": "2024-05-21T22:40:40.770023Z"
    }
   },
   "id": "c7704624f3319a60"
  },
  {
   "cell_type": "code",
   "execution_count": 82,
   "outputs": [],
   "source": [
    "df = pd.DataFrame(data, index=labels)"
   ],
   "metadata": {
    "collapsed": false,
    "ExecuteTime": {
     "end_time": "2024-05-21T22:40:41.426124Z",
     "start_time": "2024-05-21T22:40:40.773010Z"
    }
   },
   "id": "be3eea2a68c4a5f9"
  },
  {
   "cell_type": "code",
   "execution_count": 83,
   "outputs": [
    {
     "data": {
      "text/plain": "  animal  age  visits priority\na    cat  2.5       1      yes\nb    cat  3.0       3      yes\nc  snake  0.5       2       no\nd    dog  NaN       3      yes\ne    dog  5.0       2       no\nf    cat  2.0       3       no\ng  snake  4.5       1       no\nh    cat  NaN       1      yes\ni    dog  7.0       2       no\nj    dog  3.0       1       no",
      "text/html": "<div>\n<style scoped>\n    .dataframe tbody tr th:only-of-type {\n        vertical-align: middle;\n    }\n\n    .dataframe tbody tr th {\n        vertical-align: top;\n    }\n\n    .dataframe thead th {\n        text-align: right;\n    }\n</style>\n<table border=\"1\" class=\"dataframe\">\n  <thead>\n    <tr style=\"text-align: right;\">\n      <th></th>\n      <th>animal</th>\n      <th>age</th>\n      <th>visits</th>\n      <th>priority</th>\n    </tr>\n  </thead>\n  <tbody>\n    <tr>\n      <th>a</th>\n      <td>cat</td>\n      <td>2.5</td>\n      <td>1</td>\n      <td>yes</td>\n    </tr>\n    <tr>\n      <th>b</th>\n      <td>cat</td>\n      <td>3.0</td>\n      <td>3</td>\n      <td>yes</td>\n    </tr>\n    <tr>\n      <th>c</th>\n      <td>snake</td>\n      <td>0.5</td>\n      <td>2</td>\n      <td>no</td>\n    </tr>\n    <tr>\n      <th>d</th>\n      <td>dog</td>\n      <td>NaN</td>\n      <td>3</td>\n      <td>yes</td>\n    </tr>\n    <tr>\n      <th>e</th>\n      <td>dog</td>\n      <td>5.0</td>\n      <td>2</td>\n      <td>no</td>\n    </tr>\n    <tr>\n      <th>f</th>\n      <td>cat</td>\n      <td>2.0</td>\n      <td>3</td>\n      <td>no</td>\n    </tr>\n    <tr>\n      <th>g</th>\n      <td>snake</td>\n      <td>4.5</td>\n      <td>1</td>\n      <td>no</td>\n    </tr>\n    <tr>\n      <th>h</th>\n      <td>cat</td>\n      <td>NaN</td>\n      <td>1</td>\n      <td>yes</td>\n    </tr>\n    <tr>\n      <th>i</th>\n      <td>dog</td>\n      <td>7.0</td>\n      <td>2</td>\n      <td>no</td>\n    </tr>\n    <tr>\n      <th>j</th>\n      <td>dog</td>\n      <td>3.0</td>\n      <td>1</td>\n      <td>no</td>\n    </tr>\n  </tbody>\n</table>\n</div>"
     },
     "execution_count": 83,
     "metadata": {},
     "output_type": "execute_result"
    }
   ],
   "source": [
    "df"
   ],
   "metadata": {
    "collapsed": false,
    "ExecuteTime": {
     "end_time": "2024-05-21T22:40:41.426365Z",
     "start_time": "2024-05-21T22:40:40.775443Z"
    }
   },
   "id": "826f99e6c5eceb31"
  },
  {
   "cell_type": "code",
   "execution_count": 84,
   "outputs": [],
   "source": [
    "df1 = pd.DataFrame(data)"
   ],
   "metadata": {
    "collapsed": false,
    "ExecuteTime": {
     "end_time": "2024-05-21T22:40:41.426412Z",
     "start_time": "2024-05-21T22:40:40.783307Z"
    }
   },
   "id": "3eba4688ce675778"
  },
  {
   "cell_type": "code",
   "execution_count": 85,
   "outputs": [
    {
     "data": {
      "text/plain": "  animal  age  visits priority\n0    cat  2.5       1      yes\n1    cat  3.0       3      yes\n2  snake  0.5       2       no\n3    dog  NaN       3      yes\n4    dog  5.0       2       no\n5    cat  2.0       3       no\n6  snake  4.5       1       no\n7    cat  NaN       1      yes\n8    dog  7.0       2       no\n9    dog  3.0       1       no",
      "text/html": "<div>\n<style scoped>\n    .dataframe tbody tr th:only-of-type {\n        vertical-align: middle;\n    }\n\n    .dataframe tbody tr th {\n        vertical-align: top;\n    }\n\n    .dataframe thead th {\n        text-align: right;\n    }\n</style>\n<table border=\"1\" class=\"dataframe\">\n  <thead>\n    <tr style=\"text-align: right;\">\n      <th></th>\n      <th>animal</th>\n      <th>age</th>\n      <th>visits</th>\n      <th>priority</th>\n    </tr>\n  </thead>\n  <tbody>\n    <tr>\n      <th>0</th>\n      <td>cat</td>\n      <td>2.5</td>\n      <td>1</td>\n      <td>yes</td>\n    </tr>\n    <tr>\n      <th>1</th>\n      <td>cat</td>\n      <td>3.0</td>\n      <td>3</td>\n      <td>yes</td>\n    </tr>\n    <tr>\n      <th>2</th>\n      <td>snake</td>\n      <td>0.5</td>\n      <td>2</td>\n      <td>no</td>\n    </tr>\n    <tr>\n      <th>3</th>\n      <td>dog</td>\n      <td>NaN</td>\n      <td>3</td>\n      <td>yes</td>\n    </tr>\n    <tr>\n      <th>4</th>\n      <td>dog</td>\n      <td>5.0</td>\n      <td>2</td>\n      <td>no</td>\n    </tr>\n    <tr>\n      <th>5</th>\n      <td>cat</td>\n      <td>2.0</td>\n      <td>3</td>\n      <td>no</td>\n    </tr>\n    <tr>\n      <th>6</th>\n      <td>snake</td>\n      <td>4.5</td>\n      <td>1</td>\n      <td>no</td>\n    </tr>\n    <tr>\n      <th>7</th>\n      <td>cat</td>\n      <td>NaN</td>\n      <td>1</td>\n      <td>yes</td>\n    </tr>\n    <tr>\n      <th>8</th>\n      <td>dog</td>\n      <td>7.0</td>\n      <td>2</td>\n      <td>no</td>\n    </tr>\n    <tr>\n      <th>9</th>\n      <td>dog</td>\n      <td>3.0</td>\n      <td>1</td>\n      <td>no</td>\n    </tr>\n  </tbody>\n</table>\n</div>"
     },
     "execution_count": 85,
     "metadata": {},
     "output_type": "execute_result"
    }
   ],
   "source": [
    "df1"
   ],
   "metadata": {
    "collapsed": false,
    "ExecuteTime": {
     "end_time": "2024-05-21T22:40:41.426585Z",
     "start_time": "2024-05-21T22:40:40.788748Z"
    }
   },
   "id": "5cc30a16b9108ae5"
  },
  {
   "cell_type": "code",
   "execution_count": 86,
   "outputs": [
    {
     "data": {
      "text/plain": "<pandas.io.parsers.readers.TextFileReader at 0x11e45e590>"
     },
     "execution_count": 86,
     "metadata": {},
     "output_type": "execute_result"
    }
   ],
   "source": [
    "df = pd.read_csv('https://raw.githubusercontent.com/selva86/datasets/master/BostonHousing.csv', chunksize=50)\n",
    "df"
   ],
   "metadata": {
    "collapsed": false,
    "ExecuteTime": {
     "end_time": "2024-05-21T22:40:41.723969Z",
     "start_time": "2024-05-21T22:40:40.790777Z"
    }
   },
   "id": "c115d63f68da3abf"
  },
  {
   "cell_type": "code",
   "execution_count": 87,
   "outputs": [],
   "source": [
    "df = pd.DataFrame([[1,2],[3,4]])"
   ],
   "metadata": {
    "collapsed": false,
    "ExecuteTime": {
     "end_time": "2024-05-21T22:40:41.724178Z",
     "start_time": "2024-05-21T22:40:41.708033Z"
    }
   },
   "id": "9eecf7b94e464e9f"
  },
  {
   "cell_type": "code",
   "execution_count": 88,
   "outputs": [
    {
     "data": {
      "text/plain": "   0  1\n0  1  2\n1  3  4",
      "text/html": "<div>\n<style scoped>\n    .dataframe tbody tr th:only-of-type {\n        vertical-align: middle;\n    }\n\n    .dataframe tbody tr th {\n        vertical-align: top;\n    }\n\n    .dataframe thead th {\n        text-align: right;\n    }\n</style>\n<table border=\"1\" class=\"dataframe\">\n  <thead>\n    <tr style=\"text-align: right;\">\n      <th></th>\n      <th>0</th>\n      <th>1</th>\n    </tr>\n  </thead>\n  <tbody>\n    <tr>\n      <th>0</th>\n      <td>1</td>\n      <td>2</td>\n    </tr>\n    <tr>\n      <th>1</th>\n      <td>3</td>\n      <td>4</td>\n    </tr>\n  </tbody>\n</table>\n</div>"
     },
     "execution_count": 88,
     "metadata": {},
     "output_type": "execute_result"
    }
   ],
   "source": [
    "df"
   ],
   "metadata": {
    "collapsed": false,
    "ExecuteTime": {
     "end_time": "2024-05-21T22:40:41.724530Z",
     "start_time": "2024-05-21T22:40:41.711207Z"
    }
   },
   "id": "d587bde2f8f17cbc"
  },
  {
   "cell_type": "code",
   "execution_count": 89,
   "outputs": [
    {
     "ename": "AttributeError",
     "evalue": "'DataFrame' object has no attribute 'concat'",
     "output_type": "error",
     "traceback": [
      "\u001B[0;31m---------------------------------------------------------------------------\u001B[0m",
      "\u001B[0;31mAttributeError\u001B[0m                            Traceback (most recent call last)",
      "\u001B[0;32m/var/folders/gd/8y9x6hsx68q9nj6yn7hklxbh0000gn/T/ipykernel_33733/1865013573.py\u001B[0m in \u001B[0;36m?\u001B[0;34m()\u001B[0m\n\u001B[0;32m----> 1\u001B[0;31m \u001B[0mdf\u001B[0m\u001B[0;34m.\u001B[0m\u001B[0mconcat\u001B[0m\u001B[0;34m(\u001B[0m\u001B[0mdf\u001B[0m\u001B[0;34m)\u001B[0m\u001B[0;34m\u001B[0m\u001B[0;34m\u001B[0m\u001B[0m\n\u001B[0m",
      "\u001B[0;32m~/anaconda3/envs/data_anaylsis/lib/python3.11/site-packages/pandas/core/generic.py\u001B[0m in \u001B[0;36m?\u001B[0;34m(self, name)\u001B[0m\n\u001B[1;32m   6200\u001B[0m             \u001B[0;32mand\u001B[0m \u001B[0mname\u001B[0m \u001B[0;32mnot\u001B[0m \u001B[0;32min\u001B[0m \u001B[0mself\u001B[0m\u001B[0;34m.\u001B[0m\u001B[0m_accessors\u001B[0m\u001B[0;34m\u001B[0m\u001B[0;34m\u001B[0m\u001B[0m\n\u001B[1;32m   6201\u001B[0m             \u001B[0;32mand\u001B[0m \u001B[0mself\u001B[0m\u001B[0;34m.\u001B[0m\u001B[0m_info_axis\u001B[0m\u001B[0;34m.\u001B[0m\u001B[0m_can_hold_identifiers_and_holds_name\u001B[0m\u001B[0;34m(\u001B[0m\u001B[0mname\u001B[0m\u001B[0;34m)\u001B[0m\u001B[0;34m\u001B[0m\u001B[0;34m\u001B[0m\u001B[0m\n\u001B[1;32m   6202\u001B[0m         ):\n\u001B[1;32m   6203\u001B[0m             \u001B[0;32mreturn\u001B[0m \u001B[0mself\u001B[0m\u001B[0;34m[\u001B[0m\u001B[0mname\u001B[0m\u001B[0;34m]\u001B[0m\u001B[0;34m\u001B[0m\u001B[0;34m\u001B[0m\u001B[0m\n\u001B[0;32m-> 6204\u001B[0;31m         \u001B[0;32mreturn\u001B[0m \u001B[0mobject\u001B[0m\u001B[0;34m.\u001B[0m\u001B[0m__getattribute__\u001B[0m\u001B[0;34m(\u001B[0m\u001B[0mself\u001B[0m\u001B[0;34m,\u001B[0m \u001B[0mname\u001B[0m\u001B[0;34m)\u001B[0m\u001B[0;34m\u001B[0m\u001B[0;34m\u001B[0m\u001B[0m\n\u001B[0m",
      "\u001B[0;31mAttributeError\u001B[0m: 'DataFrame' object has no attribute 'concat'"
     ]
    }
   ],
   "source": [
    "df.concat(df)"
   ],
   "metadata": {
    "collapsed": false,
    "ExecuteTime": {
     "end_time": "2024-05-21T22:40:41.724643Z",
     "start_time": "2024-05-21T22:40:41.718989Z"
    }
   },
   "id": "8a223e5e61d49ee0"
  },
  {
   "cell_type": "code",
   "execution_count": null,
   "outputs": [],
   "source": [
    "df1 = pd.DataFrame([1,2,3,4,5,6],index=['a','b','c','d','e','f'],columns=['happy'])\n",
    "df1"
   ],
   "metadata": {
    "collapsed": false,
    "ExecuteTime": {
     "start_time": "2024-05-21T22:40:41.723854Z"
    }
   },
   "id": "7ed65a2c4bc78070"
  },
  {
   "cell_type": "code",
   "execution_count": null,
   "outputs": [],
   "source": [
    "df2 = pd.DataFrame([(1,2,3,4),(2,3,4,5)],index=['a','b'],columns=['col1','col2','col3','col4'])\n",
    "df2"
   ],
   "metadata": {
    "collapsed": false,
    "ExecuteTime": {
     "end_time": "2024-05-21T22:40:41.726570Z",
     "start_time": "2024-05-21T22:40:41.724961Z"
    }
   },
   "id": "5e572eb0839857e5"
  },
  {
   "cell_type": "markdown",
   "source": [
    "字典转换dataframe"
   ],
   "metadata": {
    "collapsed": false
   },
   "id": "bb21b0c5b799cb93"
  },
  {
   "cell_type": "code",
   "execution_count": null,
   "outputs": [],
   "source": [
    "data = {'a': [1, 2], 'b': [3, 4]}\n",
    "df1 = pd.DataFrame(data)\n",
    "df1"
   ],
   "metadata": {
    "collapsed": false,
    "ExecuteTime": {
     "start_time": "2024-05-21T22:40:41.725980Z"
    }
   },
   "id": "1ebd681c9a6b21e7"
  },
  {
   "cell_type": "code",
   "execution_count": null,
   "outputs": [],
   "source": [
    "data = {'people': [{'name': 'ck', 'age': 10},{'name': 'ck2', 'age': 10}]}\n",
    "data"
   ],
   "metadata": {
    "collapsed": false,
    "ExecuteTime": {
     "end_time": "2024-05-21T22:40:41.791543Z",
     "start_time": "2024-05-21T22:40:41.727058Z"
    }
   },
   "id": "5039335490c61524"
  },
  {
   "cell_type": "code",
   "execution_count": null,
   "outputs": [],
   "source": [
    "df2 = pd.DataFrame(data)\n",
    "df2"
   ],
   "metadata": {
    "collapsed": false,
    "ExecuteTime": {
     "start_time": "2024-05-21T22:40:41.727908Z"
    }
   },
   "id": "6b483a666fe55c0c"
  },
  {
   "cell_type": "code",
   "execution_count": 91,
   "outputs": [
    {
     "data": {
      "text/plain": "               color size       date  feature_1  feature_2\nclass country                                             \nA     JP       black    S 2019-01-06   0.079250   0.001249\nB     CN       white    M 2019-01-13  -0.223502   0.237778\n      US       black    L 2019-01-20  -1.479936  -0.923234\n      US       white    M 2019-01-27  -0.743658  -1.975354\nC     US       black    L 2019-02-03   0.477011  -1.577402\nA     CN       white    S 2019-02-10  -0.797722   1.269546\nB     CN       black    S 2019-02-17   0.088330   0.182868\nA     CA       white   XL 2019-02-24  -0.719702   4.110095\nC     JP       black   XL 2019-03-03   0.873853   4.370260\n      CA       white    M 2019-03-10  -0.585062   2.611070",
      "text/html": "<div>\n<style scoped>\n    .dataframe tbody tr th:only-of-type {\n        vertical-align: middle;\n    }\n\n    .dataframe tbody tr th {\n        vertical-align: top;\n    }\n\n    .dataframe thead th {\n        text-align: right;\n    }\n</style>\n<table border=\"1\" class=\"dataframe\">\n  <thead>\n    <tr style=\"text-align: right;\">\n      <th></th>\n      <th></th>\n      <th>color</th>\n      <th>size</th>\n      <th>date</th>\n      <th>feature_1</th>\n      <th>feature_2</th>\n    </tr>\n    <tr>\n      <th>class</th>\n      <th>country</th>\n      <th></th>\n      <th></th>\n      <th></th>\n      <th></th>\n      <th></th>\n    </tr>\n  </thead>\n  <tbody>\n    <tr>\n      <th>A</th>\n      <th>JP</th>\n      <td>black</td>\n      <td>S</td>\n      <td>2019-01-06</td>\n      <td>0.079250</td>\n      <td>0.001249</td>\n    </tr>\n    <tr>\n      <th rowspan=\"3\" valign=\"top\">B</th>\n      <th>CN</th>\n      <td>white</td>\n      <td>M</td>\n      <td>2019-01-13</td>\n      <td>-0.223502</td>\n      <td>0.237778</td>\n    </tr>\n    <tr>\n      <th>US</th>\n      <td>black</td>\n      <td>L</td>\n      <td>2019-01-20</td>\n      <td>-1.479936</td>\n      <td>-0.923234</td>\n    </tr>\n    <tr>\n      <th>US</th>\n      <td>white</td>\n      <td>M</td>\n      <td>2019-01-27</td>\n      <td>-0.743658</td>\n      <td>-1.975354</td>\n    </tr>\n    <tr>\n      <th>C</th>\n      <th>US</th>\n      <td>black</td>\n      <td>L</td>\n      <td>2019-02-03</td>\n      <td>0.477011</td>\n      <td>-1.577402</td>\n    </tr>\n    <tr>\n      <th>A</th>\n      <th>CN</th>\n      <td>white</td>\n      <td>S</td>\n      <td>2019-02-10</td>\n      <td>-0.797722</td>\n      <td>1.269546</td>\n    </tr>\n    <tr>\n      <th>B</th>\n      <th>CN</th>\n      <td>black</td>\n      <td>S</td>\n      <td>2019-02-17</td>\n      <td>0.088330</td>\n      <td>0.182868</td>\n    </tr>\n    <tr>\n      <th>A</th>\n      <th>CA</th>\n      <td>white</td>\n      <td>XL</td>\n      <td>2019-02-24</td>\n      <td>-0.719702</td>\n      <td>4.110095</td>\n    </tr>\n    <tr>\n      <th rowspan=\"2\" valign=\"top\">C</th>\n      <th>JP</th>\n      <td>black</td>\n      <td>XL</td>\n      <td>2019-03-03</td>\n      <td>0.873853</td>\n      <td>4.370260</td>\n    </tr>\n    <tr>\n      <th>CA</th>\n      <td>white</td>\n      <td>M</td>\n      <td>2019-03-10</td>\n      <td>-0.585062</td>\n      <td>2.611070</td>\n    </tr>\n  </tbody>\n</table>\n</div>"
     },
     "execution_count": 91,
     "metadata": {},
     "output_type": "execute_result"
    }
   ],
   "source": [
    "data_dict = {'color' : ['black', 'white', 'black', 'white', 'black',\n",
    "                      'white', 'black', 'white', 'black', 'white'],\n",
    "            'size' : ['S','M','L','M','L','S','S','XL','XL','M'],\n",
    "        'date':pd.date_range('1/1/2019',periods=10, freq='W' ),\n",
    "            'feature_1': np.random.randn(10),\n",
    "            'feature_2': np.random.normal(0.5, 2, 10)}\n",
    "array_index=[['A','B','B','B','C','A','B','A','C','C'],['JP','CN','US','US','US','CN','CN','CA','JP','CA']]\n",
    "                                                 \n",
    "index = pd.MultiIndex.from_arrays(array_index, names=['class', 'country'])\n",
    "data_df = pd.DataFrame(data_dict,index=index)\n",
    "data_df"
   ],
   "metadata": {
    "collapsed": false,
    "ExecuteTime": {
     "end_time": "2024-05-21T22:42:00.087330Z",
     "start_time": "2024-05-21T22:42:00.049040Z"
    }
   },
   "id": "5d2c3b771f4680d3"
  },
  {
   "cell_type": "code",
   "execution_count": 92,
   "outputs": [
    {
     "data": {
      "text/plain": "{'color': ['black',\n  'white',\n  'black',\n  'white',\n  'black',\n  'white',\n  'black',\n  'white',\n  'black',\n  'white'],\n 'size': ['S', 'M', 'L', 'M', 'L', 'S', 'S', 'XL', 'XL', 'M'],\n 'date': DatetimeIndex(['2019-01-06', '2019-01-13', '2019-01-20', '2019-01-27',\n                '2019-02-03', '2019-02-10', '2019-02-17', '2019-02-24',\n                '2019-03-03', '2019-03-10'],\n               dtype='datetime64[ns]', freq='W-SUN'),\n 'feature_1': array([ 0.0792502 , -0.22350238, -1.47993611, -0.74365799,  0.47701053,\n        -0.79772185,  0.08833029, -0.71970163,  0.87385284, -0.58506232]),\n 'feature_2': array([ 1.24865490e-03,  2.37778088e-01, -9.23234049e-01, -1.97535425e+00,\n        -1.57740164e+00,  1.26954619e+00,  1.82867861e-01,  4.11009537e+00,\n         4.37025990e+00,  2.61107039e+00])}"
     },
     "execution_count": 92,
     "metadata": {},
     "output_type": "execute_result"
    }
   ],
   "source": [
    "data_dict"
   ],
   "metadata": {
    "collapsed": false,
    "ExecuteTime": {
     "end_time": "2024-05-21T22:42:04.958096Z",
     "start_time": "2024-05-21T22:42:04.907371Z"
    }
   },
   "id": "71cb43b3e36ad5ca"
  },
  {
   "cell_type": "code",
   "execution_count": null,
   "outputs": [],
   "source": [
    "data_df = pd.DataFrame(data_dict)"
   ],
   "metadata": {
    "collapsed": false,
    "ExecuteTime": {
     "start_time": "2024-05-21T22:40:41.730710Z"
    }
   },
   "id": "f32c634083a9e187"
  },
  {
   "cell_type": "code",
   "execution_count": 93,
   "outputs": [
    {
     "data": {
      "text/plain": "               color size       date  feature_1  feature_2\nclass country                                             \nA     JP       black    S 2019-01-06   0.079250   0.001249\nB     CN       white    M 2019-01-13  -0.223502   0.237778\n      US       black    L 2019-01-20  -1.479936  -0.923234\n      US       white    M 2019-01-27  -0.743658  -1.975354\nC     US       black    L 2019-02-03   0.477011  -1.577402\nA     CN       white    S 2019-02-10  -0.797722   1.269546\nB     CN       black    S 2019-02-17   0.088330   0.182868\nA     CA       white   XL 2019-02-24  -0.719702   4.110095\nC     JP       black   XL 2019-03-03   0.873853   4.370260\n      CA       white    M 2019-03-10  -0.585062   2.611070",
      "text/html": "<div>\n<style scoped>\n    .dataframe tbody tr th:only-of-type {\n        vertical-align: middle;\n    }\n\n    .dataframe tbody tr th {\n        vertical-align: top;\n    }\n\n    .dataframe thead th {\n        text-align: right;\n    }\n</style>\n<table border=\"1\" class=\"dataframe\">\n  <thead>\n    <tr style=\"text-align: right;\">\n      <th></th>\n      <th></th>\n      <th>color</th>\n      <th>size</th>\n      <th>date</th>\n      <th>feature_1</th>\n      <th>feature_2</th>\n    </tr>\n    <tr>\n      <th>class</th>\n      <th>country</th>\n      <th></th>\n      <th></th>\n      <th></th>\n      <th></th>\n      <th></th>\n    </tr>\n  </thead>\n  <tbody>\n    <tr>\n      <th>A</th>\n      <th>JP</th>\n      <td>black</td>\n      <td>S</td>\n      <td>2019-01-06</td>\n      <td>0.079250</td>\n      <td>0.001249</td>\n    </tr>\n    <tr>\n      <th rowspan=\"3\" valign=\"top\">B</th>\n      <th>CN</th>\n      <td>white</td>\n      <td>M</td>\n      <td>2019-01-13</td>\n      <td>-0.223502</td>\n      <td>0.237778</td>\n    </tr>\n    <tr>\n      <th>US</th>\n      <td>black</td>\n      <td>L</td>\n      <td>2019-01-20</td>\n      <td>-1.479936</td>\n      <td>-0.923234</td>\n    </tr>\n    <tr>\n      <th>US</th>\n      <td>white</td>\n      <td>M</td>\n      <td>2019-01-27</td>\n      <td>-0.743658</td>\n      <td>-1.975354</td>\n    </tr>\n    <tr>\n      <th>C</th>\n      <th>US</th>\n      <td>black</td>\n      <td>L</td>\n      <td>2019-02-03</td>\n      <td>0.477011</td>\n      <td>-1.577402</td>\n    </tr>\n    <tr>\n      <th>A</th>\n      <th>CN</th>\n      <td>white</td>\n      <td>S</td>\n      <td>2019-02-10</td>\n      <td>-0.797722</td>\n      <td>1.269546</td>\n    </tr>\n    <tr>\n      <th>B</th>\n      <th>CN</th>\n      <td>black</td>\n      <td>S</td>\n      <td>2019-02-17</td>\n      <td>0.088330</td>\n      <td>0.182868</td>\n    </tr>\n    <tr>\n      <th>A</th>\n      <th>CA</th>\n      <td>white</td>\n      <td>XL</td>\n      <td>2019-02-24</td>\n      <td>-0.719702</td>\n      <td>4.110095</td>\n    </tr>\n    <tr>\n      <th rowspan=\"2\" valign=\"top\">C</th>\n      <th>JP</th>\n      <td>black</td>\n      <td>XL</td>\n      <td>2019-03-03</td>\n      <td>0.873853</td>\n      <td>4.370260</td>\n    </tr>\n    <tr>\n      <th>CA</th>\n      <td>white</td>\n      <td>M</td>\n      <td>2019-03-10</td>\n      <td>-0.585062</td>\n      <td>2.611070</td>\n    </tr>\n  </tbody>\n</table>\n</div>"
     },
     "execution_count": 93,
     "metadata": {},
     "output_type": "execute_result"
    }
   ],
   "source": [
    "data_df"
   ],
   "metadata": {
    "collapsed": false,
    "ExecuteTime": {
     "end_time": "2024-05-21T22:42:09.974135Z",
     "start_time": "2024-05-21T22:42:09.929885Z"
    }
   },
   "id": "fe9ab3c63ce611d"
  },
  {
   "cell_type": "code",
   "execution_count": 95,
   "outputs": [],
   "source": [
    "group_by_size = data_df.groupby('size')"
   ],
   "metadata": {
    "collapsed": false,
    "ExecuteTime": {
     "end_time": "2024-05-21T22:42:21.870244Z",
     "start_time": "2024-05-21T22:42:21.828970Z"
    }
   },
   "id": "8c6b8c1741768507"
  },
  {
   "cell_type": "code",
   "execution_count": 96,
   "outputs": [
    {
     "name": "stdout",
     "output_type": "stream",
     "text": [
      "('L',                color size       date  feature_1  feature_2\n",
      "class country                                             \n",
      "B     US       black    L 2019-01-20  -1.479936  -0.923234\n",
      "C     US       black    L 2019-02-03   0.477011  -1.577402)\n",
      "('M',                color size       date  feature_1  feature_2\n",
      "class country                                             \n",
      "B     CN       white    M 2019-01-13  -0.223502   0.237778\n",
      "      US       white    M 2019-01-27  -0.743658  -1.975354\n",
      "C     CA       white    M 2019-03-10  -0.585062   2.611070)\n",
      "('S',                color size       date  feature_1  feature_2\n",
      "class country                                             \n",
      "A     JP       black    S 2019-01-06   0.079250   0.001249\n",
      "      CN       white    S 2019-02-10  -0.797722   1.269546\n",
      "B     CN       black    S 2019-02-17   0.088330   0.182868)\n",
      "('XL',                color size       date  feature_1  feature_2\n",
      "class country                                             \n",
      "A     CA       white   XL 2019-02-24  -0.719702   4.110095\n",
      "C     JP       black   XL 2019-03-03   0.873853   4.370260)\n"
     ]
    }
   ],
   "source": [
    "for i in list(group_by_size):\n",
    "        print(i)"
   ],
   "metadata": {
    "collapsed": false,
    "ExecuteTime": {
     "end_time": "2024-05-21T22:42:24.472720Z",
     "start_time": "2024-05-21T22:42:24.433574Z"
    }
   },
   "id": "42d42c47bc6e3965"
  },
  {
   "cell_type": "code",
   "execution_count": 97,
   "outputs": [
    {
     "data": {
      "text/plain": "      sum_feature_1  sum_feature_2\nsize                              \nL         -1.002926      -2.500636\nM         -1.552223       0.873494\nS         -0.630141       1.453663\nXL         0.154151       8.480355",
      "text/html": "<div>\n<style scoped>\n    .dataframe tbody tr th:only-of-type {\n        vertical-align: middle;\n    }\n\n    .dataframe tbody tr th {\n        vertical-align: top;\n    }\n\n    .dataframe thead th {\n        text-align: right;\n    }\n</style>\n<table border=\"1\" class=\"dataframe\">\n  <thead>\n    <tr style=\"text-align: right;\">\n      <th></th>\n      <th>sum_feature_1</th>\n      <th>sum_feature_2</th>\n    </tr>\n    <tr>\n      <th>size</th>\n      <th></th>\n      <th></th>\n    </tr>\n  </thead>\n  <tbody>\n    <tr>\n      <th>L</th>\n      <td>-1.002926</td>\n      <td>-2.500636</td>\n    </tr>\n    <tr>\n      <th>M</th>\n      <td>-1.552223</td>\n      <td>0.873494</td>\n    </tr>\n    <tr>\n      <th>S</th>\n      <td>-0.630141</td>\n      <td>1.453663</td>\n    </tr>\n    <tr>\n      <th>XL</th>\n      <td>0.154151</td>\n      <td>8.480355</td>\n    </tr>\n  </tbody>\n</table>\n</div>"
     },
     "execution_count": 97,
     "metadata": {},
     "output_type": "execute_result"
    }
   ],
   "source": [
    "group_by_size.sum('feature_1').add_prefix('sum_')"
   ],
   "metadata": {
    "collapsed": false,
    "ExecuteTime": {
     "end_time": "2024-05-21T22:42:27.381584Z",
     "start_time": "2024-05-21T22:42:27.344856Z"
    }
   },
   "id": "16ebd41f4494d537"
  },
  {
   "cell_type": "code",
   "execution_count": null,
   "outputs": [],
   "source": [
    "group_by_size_date = data_df.groupby(['size','date'])"
   ],
   "metadata": {
    "collapsed": false,
    "ExecuteTime": {
     "start_time": "2024-05-21T22:40:41.733979Z"
    }
   },
   "id": "6f1beb9fad3c4b0e"
  },
  {
   "cell_type": "code",
   "execution_count": 98,
   "outputs": [
    {
     "data": {
      "text/plain": "                 sum_feature_1  sum_feature_2\nsize date                                    \nL    2019-01-20      -0.696657      -1.649752\n     2019-02-03       0.397120       1.160297\nM    2019-01-13      -0.062162       1.992438\n     2019-01-27       0.694634       5.530924\n     2019-03-10       1.698881       2.081910\nS    2019-01-06       1.478424      -0.726072\n     2019-02-10      -0.432089      -2.152262\n     2019-02-17      -0.895602      -1.024900\nXL   2019-02-24       0.372604      -1.182194\n     2019-03-03      -0.534942      -0.932566",
      "text/html": "<div>\n<style scoped>\n    .dataframe tbody tr th:only-of-type {\n        vertical-align: middle;\n    }\n\n    .dataframe tbody tr th {\n        vertical-align: top;\n    }\n\n    .dataframe thead th {\n        text-align: right;\n    }\n</style>\n<table border=\"1\" class=\"dataframe\">\n  <thead>\n    <tr style=\"text-align: right;\">\n      <th></th>\n      <th></th>\n      <th>sum_feature_1</th>\n      <th>sum_feature_2</th>\n    </tr>\n    <tr>\n      <th>size</th>\n      <th>date</th>\n      <th></th>\n      <th></th>\n    </tr>\n  </thead>\n  <tbody>\n    <tr>\n      <th rowspan=\"2\" valign=\"top\">L</th>\n      <th>2019-01-20</th>\n      <td>-0.696657</td>\n      <td>-1.649752</td>\n    </tr>\n    <tr>\n      <th>2019-02-03</th>\n      <td>0.397120</td>\n      <td>1.160297</td>\n    </tr>\n    <tr>\n      <th rowspan=\"3\" valign=\"top\">M</th>\n      <th>2019-01-13</th>\n      <td>-0.062162</td>\n      <td>1.992438</td>\n    </tr>\n    <tr>\n      <th>2019-01-27</th>\n      <td>0.694634</td>\n      <td>5.530924</td>\n    </tr>\n    <tr>\n      <th>2019-03-10</th>\n      <td>1.698881</td>\n      <td>2.081910</td>\n    </tr>\n    <tr>\n      <th rowspan=\"3\" valign=\"top\">S</th>\n      <th>2019-01-06</th>\n      <td>1.478424</td>\n      <td>-0.726072</td>\n    </tr>\n    <tr>\n      <th>2019-02-10</th>\n      <td>-0.432089</td>\n      <td>-2.152262</td>\n    </tr>\n    <tr>\n      <th>2019-02-17</th>\n      <td>-0.895602</td>\n      <td>-1.024900</td>\n    </tr>\n    <tr>\n      <th rowspan=\"2\" valign=\"top\">XL</th>\n      <th>2019-02-24</th>\n      <td>0.372604</td>\n      <td>-1.182194</td>\n    </tr>\n    <tr>\n      <th>2019-03-03</th>\n      <td>-0.534942</td>\n      <td>-0.932566</td>\n    </tr>\n  </tbody>\n</table>\n</div>"
     },
     "execution_count": 98,
     "metadata": {},
     "output_type": "execute_result"
    }
   ],
   "source": [
    "group_by_size_date.sum('feature_1').add_prefix('sum_')"
   ],
   "metadata": {
    "collapsed": false,
    "ExecuteTime": {
     "end_time": "2024-05-21T22:42:39.278447Z",
     "start_time": "2024-05-21T22:42:39.229486Z"
    }
   },
   "id": "3071228341a397be"
  },
  {
   "cell_type": "markdown",
   "source": [
    "利用预先设定的函数分组"
   ],
   "metadata": {
    "collapsed": false
   },
   "id": "ccf1185ea1b247ac"
  },
  {
   "cell_type": "code",
   "execution_count": 99,
   "outputs": [
    {
     "name": "stdout",
     "output_type": "stream",
     "text": [
      "('feature',                feature_1  feature_2\n",
      "class country                      \n",
      "A     JP        0.079250   0.001249\n",
      "B     CN       -0.223502   0.237778\n",
      "      US       -1.479936  -0.923234\n",
      "      US       -0.743658  -1.975354\n",
      "C     US        0.477011  -1.577402\n",
      "A     CN       -0.797722   1.269546\n",
      "B     CN        0.088330   0.182868\n",
      "A     CA       -0.719702   4.110095\n",
      "C     JP        0.873853   4.370260\n",
      "      CA       -0.585062   2.611070)\n",
      "('other',                color size       date\n",
      "class country                       \n",
      "A     JP       black    S 2019-01-06\n",
      "B     CN       white    M 2019-01-13\n",
      "      US       black    L 2019-01-20\n",
      "      US       white    M 2019-01-27\n",
      "C     US       black    L 2019-02-03\n",
      "A     CN       white    S 2019-02-10\n",
      "B     CN       black    S 2019-02-17\n",
      "A     CA       white   XL 2019-02-24\n",
      "C     JP       black   XL 2019-03-03\n",
      "      CA       white    M 2019-03-10)\n"
     ]
    },
    {
     "name": "stderr",
     "output_type": "stream",
     "text": [
      "/var/folders/gd/8y9x6hsx68q9nj6yn7hklxbh0000gn/T/ipykernel_33733/4168388543.py:6: FutureWarning: DataFrame.groupby with axis=1 is deprecated. Do `frame.T.groupby(...)` without axis instead.\n",
      "  for i in list(data_df.groupby(get_letter_type,axis=1)):\n"
     ]
    }
   ],
   "source": [
    "def get_letter_type(letter):\n",
    "    if 'feature' in letter:\n",
    "        return 'feature'\n",
    "    else:\n",
    "        return 'other'\n",
    "for i in list(data_df.groupby(get_letter_type,axis=1)):\n",
    "    print(i)"
   ],
   "metadata": {
    "collapsed": false,
    "ExecuteTime": {
     "end_time": "2024-05-21T22:42:42.445803Z",
     "start_time": "2024-05-21T22:42:42.399143Z"
    }
   },
   "id": "c419ba4a1b666bd7"
  },
  {
   "cell_type": "markdown",
   "source": [
    "利用索引分组"
   ],
   "metadata": {
    "collapsed": false
   },
   "id": "bcbcc3de72b2f27f"
  },
  {
   "cell_type": "markdown",
   "source": [],
   "metadata": {
    "collapsed": false
   },
   "id": "b25e14f973cc2a22"
  },
  {
   "cell_type": "code",
   "execution_count": 100,
   "outputs": [
    {
     "name": "stdout",
     "output_type": "stream",
     "text": [
      "(('A', 'CA'),                color size       date  feature_1  feature_2\n",
      "class country                                             \n",
      "A     CA       white   XL 2019-02-24  -0.719702   4.110095)\n",
      "(('A', 'CN'),                color size       date  feature_1  feature_2\n",
      "class country                                             \n",
      "A     CN       white    S 2019-02-10  -0.797722   1.269546)\n",
      "(('A', 'JP'),                color size       date  feature_1  feature_2\n",
      "class country                                             \n",
      "A     JP       black    S 2019-01-06    0.07925   0.001249)\n",
      "(('B', 'CN'),                color size       date  feature_1  feature_2\n",
      "class country                                             \n",
      "B     CN       white    M 2019-01-13  -0.223502   0.237778\n",
      "      CN       black    S 2019-02-17   0.088330   0.182868)\n",
      "(('B', 'US'),                color size       date  feature_1  feature_2\n",
      "class country                                             \n",
      "B     US       black    L 2019-01-20  -1.479936  -0.923234\n",
      "      US       white    M 2019-01-27  -0.743658  -1.975354)\n",
      "(('C', 'CA'),                color size       date  feature_1  feature_2\n",
      "class country                                             \n",
      "C     CA       white    M 2019-03-10  -0.585062    2.61107)\n",
      "(('C', 'JP'),                color size       date  feature_1  feature_2\n",
      "class country                                             \n",
      "C     JP       black   XL 2019-03-03   0.873853    4.37026)\n",
      "(('C', 'US'),                color size       date  feature_1  feature_2\n",
      "class country                                             \n",
      "C     US       black    L 2019-02-03   0.477011  -1.577402)\n"
     ]
    }
   ],
   "source": [
    "for i in list(data_df.groupby(level=[0,1])):\n",
    "    print(i)"
   ],
   "metadata": {
    "collapsed": false,
    "ExecuteTime": {
     "end_time": "2024-05-21T22:44:42.507692Z",
     "start_time": "2024-05-21T22:44:42.476341Z"
    }
   },
   "id": "b8f9b3fdcf3f9525"
  },
  {
   "cell_type": "code",
   "execution_count": 101,
   "outputs": [],
   "source": [
    "group_2 = data_df.groupby(['size','color'])\n"
   ],
   "metadata": {
    "collapsed": false,
    "ExecuteTime": {
     "end_time": "2024-05-21T22:46:52.881875Z",
     "start_time": "2024-05-21T22:46:52.838066Z"
    }
   },
   "id": "688dbb18c22e7bc0"
  },
  {
   "cell_type": "code",
   "execution_count": 102,
   "outputs": [
    {
     "name": "stdout",
     "output_type": "stream",
     "text": [
      "(('L', 'black'),                color size       date  feature_1  feature_2\n",
      "class country                                             \n",
      "B     US       black    L 2019-01-20  -1.479936  -0.923234\n",
      "C     US       black    L 2019-02-03   0.477011  -1.577402)\n",
      "(('M', 'white'),                color size       date  feature_1  feature_2\n",
      "class country                                             \n",
      "B     CN       white    M 2019-01-13  -0.223502   0.237778\n",
      "      US       white    M 2019-01-27  -0.743658  -1.975354\n",
      "C     CA       white    M 2019-03-10  -0.585062   2.611070)\n",
      "(('S', 'black'),                color size       date  feature_1  feature_2\n",
      "class country                                             \n",
      "A     JP       black    S 2019-01-06    0.07925   0.001249\n",
      "B     CN       black    S 2019-02-17    0.08833   0.182868)\n",
      "(('S', 'white'),                color size       date  feature_1  feature_2\n",
      "class country                                             \n",
      "A     CN       white    S 2019-02-10  -0.797722   1.269546)\n",
      "(('XL', 'black'),                color size       date  feature_1  feature_2\n",
      "class country                                             \n",
      "C     JP       black   XL 2019-03-03   0.873853    4.37026)\n",
      "(('XL', 'white'),                color size       date  feature_1  feature_2\n",
      "class country                                             \n",
      "A     CA       white   XL 2019-02-24  -0.719702   4.110095)\n"
     ]
    }
   ],
   "source": [
    "for i in list(group_2):\n",
    "    print(i)"
   ],
   "metadata": {
    "collapsed": false,
    "ExecuteTime": {
     "end_time": "2024-05-21T22:47:17.337629Z",
     "start_time": "2024-05-21T22:47:17.295214Z"
    }
   },
   "id": "f136ef3267464d48"
  },
  {
   "cell_type": "code",
   "execution_count": 103,
   "outputs": [
    {
     "name": "stderr",
     "output_type": "stream",
     "text": [
      "/var/folders/gd/8y9x6hsx68q9nj6yn7hklxbh0000gn/T/ipykernel_33733/1240364746.py:1: FutureWarning: The provided callable <function min at 0x1074d5bc0> is currently using SeriesGroupBy.min. In a future version of pandas, the provided callable will be used directly. To keep current behavior pass the string \"min\" instead.\n",
      "  group_2.agg({'feature_1':np.min,'feature_2':np.mean})\n",
      "/var/folders/gd/8y9x6hsx68q9nj6yn7hklxbh0000gn/T/ipykernel_33733/1240364746.py:1: FutureWarning: The provided callable <function mean at 0x1074d6480> is currently using SeriesGroupBy.mean. In a future version of pandas, the provided callable will be used directly. To keep current behavior pass the string \"mean\" instead.\n",
      "  group_2.agg({'feature_1':np.min,'feature_2':np.mean})\n"
     ]
    },
    {
     "data": {
      "text/plain": "            feature_1  feature_2\nsize color                      \nL    black  -1.479936  -1.250318\nM    white  -0.743658   0.291165\nS    black   0.079250   0.092058\n     white  -0.797722   1.269546\nXL   black   0.873853   4.370260\n     white  -0.719702   4.110095",
      "text/html": "<div>\n<style scoped>\n    .dataframe tbody tr th:only-of-type {\n        vertical-align: middle;\n    }\n\n    .dataframe tbody tr th {\n        vertical-align: top;\n    }\n\n    .dataframe thead th {\n        text-align: right;\n    }\n</style>\n<table border=\"1\" class=\"dataframe\">\n  <thead>\n    <tr style=\"text-align: right;\">\n      <th></th>\n      <th></th>\n      <th>feature_1</th>\n      <th>feature_2</th>\n    </tr>\n    <tr>\n      <th>size</th>\n      <th>color</th>\n      <th></th>\n      <th></th>\n    </tr>\n  </thead>\n  <tbody>\n    <tr>\n      <th>L</th>\n      <th>black</th>\n      <td>-1.479936</td>\n      <td>-1.250318</td>\n    </tr>\n    <tr>\n      <th>M</th>\n      <th>white</th>\n      <td>-0.743658</td>\n      <td>0.291165</td>\n    </tr>\n    <tr>\n      <th rowspan=\"2\" valign=\"top\">S</th>\n      <th>black</th>\n      <td>0.079250</td>\n      <td>0.092058</td>\n    </tr>\n    <tr>\n      <th>white</th>\n      <td>-0.797722</td>\n      <td>1.269546</td>\n    </tr>\n    <tr>\n      <th rowspan=\"2\" valign=\"top\">XL</th>\n      <th>black</th>\n      <td>0.873853</td>\n      <td>4.370260</td>\n    </tr>\n    <tr>\n      <th>white</th>\n      <td>-0.719702</td>\n      <td>4.110095</td>\n    </tr>\n  </tbody>\n</table>\n</div>"
     },
     "execution_count": 103,
     "metadata": {},
     "output_type": "execute_result"
    }
   ],
   "source": [
    "group_2.agg({'feature_1':np.min,'feature_2':np.mean})"
   ],
   "metadata": {
    "collapsed": false,
    "ExecuteTime": {
     "end_time": "2024-05-21T22:48:45.136709Z",
     "start_time": "2024-05-21T22:48:45.088600Z"
    }
   },
   "id": "de59ba6565c6e45a"
  },
  {
   "cell_type": "markdown",
   "source": [
    "transform 函数"
   ],
   "metadata": {
    "collapsed": false
   },
   "id": "badc83701018e290"
  },
  {
   "cell_type": "code",
   "execution_count": 104,
   "outputs": [
    {
     "ename": "TypeError",
     "evalue": "unsupported operand type(s) for -: 'str' and 'str'",
     "output_type": "error",
     "traceback": [
      "\u001B[0;31m---------------------------------------------------------------------------\u001B[0m",
      "\u001B[0;31mTypeError\u001B[0m                                 Traceback (most recent call last)",
      "Cell \u001B[0;32mIn[104], line 2\u001B[0m\n\u001B[1;32m      1\u001B[0m data_range \u001B[38;5;241m=\u001B[39m \u001B[38;5;28;01mlambda\u001B[39;00m x: x\u001B[38;5;241m.\u001B[39mmax() \u001B[38;5;241m-\u001B[39m x\u001B[38;5;241m.\u001B[39mmin()\n\u001B[0;32m----> 2\u001B[0m data_df\u001B[38;5;241m.\u001B[39mgroupby(\u001B[38;5;124m'\u001B[39m\u001B[38;5;124msize\u001B[39m\u001B[38;5;124m'\u001B[39m)\u001B[38;5;241m.\u001B[39mtransform(data_range)\n",
      "File \u001B[0;32m~/anaconda3/envs/data_anaylsis/lib/python3.11/site-packages/pandas/core/groupby/generic.py:1828\u001B[0m, in \u001B[0;36mDataFrameGroupBy.transform\u001B[0;34m(self, func, engine, engine_kwargs, *args, **kwargs)\u001B[0m\n\u001B[1;32m   1825\u001B[0m \u001B[38;5;129m@Substitution\u001B[39m(klass\u001B[38;5;241m=\u001B[39m\u001B[38;5;124m\"\u001B[39m\u001B[38;5;124mDataFrame\u001B[39m\u001B[38;5;124m\"\u001B[39m, example\u001B[38;5;241m=\u001B[39m__examples_dataframe_doc)\n\u001B[1;32m   1826\u001B[0m \u001B[38;5;129m@Appender\u001B[39m(_transform_template)\n\u001B[1;32m   1827\u001B[0m \u001B[38;5;28;01mdef\u001B[39;00m \u001B[38;5;21mtransform\u001B[39m(\u001B[38;5;28mself\u001B[39m, func, \u001B[38;5;241m*\u001B[39margs, engine\u001B[38;5;241m=\u001B[39m\u001B[38;5;28;01mNone\u001B[39;00m, engine_kwargs\u001B[38;5;241m=\u001B[39m\u001B[38;5;28;01mNone\u001B[39;00m, \u001B[38;5;241m*\u001B[39m\u001B[38;5;241m*\u001B[39mkwargs):\n\u001B[0;32m-> 1828\u001B[0m     \u001B[38;5;28;01mreturn\u001B[39;00m \u001B[38;5;28mself\u001B[39m\u001B[38;5;241m.\u001B[39m_transform(\n\u001B[1;32m   1829\u001B[0m         func, \u001B[38;5;241m*\u001B[39margs, engine\u001B[38;5;241m=\u001B[39mengine, engine_kwargs\u001B[38;5;241m=\u001B[39mengine_kwargs, \u001B[38;5;241m*\u001B[39m\u001B[38;5;241m*\u001B[39mkwargs\n\u001B[1;32m   1830\u001B[0m     )\n",
      "File \u001B[0;32m~/anaconda3/envs/data_anaylsis/lib/python3.11/site-packages/pandas/core/groupby/groupby.py:1950\u001B[0m, in \u001B[0;36mGroupBy._transform\u001B[0;34m(self, func, engine, engine_kwargs, *args, **kwargs)\u001B[0m\n\u001B[1;32m   1947\u001B[0m     warn_alias_replacement(\u001B[38;5;28mself\u001B[39m, orig_func, func)\n\u001B[1;32m   1949\u001B[0m \u001B[38;5;28;01mif\u001B[39;00m \u001B[38;5;129;01mnot\u001B[39;00m \u001B[38;5;28misinstance\u001B[39m(func, \u001B[38;5;28mstr\u001B[39m):\n\u001B[0;32m-> 1950\u001B[0m     \u001B[38;5;28;01mreturn\u001B[39;00m \u001B[38;5;28mself\u001B[39m\u001B[38;5;241m.\u001B[39m_transform_general(func, engine, engine_kwargs, \u001B[38;5;241m*\u001B[39margs, \u001B[38;5;241m*\u001B[39m\u001B[38;5;241m*\u001B[39mkwargs)\n\u001B[1;32m   1952\u001B[0m \u001B[38;5;28;01melif\u001B[39;00m func \u001B[38;5;129;01mnot\u001B[39;00m \u001B[38;5;129;01min\u001B[39;00m base\u001B[38;5;241m.\u001B[39mtransform_kernel_allowlist:\n\u001B[1;32m   1953\u001B[0m     msg \u001B[38;5;241m=\u001B[39m \u001B[38;5;124mf\u001B[39m\u001B[38;5;124m\"\u001B[39m\u001B[38;5;124m'\u001B[39m\u001B[38;5;132;01m{\u001B[39;00mfunc\u001B[38;5;132;01m}\u001B[39;00m\u001B[38;5;124m'\u001B[39m\u001B[38;5;124m is not a valid function name for transform(name)\u001B[39m\u001B[38;5;124m\"\u001B[39m\n",
      "File \u001B[0;32m~/anaconda3/envs/data_anaylsis/lib/python3.11/site-packages/pandas/core/groupby/generic.py:1745\u001B[0m, in \u001B[0;36mDataFrameGroupBy._transform_general\u001B[0;34m(self, func, engine, engine_kwargs, *args, **kwargs)\u001B[0m\n\u001B[1;32m   1743\u001B[0m \u001B[38;5;28mobject\u001B[39m\u001B[38;5;241m.\u001B[39m\u001B[38;5;21m__setattr__\u001B[39m(group, \u001B[38;5;124m\"\u001B[39m\u001B[38;5;124mname\u001B[39m\u001B[38;5;124m\"\u001B[39m, name)\n\u001B[1;32m   1744\u001B[0m \u001B[38;5;28;01mtry\u001B[39;00m:\n\u001B[0;32m-> 1745\u001B[0m     path, res \u001B[38;5;241m=\u001B[39m \u001B[38;5;28mself\u001B[39m\u001B[38;5;241m.\u001B[39m_choose_path(fast_path, slow_path, group)\n\u001B[1;32m   1746\u001B[0m \u001B[38;5;28;01mexcept\u001B[39;00m \u001B[38;5;167;01mValueError\u001B[39;00m \u001B[38;5;28;01mas\u001B[39;00m err:\n\u001B[1;32m   1747\u001B[0m     \u001B[38;5;66;03m# e.g. test_transform_with_non_scalar_group\u001B[39;00m\n\u001B[1;32m   1748\u001B[0m     msg \u001B[38;5;241m=\u001B[39m \u001B[38;5;124m\"\u001B[39m\u001B[38;5;124mtransform must return a scalar value for each group\u001B[39m\u001B[38;5;124m\"\u001B[39m\n",
      "File \u001B[0;32m~/anaconda3/envs/data_anaylsis/lib/python3.11/site-packages/pandas/core/groupby/generic.py:1847\u001B[0m, in \u001B[0;36mDataFrameGroupBy._choose_path\u001B[0;34m(self, fast_path, slow_path, group)\u001B[0m\n\u001B[1;32m   1845\u001B[0m \u001B[38;5;28;01mdef\u001B[39;00m \u001B[38;5;21m_choose_path\u001B[39m(\u001B[38;5;28mself\u001B[39m, fast_path: Callable, slow_path: Callable, group: DataFrame):\n\u001B[1;32m   1846\u001B[0m     path \u001B[38;5;241m=\u001B[39m slow_path\n\u001B[0;32m-> 1847\u001B[0m     res \u001B[38;5;241m=\u001B[39m slow_path(group)\n\u001B[1;32m   1849\u001B[0m     \u001B[38;5;28;01mif\u001B[39;00m \u001B[38;5;28mself\u001B[39m\u001B[38;5;241m.\u001B[39mngroups \u001B[38;5;241m==\u001B[39m \u001B[38;5;241m1\u001B[39m:\n\u001B[1;32m   1850\u001B[0m         \u001B[38;5;66;03m# no need to evaluate multiple paths when only\u001B[39;00m\n\u001B[1;32m   1851\u001B[0m         \u001B[38;5;66;03m# a single group exists\u001B[39;00m\n\u001B[1;32m   1852\u001B[0m         \u001B[38;5;28;01mreturn\u001B[39;00m path, res\n",
      "File \u001B[0;32m~/anaconda3/envs/data_anaylsis/lib/python3.11/site-packages/pandas/core/groupby/generic.py:1840\u001B[0m, in \u001B[0;36mDataFrameGroupBy._define_paths.<locals>.<lambda>\u001B[0;34m(group)\u001B[0m\n\u001B[1;32m   1838\u001B[0m \u001B[38;5;28;01melse\u001B[39;00m:\n\u001B[1;32m   1839\u001B[0m     fast_path \u001B[38;5;241m=\u001B[39m \u001B[38;5;28;01mlambda\u001B[39;00m group: func(group, \u001B[38;5;241m*\u001B[39margs, \u001B[38;5;241m*\u001B[39m\u001B[38;5;241m*\u001B[39mkwargs)\n\u001B[0;32m-> 1840\u001B[0m     slow_path \u001B[38;5;241m=\u001B[39m \u001B[38;5;28;01mlambda\u001B[39;00m group: group\u001B[38;5;241m.\u001B[39mapply(\n\u001B[1;32m   1841\u001B[0m         \u001B[38;5;28;01mlambda\u001B[39;00m x: func(x, \u001B[38;5;241m*\u001B[39margs, \u001B[38;5;241m*\u001B[39m\u001B[38;5;241m*\u001B[39mkwargs), axis\u001B[38;5;241m=\u001B[39m\u001B[38;5;28mself\u001B[39m\u001B[38;5;241m.\u001B[39maxis\n\u001B[1;32m   1842\u001B[0m     )\n\u001B[1;32m   1843\u001B[0m \u001B[38;5;28;01mreturn\u001B[39;00m fast_path, slow_path\n",
      "File \u001B[0;32m~/anaconda3/envs/data_anaylsis/lib/python3.11/site-packages/pandas/core/frame.py:10034\u001B[0m, in \u001B[0;36mDataFrame.apply\u001B[0;34m(self, func, axis, raw, result_type, args, by_row, **kwargs)\u001B[0m\n\u001B[1;32m  10022\u001B[0m \u001B[38;5;28;01mfrom\u001B[39;00m \u001B[38;5;21;01mpandas\u001B[39;00m\u001B[38;5;21;01m.\u001B[39;00m\u001B[38;5;21;01mcore\u001B[39;00m\u001B[38;5;21;01m.\u001B[39;00m\u001B[38;5;21;01mapply\u001B[39;00m \u001B[38;5;28;01mimport\u001B[39;00m frame_apply\n\u001B[1;32m  10024\u001B[0m op \u001B[38;5;241m=\u001B[39m frame_apply(\n\u001B[1;32m  10025\u001B[0m     \u001B[38;5;28mself\u001B[39m,\n\u001B[1;32m  10026\u001B[0m     func\u001B[38;5;241m=\u001B[39mfunc,\n\u001B[0;32m   (...)\u001B[0m\n\u001B[1;32m  10032\u001B[0m     kwargs\u001B[38;5;241m=\u001B[39mkwargs,\n\u001B[1;32m  10033\u001B[0m )\n\u001B[0;32m> 10034\u001B[0m \u001B[38;5;28;01mreturn\u001B[39;00m op\u001B[38;5;241m.\u001B[39mapply()\u001B[38;5;241m.\u001B[39m__finalize__(\u001B[38;5;28mself\u001B[39m, method\u001B[38;5;241m=\u001B[39m\u001B[38;5;124m\"\u001B[39m\u001B[38;5;124mapply\u001B[39m\u001B[38;5;124m\"\u001B[39m)\n",
      "File \u001B[0;32m~/anaconda3/envs/data_anaylsis/lib/python3.11/site-packages/pandas/core/apply.py:837\u001B[0m, in \u001B[0;36mFrameApply.apply\u001B[0;34m(self)\u001B[0m\n\u001B[1;32m    834\u001B[0m \u001B[38;5;28;01melif\u001B[39;00m \u001B[38;5;28mself\u001B[39m\u001B[38;5;241m.\u001B[39mraw:\n\u001B[1;32m    835\u001B[0m     \u001B[38;5;28;01mreturn\u001B[39;00m \u001B[38;5;28mself\u001B[39m\u001B[38;5;241m.\u001B[39mapply_raw()\n\u001B[0;32m--> 837\u001B[0m \u001B[38;5;28;01mreturn\u001B[39;00m \u001B[38;5;28mself\u001B[39m\u001B[38;5;241m.\u001B[39mapply_standard()\n",
      "File \u001B[0;32m~/anaconda3/envs/data_anaylsis/lib/python3.11/site-packages/pandas/core/apply.py:965\u001B[0m, in \u001B[0;36mFrameApply.apply_standard\u001B[0;34m(self)\u001B[0m\n\u001B[1;32m    964\u001B[0m \u001B[38;5;28;01mdef\u001B[39;00m \u001B[38;5;21mapply_standard\u001B[39m(\u001B[38;5;28mself\u001B[39m):\n\u001B[0;32m--> 965\u001B[0m     results, res_index \u001B[38;5;241m=\u001B[39m \u001B[38;5;28mself\u001B[39m\u001B[38;5;241m.\u001B[39mapply_series_generator()\n\u001B[1;32m    967\u001B[0m     \u001B[38;5;66;03m# wrap results\u001B[39;00m\n\u001B[1;32m    968\u001B[0m     \u001B[38;5;28;01mreturn\u001B[39;00m \u001B[38;5;28mself\u001B[39m\u001B[38;5;241m.\u001B[39mwrap_results(results, res_index)\n",
      "File \u001B[0;32m~/anaconda3/envs/data_anaylsis/lib/python3.11/site-packages/pandas/core/apply.py:981\u001B[0m, in \u001B[0;36mFrameApply.apply_series_generator\u001B[0;34m(self)\u001B[0m\n\u001B[1;32m    978\u001B[0m \u001B[38;5;28;01mwith\u001B[39;00m option_context(\u001B[38;5;124m\"\u001B[39m\u001B[38;5;124mmode.chained_assignment\u001B[39m\u001B[38;5;124m\"\u001B[39m, \u001B[38;5;28;01mNone\u001B[39;00m):\n\u001B[1;32m    979\u001B[0m     \u001B[38;5;28;01mfor\u001B[39;00m i, v \u001B[38;5;129;01min\u001B[39;00m \u001B[38;5;28menumerate\u001B[39m(series_gen):\n\u001B[1;32m    980\u001B[0m         \u001B[38;5;66;03m# ignore SettingWithCopy here in case the user mutates\u001B[39;00m\n\u001B[0;32m--> 981\u001B[0m         results[i] \u001B[38;5;241m=\u001B[39m \u001B[38;5;28mself\u001B[39m\u001B[38;5;241m.\u001B[39mfunc(v, \u001B[38;5;241m*\u001B[39m\u001B[38;5;28mself\u001B[39m\u001B[38;5;241m.\u001B[39margs, \u001B[38;5;241m*\u001B[39m\u001B[38;5;241m*\u001B[39m\u001B[38;5;28mself\u001B[39m\u001B[38;5;241m.\u001B[39mkwargs)\n\u001B[1;32m    982\u001B[0m         \u001B[38;5;28;01mif\u001B[39;00m \u001B[38;5;28misinstance\u001B[39m(results[i], ABCSeries):\n\u001B[1;32m    983\u001B[0m             \u001B[38;5;66;03m# If we have a view on v, we need to make a copy because\u001B[39;00m\n\u001B[1;32m    984\u001B[0m             \u001B[38;5;66;03m#  series_generator will swap out the underlying data\u001B[39;00m\n\u001B[1;32m    985\u001B[0m             results[i] \u001B[38;5;241m=\u001B[39m results[i]\u001B[38;5;241m.\u001B[39mcopy(deep\u001B[38;5;241m=\u001B[39m\u001B[38;5;28;01mFalse\u001B[39;00m)\n",
      "File \u001B[0;32m~/anaconda3/envs/data_anaylsis/lib/python3.11/site-packages/pandas/core/groupby/generic.py:1841\u001B[0m, in \u001B[0;36mDataFrameGroupBy._define_paths.<locals>.<lambda>.<locals>.<lambda>\u001B[0;34m(x)\u001B[0m\n\u001B[1;32m   1838\u001B[0m \u001B[38;5;28;01melse\u001B[39;00m:\n\u001B[1;32m   1839\u001B[0m     fast_path \u001B[38;5;241m=\u001B[39m \u001B[38;5;28;01mlambda\u001B[39;00m group: func(group, \u001B[38;5;241m*\u001B[39margs, \u001B[38;5;241m*\u001B[39m\u001B[38;5;241m*\u001B[39mkwargs)\n\u001B[1;32m   1840\u001B[0m     slow_path \u001B[38;5;241m=\u001B[39m \u001B[38;5;28;01mlambda\u001B[39;00m group: group\u001B[38;5;241m.\u001B[39mapply(\n\u001B[0;32m-> 1841\u001B[0m         \u001B[38;5;28;01mlambda\u001B[39;00m x: func(x, \u001B[38;5;241m*\u001B[39margs, \u001B[38;5;241m*\u001B[39m\u001B[38;5;241m*\u001B[39mkwargs), axis\u001B[38;5;241m=\u001B[39m\u001B[38;5;28mself\u001B[39m\u001B[38;5;241m.\u001B[39maxis\n\u001B[1;32m   1842\u001B[0m     )\n\u001B[1;32m   1843\u001B[0m \u001B[38;5;28;01mreturn\u001B[39;00m fast_path, slow_path\n",
      "Cell \u001B[0;32mIn[104], line 1\u001B[0m, in \u001B[0;36m<lambda>\u001B[0;34m(x)\u001B[0m\n\u001B[0;32m----> 1\u001B[0m data_range \u001B[38;5;241m=\u001B[39m \u001B[38;5;28;01mlambda\u001B[39;00m x: x\u001B[38;5;241m.\u001B[39mmax() \u001B[38;5;241m-\u001B[39m x\u001B[38;5;241m.\u001B[39mmin()\n\u001B[1;32m      2\u001B[0m data_df\u001B[38;5;241m.\u001B[39mgroupby(\u001B[38;5;124m'\u001B[39m\u001B[38;5;124msize\u001B[39m\u001B[38;5;124m'\u001B[39m)\u001B[38;5;241m.\u001B[39mtransform(data_range)\n",
      "\u001B[0;31mTypeError\u001B[0m: unsupported operand type(s) for -: 'str' and 'str'"
     ]
    }
   ],
   "source": [
    "data_range = lambda x: x.max() - x.min()\n",
    "data_df.groupby('size').transform(data_range)"
   ],
   "metadata": {
    "collapsed": false,
    "ExecuteTime": {
     "end_time": "2024-05-21T22:52:29.203565Z",
     "start_time": "2024-05-21T22:52:28.509235Z"
    }
   },
   "id": "c0f02659ed5a4e5d"
  },
  {
   "cell_type": "code",
   "execution_count": null,
   "outputs": [],
   "source": [],
   "metadata": {
    "collapsed": false
   },
   "id": "5450c1cf18ff10e9"
  }
 ],
 "metadata": {
  "kernelspec": {
   "display_name": "Python 3",
   "language": "python",
   "name": "python3"
  },
  "language_info": {
   "codemirror_mode": {
    "name": "ipython",
    "version": 2
   },
   "file_extension": ".py",
   "mimetype": "text/x-python",
   "name": "python",
   "nbconvert_exporter": "python",
   "pygments_lexer": "ipython2",
   "version": "2.7.6"
  }
 },
 "nbformat": 4,
 "nbformat_minor": 5
}

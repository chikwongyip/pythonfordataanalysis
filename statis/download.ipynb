{
 "cells": [
  {
   "cell_type": "code",
   "execution_count": 4,
   "id": "8ae7f5de",
   "metadata": {},
   "outputs": [],
   "source": [
    "from os.path import basename,exists"
   ]
  },
  {
   "cell_type": "code",
   "execution_count": 5,
   "id": "a760058e",
   "metadata": {},
   "outputs": [],
   "source": [
    "def download(url):\n",
    "    filename = basename(url)\n",
    "    if not exists(filename):\n",
    "        from urllib.request import urlretrieve\n",
    "        local,_ = urlretrieve(url,filename)\n",
    "        print(\"Downloaded\" + local)\n"
   ]
  },
  {
   "cell_type": "markdown",
   "id": "5ee6c51e",
   "metadata": {},
   "source": [
    "download tools"
   ]
  },
  {
   "cell_type": "code",
   "execution_count": 6,
   "id": "f3ef1fd2",
   "metadata": {},
   "outputs": [
    {
     "name": "stdout",
     "output_type": "stream",
     "text": [
      "Downloadedthinkstats2.py\n",
      "Downloadedthinkplot.py\n"
     ]
    }
   ],
   "source": [
    "download(\"https://github.com/AllenDowney/ThinkStats2/raw/master/code/thinkstats2.py\")\n",
    "download(\"https://github.com/AllenDowney/ThinkStats2/raw/master/code/thinkplot.py\")"
   ]
  },
  {
   "cell_type": "markdown",
   "id": "13845f17",
   "metadata": {},
   "source": [
    "download data"
   ]
  },
  {
   "cell_type": "code",
   "execution_count": 7,
   "id": "aa84fe70",
   "metadata": {},
   "outputs": [
    {
     "name": "stdout",
     "output_type": "stream",
     "text": [
      "Downloadednsfg.py\n",
      "Downloaded2002FemPreg.dct\n",
      "Downloaded2002FemPreg.dat.gz\n"
     ]
    }
   ],
   "source": [
    "download(\"https://github.com/AllenDowney/ThinkStats2/raw/master/code/nsfg.py\")\n",
    "\n",
    "download(\"https://github.com/AllenDowney/ThinkStats2/raw/master/code/2002FemPreg.dct\")\n",
    "download(\n",
    "    \"https://github.com/AllenDowney/ThinkStats2/raw/master/code/2002FemPreg.dat.gz\"\n",
    ")"
   ]
  }
 ],
 "metadata": {
  "kernelspec": {
   "display_name": "ThinkStats",
   "language": "python",
   "name": "python3"
  },
  "language_info": {
   "codemirror_mode": {
    "name": "ipython",
    "version": 3
   },
   "file_extension": ".py",
   "mimetype": "text/x-python",
   "name": "python",
   "nbconvert_exporter": "python",
   "pygments_lexer": "ipython3",
   "version": "3.10.18"
  }
 },
 "nbformat": 4,
 "nbformat_minor": 5
}

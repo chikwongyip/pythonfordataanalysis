{
 "cells": [
  {
   "cell_type": "markdown",
   "id": "efa41bca",
   "metadata": {},
   "source": [
    "常用方法\n",
    "1.数据中，选择需要的的行或者列\n",
    "2.基础索引方式，就是直接引用\n",
    "3.ioc[行索引名称或者条件,列索引名或者标签]\n",
    "4.iloc[行索引位置，列索引位置]\n",
    "5.注意，区分loc和iloc\n"
   ]
  },
  {
   "cell_type": "code",
   "execution_count": null,
   "id": "f52a62bc",
   "metadata": {},
   "outputs": [],
   "source": [
    "import pandas as pd\n",
    "import numpy as np\n",
    "df = pd.read_csv('data/master.csv',encoding='utf-8')\n"
   ]
  },
  {
   "cell_type": "code",
   "execution_count": null,
   "id": "c28850ca",
   "metadata": {},
   "outputs": [],
   "source": [
    "# 查看数据\n",
    "df.info()"
   ]
  },
  {
   "cell_type": "code",
   "execution_count": null,
   "id": "65b4bd78",
   "metadata": {},
   "outputs": [],
   "source": [
    "# 查看前5条数据\n",
    "df.head(5)"
   ]
  },
  {
   "cell_type": "code",
   "execution_count": null,
   "id": "e9942dd7",
   "metadata": {},
   "outputs": [],
   "source": [
    "df.tail(5)"
   ]
  },
  {
   "cell_type": "code",
   "execution_count": null,
   "id": "27b3a2e2",
   "metadata": {},
   "outputs": [],
   "source": [
    "# 简单索引\n",
    "df['country']"
   ]
  },
  {
   "cell_type": "code",
   "execution_count": null,
   "id": "30e32c61",
   "metadata": {},
   "outputs": [],
   "source": [
    "df['country'][:5]"
   ]
  },
  {
   "cell_type": "code",
   "execution_count": null,
   "id": "8b0ea352",
   "metadata": {},
   "outputs": [],
   "source": [
    "# 多变量选择\n",
    "df[['country','year']][0:5]"
   ]
  },
  {
   "cell_type": "code",
   "execution_count": null,
   "id": "bf933330",
   "metadata": {},
   "outputs": [],
   "source": [
    "# loc 和 iloc 的使用\n",
    "df.loc[3:4]"
   ]
  },
  {
   "cell_type": "code",
   "execution_count": null,
   "id": "2d71e17a",
   "metadata": {},
   "outputs": [],
   "source": [
    "# 选择列和column\n",
    "df.loc[:,['country','sex']]"
   ]
  },
  {
   "cell_type": "code",
   "execution_count": null,
   "id": "b87c8391",
   "metadata": {},
   "outputs": [],
   "source": [
    "df.loc[1:3,['country','population']]"
   ]
  },
  {
   "cell_type": "code",
   "execution_count": null,
   "id": "fcf953ec",
   "metadata": {},
   "outputs": [],
   "source": []
  },
  {
   "cell_type": "code",
   "execution_count": null,
   "id": "78f9aa66",
   "metadata": {},
   "outputs": [],
   "source": [
    "# 获取 在某个特定条件下 对应字段数据\n",
    "df.loc[df.country == 'Uzbekistan',['sex','population']]"
   ]
  },
  {
   "cell_type": "code",
   "execution_count": null,
   "id": "e6d6b17d",
   "metadata": {},
   "outputs": [],
   "source": [
    "# 多条件选\n",
    "df.loc[(df.country == 'Albania') | (df.country=='USA'),['year','sex','age']]"
   ]
  },
  {
   "cell_type": "code",
   "execution_count": null,
   "id": "09176a89",
   "metadata": {},
   "outputs": [],
   "source": [
    "# 注意iloc是位置\n",
    "df.iloc[:,1:4] #按照位置选第二列到第四列\n"
   ]
  },
  {
   "cell_type": "code",
   "execution_count": null,
   "id": "b9f1f484",
   "metadata": {},
   "outputs": [],
   "source": [
    "df.iloc[3,[1,2]] #按照位置选择第四行，第二列和第三列数据 3不是代表索引是位置"
   ]
  },
  {
   "cell_type": "code",
   "execution_count": null,
   "id": "8d973da9",
   "metadata": {},
   "outputs": [],
   "source": [
    "df.iloc[2:7,[1,3]]"
   ]
  },
  {
   "cell_type": "code",
   "execution_count": null,
   "id": "20e9fbf7",
   "metadata": {},
   "outputs": [],
   "source": [
    "df.iloc[2:7]"
   ]
  },
  {
   "cell_type": "markdown",
   "id": "ca88f4e8",
   "metadata": {},
   "source": [
    "数据增加和删除\n",
    "在数据中直接增加列\n",
    "使用df.insert()\n",
    "掌握drop(labels,axis,inplace=True)的用法\n",
    "labels表示删除的数据，axis表示轴，inplace=True表示对原数据是否生效\n",
    "axis = 0 按行操作，axis = 1 按列操作\n",
    "使用del 函数直接删除其中一列"
   ]
  },
  {
   "cell_type": "code",
   "execution_count": null,
   "id": "d59abfa0",
   "metadata": {},
   "outputs": [],
   "source": [
    "# 增加一列人口大于2万\n",
    "df['population_up'] = np.where(df['population'] >= 20000,'high','low') \n",
    "df.head()"
   ]
  },
  {
   "cell_type": "code",
   "execution_count": null,
   "id": "f14bc451",
   "metadata": {},
   "outputs": [],
   "source": [
    "# 删除列\n",
    "del df['population_up']\n",
    "df.head()"
   ]
  },
  {
   "cell_type": "code",
   "execution_count": null,
   "id": "85d85213",
   "metadata": {},
   "outputs": [],
   "source": [
    "df['population_up'] = np.where(df['population'] >= 20000,'high','low') \n",
    "population_up = df['population_up']\n",
    "df.insert(0,'pop_1',population_up)\n",
    "df.head()"
   ]
  },
  {
   "cell_type": "code",
   "execution_count": null,
   "id": "bf8dc9bf",
   "metadata": {},
   "outputs": [],
   "source": [
    "df.drop(labels=['pop_1','population_up'],axis=1,inplace=True)\n",
    "df"
   ]
  },
  {
   "cell_type": "code",
   "execution_count": null,
   "id": "a9f61a03",
   "metadata": {},
   "outputs": [],
   "source": [
    "# df.drop(labels=[3,4],inplace=True,axis=0) #删除3，4 index的行\n",
    "df.drop(labels=range(1,3),axis=0,inplace=True)\n",
    "df.head()"
   ]
  },
  {
   "cell_type": "markdown",
   "id": "49c1090c",
   "metadata": {},
   "source": [
    "3.数据修改和查找\n",
    "1.在数据中，可以使用rename修改列名称或者行索引名称\n",
    "2.使用loc方法修改数据\n",
    "3.使用loc方法查找符合条件数据\n",
    "4.条件与条件之间用&或者|连接 分别代表'且' 和 '或'\n",
    "5.使用between 和 isin选择满足条件的行"
   ]
  },
  {
   "cell_type": "code",
   "execution_count": null,
   "id": "c76b8d16",
   "metadata": {},
   "outputs": [],
   "source": [
    "df.head()"
   ]
  },
  {
   "cell_type": "code",
   "execution_count": null,
   "id": "0a124639",
   "metadata": {},
   "outputs": [],
   "source": [
    "df.loc[df['sex'] == 'male','sex'] = '男'\n",
    "df.loc[df['sex'] == 'female','sex'] = '女'\n",
    "\n",
    "df.head()"
   ]
  },
  {
   "cell_type": "code",
   "execution_count": null,
   "id": "a15ebde7",
   "metadata": {},
   "outputs": [],
   "source": [
    "df.rename(columns={'country-year':'country_year'},inplace=True)\n",
    "df.head()"
   ]
  },
  {
   "cell_type": "code",
   "execution_count": null,
   "id": "49e38c9e",
   "metadata": {},
   "outputs": [],
   "source": [
    "# 条件查询\n",
    "df[df['sex'] == '男'].head()"
   ]
  },
  {
   "cell_type": "code",
   "execution_count": null,
   "id": "1a0d1f9c",
   "metadata": {},
   "outputs": [],
   "source": [
    "df[(df['sex']== '男') & (df['suicides_no'] >= 10)].head()"
   ]
  },
  {
   "cell_type": "code",
   "execution_count": null,
   "id": "5fad8b97",
   "metadata": {},
   "outputs": [],
   "source": [
    "# 使用between，inclusive=True\n",
    "df[df['gdp_per_capita ($)'].between(769,896,inclusive='both')].head(100)"
   ]
  },
  {
   "cell_type": "code",
   "execution_count": null,
   "id": "c24387d6",
   "metadata": {},
   "outputs": [],
   "source": [
    "df[df['country'].isin(['America'])].head()"
   ]
  },
  {
   "cell_type": "markdown",
   "id": "3371250b",
   "metadata": {},
   "source": [
    "4.数据整理\n",
    "在清洗过程中，很多时候需要将不用的数据整理在一起，方便后续的分析，这个过程叫数据合并\n",
    "合并方法:有堆叠和按住键进行合并，按主键合并类似SQL里面的关联操作\n",
    "横向堆叠将两张表或多张表在x轴方向，即横向拼接在一起\n",
    "纵向堆叠将两张表或者多张在Y轴方向，即纵向拼接在一起\n",
    "注意使用concat时，axis=1用于横向，0代表纵向\n",
    "注意join 取inner 或者outer ，分别代表交集和并集"
   ]
  },
  {
   "cell_type": "code",
   "execution_count": null,
   "id": "7441a711",
   "metadata": {},
   "outputs": [],
   "source": [
    "order = pd.concat([df,df],axis=0,ignore_index=False)"
   ]
  },
  {
   "cell_type": "code",
   "execution_count": null,
   "id": "4c7f222d",
   "metadata": {},
   "outputs": [],
   "source": [
    "order.shape\n"
   ]
  },
  {
   "cell_type": "code",
   "execution_count": null,
   "id": "6d3eaf5a",
   "metadata": {},
   "outputs": [],
   "source": [
    "#通过循环合并\n",
    "import xlrd\n",
    "workbook = xlrd.open_workbook('data/master.csv')\n",
    "sheet_name = workbook.sheet_names()\n",
    "basic = pd.DataFrame()\n",
    "for i in sheet_name:\n",
    "    basic_i = pd.read_excel('data/master.csv',header=0,sheet_name=i)\n",
    "    basic = pd.concat([basic,basic_i],axis=0)"
   ]
  },
  {
   "cell_type": "code",
   "execution_count": null,
   "id": "0481f0c9",
   "metadata": {},
   "outputs": [],
   "source": [
    "# 关联，关联字段必须要一致\n",
    "df2 = pd.merge(left=df,right=df,how='inner',left_on='country',right_on='country')"
   ]
  },
  {
   "cell_type": "markdown",
   "id": "ba183d95",
   "metadata": {},
   "source": [
    "5 层次化索引\n",
    "定义：在一个轴上拥有两个或者两个以上的索引\n",
    "使用loc语句进行访问\n",
    "loc里面接受数据tuple 如loc[(a,b)]"
   ]
  },
  {
   "cell_type": "code",
   "execution_count": 43,
   "id": "61f94112",
   "metadata": {},
   "outputs": [
    {
     "data": {
      "text/html": [
       "<div>\n",
       "<style scoped>\n",
       "    .dataframe tbody tr th:only-of-type {\n",
       "        vertical-align: middle;\n",
       "    }\n",
       "\n",
       "    .dataframe tbody tr th {\n",
       "        vertical-align: top;\n",
       "    }\n",
       "\n",
       "    .dataframe thead th {\n",
       "        text-align: right;\n",
       "    }\n",
       "</style>\n",
       "<table border=\"1\" class=\"dataframe\">\n",
       "  <thead>\n",
       "    <tr style=\"text-align: right;\">\n",
       "      <th></th>\n",
       "      <th></th>\n",
       "      <th></th>\n",
       "      <th>age</th>\n",
       "      <th>suicides_no</th>\n",
       "      <th>population</th>\n",
       "      <th>suicides/100k pop</th>\n",
       "      <th>country-year</th>\n",
       "      <th>HDI for year</th>\n",
       "      <th>gdp_for_year ($)</th>\n",
       "      <th>gdp_per_capita ($)</th>\n",
       "      <th>generation</th>\n",
       "    </tr>\n",
       "    <tr>\n",
       "      <th>country</th>\n",
       "      <th>year</th>\n",
       "      <th>sex</th>\n",
       "      <th></th>\n",
       "      <th></th>\n",
       "      <th></th>\n",
       "      <th></th>\n",
       "      <th></th>\n",
       "      <th></th>\n",
       "      <th></th>\n",
       "      <th></th>\n",
       "      <th></th>\n",
       "    </tr>\n",
       "  </thead>\n",
       "  <tbody>\n",
       "    <tr>\n",
       "      <th rowspan=\"5\" valign=\"top\">Albania</th>\n",
       "      <th rowspan=\"5\" valign=\"top\">1987</th>\n",
       "      <th>male</th>\n",
       "      <td>15-24 years</td>\n",
       "      <td>21</td>\n",
       "      <td>312900</td>\n",
       "      <td>6.71</td>\n",
       "      <td>Albania1987</td>\n",
       "      <td>NaN</td>\n",
       "      <td>2,156,624,900</td>\n",
       "      <td>796</td>\n",
       "      <td>Generation X</td>\n",
       "    </tr>\n",
       "    <tr>\n",
       "      <th>male</th>\n",
       "      <td>35-54 years</td>\n",
       "      <td>16</td>\n",
       "      <td>308000</td>\n",
       "      <td>5.19</td>\n",
       "      <td>Albania1987</td>\n",
       "      <td>NaN</td>\n",
       "      <td>2,156,624,900</td>\n",
       "      <td>796</td>\n",
       "      <td>Silent</td>\n",
       "    </tr>\n",
       "    <tr>\n",
       "      <th>female</th>\n",
       "      <td>15-24 years</td>\n",
       "      <td>14</td>\n",
       "      <td>289700</td>\n",
       "      <td>4.83</td>\n",
       "      <td>Albania1987</td>\n",
       "      <td>NaN</td>\n",
       "      <td>2,156,624,900</td>\n",
       "      <td>796</td>\n",
       "      <td>Generation X</td>\n",
       "    </tr>\n",
       "    <tr>\n",
       "      <th>male</th>\n",
       "      <td>75+ years</td>\n",
       "      <td>1</td>\n",
       "      <td>21800</td>\n",
       "      <td>4.59</td>\n",
       "      <td>Albania1987</td>\n",
       "      <td>NaN</td>\n",
       "      <td>2,156,624,900</td>\n",
       "      <td>796</td>\n",
       "      <td>G.I. Generation</td>\n",
       "    </tr>\n",
       "    <tr>\n",
       "      <th>male</th>\n",
       "      <td>25-34 years</td>\n",
       "      <td>9</td>\n",
       "      <td>274300</td>\n",
       "      <td>3.28</td>\n",
       "      <td>Albania1987</td>\n",
       "      <td>NaN</td>\n",
       "      <td>2,156,624,900</td>\n",
       "      <td>796</td>\n",
       "      <td>Boomers</td>\n",
       "    </tr>\n",
       "    <tr>\n",
       "      <th>...</th>\n",
       "      <th>...</th>\n",
       "      <th>...</th>\n",
       "      <td>...</td>\n",
       "      <td>...</td>\n",
       "      <td>...</td>\n",
       "      <td>...</td>\n",
       "      <td>...</td>\n",
       "      <td>...</td>\n",
       "      <td>...</td>\n",
       "      <td>...</td>\n",
       "      <td>...</td>\n",
       "    </tr>\n",
       "    <tr>\n",
       "      <th rowspan=\"5\" valign=\"top\">Uzbekistan</th>\n",
       "      <th rowspan=\"5\" valign=\"top\">2014</th>\n",
       "      <th>female</th>\n",
       "      <td>35-54 years</td>\n",
       "      <td>107</td>\n",
       "      <td>3620833</td>\n",
       "      <td>2.96</td>\n",
       "      <td>Uzbekistan2014</td>\n",
       "      <td>0.675</td>\n",
       "      <td>63,067,077,179</td>\n",
       "      <td>2309</td>\n",
       "      <td>Generation X</td>\n",
       "    </tr>\n",
       "    <tr>\n",
       "      <th>female</th>\n",
       "      <td>75+ years</td>\n",
       "      <td>9</td>\n",
       "      <td>348465</td>\n",
       "      <td>2.58</td>\n",
       "      <td>Uzbekistan2014</td>\n",
       "      <td>0.675</td>\n",
       "      <td>63,067,077,179</td>\n",
       "      <td>2309</td>\n",
       "      <td>Silent</td>\n",
       "    </tr>\n",
       "    <tr>\n",
       "      <th>male</th>\n",
       "      <td>5-14 years</td>\n",
       "      <td>60</td>\n",
       "      <td>2762158</td>\n",
       "      <td>2.17</td>\n",
       "      <td>Uzbekistan2014</td>\n",
       "      <td>0.675</td>\n",
       "      <td>63,067,077,179</td>\n",
       "      <td>2309</td>\n",
       "      <td>Generation Z</td>\n",
       "    </tr>\n",
       "    <tr>\n",
       "      <th>female</th>\n",
       "      <td>5-14 years</td>\n",
       "      <td>44</td>\n",
       "      <td>2631600</td>\n",
       "      <td>1.67</td>\n",
       "      <td>Uzbekistan2014</td>\n",
       "      <td>0.675</td>\n",
       "      <td>63,067,077,179</td>\n",
       "      <td>2309</td>\n",
       "      <td>Generation Z</td>\n",
       "    </tr>\n",
       "    <tr>\n",
       "      <th>female</th>\n",
       "      <td>55-74 years</td>\n",
       "      <td>21</td>\n",
       "      <td>1438935</td>\n",
       "      <td>1.46</td>\n",
       "      <td>Uzbekistan2014</td>\n",
       "      <td>0.675</td>\n",
       "      <td>63,067,077,179</td>\n",
       "      <td>2309</td>\n",
       "      <td>Boomers</td>\n",
       "    </tr>\n",
       "  </tbody>\n",
       "</table>\n",
       "<p>27820 rows × 9 columns</p>\n",
       "</div>"
      ],
      "text/plain": [
       "                                age  suicides_no  population  \\\n",
       "country    year sex                                            \n",
       "Albania    1987 male    15-24 years           21      312900   \n",
       "                male    35-54 years           16      308000   \n",
       "                female  15-24 years           14      289700   \n",
       "                male      75+ years            1       21800   \n",
       "                male    25-34 years            9      274300   \n",
       "...                             ...          ...         ...   \n",
       "Uzbekistan 2014 female  35-54 years          107     3620833   \n",
       "                female    75+ years            9      348465   \n",
       "                male     5-14 years           60     2762158   \n",
       "                female   5-14 years           44     2631600   \n",
       "                female  55-74 years           21     1438935   \n",
       "\n",
       "                        suicides/100k pop    country-year  HDI for year  \\\n",
       "country    year sex                                                       \n",
       "Albania    1987 male                 6.71     Albania1987           NaN   \n",
       "                male                 5.19     Albania1987           NaN   \n",
       "                female               4.83     Albania1987           NaN   \n",
       "                male                 4.59     Albania1987           NaN   \n",
       "                male                 3.28     Albania1987           NaN   \n",
       "...                                   ...             ...           ...   \n",
       "Uzbekistan 2014 female               2.96  Uzbekistan2014         0.675   \n",
       "                female               2.58  Uzbekistan2014         0.675   \n",
       "                male                 2.17  Uzbekistan2014         0.675   \n",
       "                female               1.67  Uzbekistan2014         0.675   \n",
       "                female               1.46  Uzbekistan2014         0.675   \n",
       "\n",
       "                        gdp_for_year ($)   gdp_per_capita ($)       generation  \n",
       "country    year sex                                                             \n",
       "Albania    1987 male        2,156,624,900                 796     Generation X  \n",
       "                male        2,156,624,900                 796           Silent  \n",
       "                female      2,156,624,900                 796     Generation X  \n",
       "                male        2,156,624,900                 796  G.I. Generation  \n",
       "                male        2,156,624,900                 796          Boomers  \n",
       "...                                   ...                 ...              ...  \n",
       "Uzbekistan 2014 female     63,067,077,179                2309     Generation X  \n",
       "                female     63,067,077,179                2309           Silent  \n",
       "                male       63,067,077,179                2309     Generation Z  \n",
       "                female     63,067,077,179                2309     Generation Z  \n",
       "                female     63,067,077,179                2309          Boomers  \n",
       "\n",
       "[27820 rows x 9 columns]"
      ]
     },
     "execution_count": 43,
     "metadata": {},
     "output_type": "execute_result"
    }
   ],
   "source": [
    "df = pd.read_csv('data/master.csv',encoding='utf-8',index_col=[0,1,2])\n",
    "# df = pd.read_csv('data/master.csv',encoding='utf-8',index_col=[3,0])\n",
    "df\n"
   ]
  },
  {
   "cell_type": "code",
   "execution_count": 44,
   "id": "1a175d3f",
   "metadata": {},
   "outputs": [
    {
     "data": {
      "text/html": [
       "<div>\n",
       "<style scoped>\n",
       "    .dataframe tbody tr th:only-of-type {\n",
       "        vertical-align: middle;\n",
       "    }\n",
       "\n",
       "    .dataframe tbody tr th {\n",
       "        vertical-align: top;\n",
       "    }\n",
       "\n",
       "    .dataframe thead th {\n",
       "        text-align: right;\n",
       "    }\n",
       "</style>\n",
       "<table border=\"1\" class=\"dataframe\">\n",
       "  <thead>\n",
       "    <tr style=\"text-align: right;\">\n",
       "      <th></th>\n",
       "      <th></th>\n",
       "      <th>age</th>\n",
       "      <th>suicides_no</th>\n",
       "      <th>population</th>\n",
       "      <th>suicides/100k pop</th>\n",
       "      <th>country-year</th>\n",
       "      <th>HDI for year</th>\n",
       "      <th>gdp_for_year ($)</th>\n",
       "      <th>gdp_per_capita ($)</th>\n",
       "      <th>generation</th>\n",
       "    </tr>\n",
       "    <tr>\n",
       "      <th>year</th>\n",
       "      <th>sex</th>\n",
       "      <th></th>\n",
       "      <th></th>\n",
       "      <th></th>\n",
       "      <th></th>\n",
       "      <th></th>\n",
       "      <th></th>\n",
       "      <th></th>\n",
       "      <th></th>\n",
       "      <th></th>\n",
       "    </tr>\n",
       "  </thead>\n",
       "  <tbody>\n",
       "    <tr>\n",
       "      <th rowspan=\"5\" valign=\"top\">1987</th>\n",
       "      <th>male</th>\n",
       "      <td>15-24 years</td>\n",
       "      <td>21</td>\n",
       "      <td>312900</td>\n",
       "      <td>6.71</td>\n",
       "      <td>Albania1987</td>\n",
       "      <td>NaN</td>\n",
       "      <td>2,156,624,900</td>\n",
       "      <td>796</td>\n",
       "      <td>Generation X</td>\n",
       "    </tr>\n",
       "    <tr>\n",
       "      <th>male</th>\n",
       "      <td>35-54 years</td>\n",
       "      <td>16</td>\n",
       "      <td>308000</td>\n",
       "      <td>5.19</td>\n",
       "      <td>Albania1987</td>\n",
       "      <td>NaN</td>\n",
       "      <td>2,156,624,900</td>\n",
       "      <td>796</td>\n",
       "      <td>Silent</td>\n",
       "    </tr>\n",
       "    <tr>\n",
       "      <th>female</th>\n",
       "      <td>15-24 years</td>\n",
       "      <td>14</td>\n",
       "      <td>289700</td>\n",
       "      <td>4.83</td>\n",
       "      <td>Albania1987</td>\n",
       "      <td>NaN</td>\n",
       "      <td>2,156,624,900</td>\n",
       "      <td>796</td>\n",
       "      <td>Generation X</td>\n",
       "    </tr>\n",
       "    <tr>\n",
       "      <th>male</th>\n",
       "      <td>75+ years</td>\n",
       "      <td>1</td>\n",
       "      <td>21800</td>\n",
       "      <td>4.59</td>\n",
       "      <td>Albania1987</td>\n",
       "      <td>NaN</td>\n",
       "      <td>2,156,624,900</td>\n",
       "      <td>796</td>\n",
       "      <td>G.I. Generation</td>\n",
       "    </tr>\n",
       "    <tr>\n",
       "      <th>male</th>\n",
       "      <td>25-34 years</td>\n",
       "      <td>9</td>\n",
       "      <td>274300</td>\n",
       "      <td>3.28</td>\n",
       "      <td>Albania1987</td>\n",
       "      <td>NaN</td>\n",
       "      <td>2,156,624,900</td>\n",
       "      <td>796</td>\n",
       "      <td>Boomers</td>\n",
       "    </tr>\n",
       "    <tr>\n",
       "      <th>...</th>\n",
       "      <th>...</th>\n",
       "      <td>...</td>\n",
       "      <td>...</td>\n",
       "      <td>...</td>\n",
       "      <td>...</td>\n",
       "      <td>...</td>\n",
       "      <td>...</td>\n",
       "      <td>...</td>\n",
       "      <td>...</td>\n",
       "      <td>...</td>\n",
       "    </tr>\n",
       "    <tr>\n",
       "      <th rowspan=\"5\" valign=\"top\">2010</th>\n",
       "      <th>female</th>\n",
       "      <td>35-54 years</td>\n",
       "      <td>12</td>\n",
       "      <td>394593</td>\n",
       "      <td>3.04</td>\n",
       "      <td>Albania2010</td>\n",
       "      <td>0.722</td>\n",
       "      <td>11,926,953,259</td>\n",
       "      <td>4359</td>\n",
       "      <td>Generation X</td>\n",
       "    </tr>\n",
       "    <tr>\n",
       "      <th>female</th>\n",
       "      <td>55-74 years</td>\n",
       "      <td>7</td>\n",
       "      <td>241491</td>\n",
       "      <td>2.90</td>\n",
       "      <td>Albania2010</td>\n",
       "      <td>0.722</td>\n",
       "      <td>11,926,953,259</td>\n",
       "      <td>4359</td>\n",
       "      <td>Silent</td>\n",
       "    </tr>\n",
       "    <tr>\n",
       "      <th>female</th>\n",
       "      <td>15-24 years</td>\n",
       "      <td>6</td>\n",
       "      <td>263581</td>\n",
       "      <td>2.28</td>\n",
       "      <td>Albania2010</td>\n",
       "      <td>0.722</td>\n",
       "      <td>11,926,953,259</td>\n",
       "      <td>4359</td>\n",
       "      <td>Millenials</td>\n",
       "    </tr>\n",
       "    <tr>\n",
       "      <th>female</th>\n",
       "      <td>5-14 years</td>\n",
       "      <td>2</td>\n",
       "      <td>223969</td>\n",
       "      <td>0.89</td>\n",
       "      <td>Albania2010</td>\n",
       "      <td>0.722</td>\n",
       "      <td>11,926,953,259</td>\n",
       "      <td>4359</td>\n",
       "      <td>Generation Z</td>\n",
       "    </tr>\n",
       "    <tr>\n",
       "      <th>male</th>\n",
       "      <td>5-14 years</td>\n",
       "      <td>0</td>\n",
       "      <td>240939</td>\n",
       "      <td>0.00</td>\n",
       "      <td>Albania2010</td>\n",
       "      <td>0.722</td>\n",
       "      <td>11,926,953,259</td>\n",
       "      <td>4359</td>\n",
       "      <td>Generation Z</td>\n",
       "    </tr>\n",
       "  </tbody>\n",
       "</table>\n",
       "<p>264 rows × 9 columns</p>\n",
       "</div>"
      ],
      "text/plain": [
       "                     age  suicides_no  population  suicides/100k pop  \\\n",
       "year sex                                                               \n",
       "1987 male    15-24 years           21      312900               6.71   \n",
       "     male    35-54 years           16      308000               5.19   \n",
       "     female  15-24 years           14      289700               4.83   \n",
       "     male      75+ years            1       21800               4.59   \n",
       "     male    25-34 years            9      274300               3.28   \n",
       "...                  ...          ...         ...                ...   \n",
       "2010 female  35-54 years           12      394593               3.04   \n",
       "     female  55-74 years            7      241491               2.90   \n",
       "     female  15-24 years            6      263581               2.28   \n",
       "     female   5-14 years            2      223969               0.89   \n",
       "     male     5-14 years            0      240939               0.00   \n",
       "\n",
       "            country-year  HDI for year  gdp_for_year ($)   gdp_per_capita ($)  \\\n",
       "year sex                                                                        \n",
       "1987 male    Albania1987           NaN      2,156,624,900                 796   \n",
       "     male    Albania1987           NaN      2,156,624,900                 796   \n",
       "     female  Albania1987           NaN      2,156,624,900                 796   \n",
       "     male    Albania1987           NaN      2,156,624,900                 796   \n",
       "     male    Albania1987           NaN      2,156,624,900                 796   \n",
       "...                  ...           ...                ...                 ...   \n",
       "2010 female  Albania2010         0.722     11,926,953,259                4359   \n",
       "     female  Albania2010         0.722     11,926,953,259                4359   \n",
       "     female  Albania2010         0.722     11,926,953,259                4359   \n",
       "     female  Albania2010         0.722     11,926,953,259                4359   \n",
       "     male    Albania2010         0.722     11,926,953,259                4359   \n",
       "\n",
       "                  generation  \n",
       "year sex                      \n",
       "1987 male       Generation X  \n",
       "     male             Silent  \n",
       "     female     Generation X  \n",
       "     male    G.I. Generation  \n",
       "     male            Boomers  \n",
       "...                      ...  \n",
       "2010 female     Generation X  \n",
       "     female           Silent  \n",
       "     female       Millenials  \n",
       "     female     Generation Z  \n",
       "     male       Generation Z  \n",
       "\n",
       "[264 rows x 9 columns]"
      ]
     },
     "execution_count": 44,
     "metadata": {},
     "output_type": "execute_result"
    }
   ],
   "source": [
    "# 第一层引用\n",
    "df.loc['Albania']"
   ]
  },
  {
   "cell_type": "code",
   "execution_count": null,
   "id": "a9f9cda4",
   "metadata": {},
   "outputs": [
    {
     "ename": "KeyError",
     "evalue": "\"None of [Index(['1987', '2010'], dtype='object')] are in the [columns]\"",
     "output_type": "error",
     "traceback": [
      "\u001b[0;31m---------------------------------------------------------------------------\u001b[0m",
      "\u001b[0;31mKeyError\u001b[0m                                  Traceback (most recent call last)",
      "Cell \u001b[0;32mIn[54], line 2\u001b[0m\n\u001b[1;32m      1\u001b[0m \u001b[38;5;66;03m# 第二层引用多选择\u001b[39;00m\n\u001b[0;32m----> 2\u001b[0m df\u001b[38;5;241m.\u001b[39mloc[(\u001b[38;5;124m'\u001b[39m\u001b[38;5;124mAlbania\u001b[39m\u001b[38;5;124m'\u001b[39m,[\u001b[38;5;124m'\u001b[39m\u001b[38;5;124m1987\u001b[39m\u001b[38;5;124m'\u001b[39m,\u001b[38;5;124m'\u001b[39m\u001b[38;5;124m2010\u001b[39m\u001b[38;5;124m'\u001b[39m])]\n",
      "File \u001b[0;32m~/anaconda3/envs/data_anaylsis/lib/python3.11/site-packages/pandas/core/indexing.py:1147\u001b[0m, in \u001b[0;36m_LocationIndexer.__getitem__\u001b[0;34m(self, key)\u001b[0m\n\u001b[1;32m   1145\u001b[0m     \u001b[38;5;28;01mif\u001b[39;00m \u001b[38;5;28mself\u001b[39m\u001b[38;5;241m.\u001b[39m_is_scalar_access(key):\n\u001b[1;32m   1146\u001b[0m         \u001b[38;5;28;01mreturn\u001b[39;00m \u001b[38;5;28mself\u001b[39m\u001b[38;5;241m.\u001b[39mobj\u001b[38;5;241m.\u001b[39m_get_value(\u001b[38;5;241m*\u001b[39mkey, takeable\u001b[38;5;241m=\u001b[39m\u001b[38;5;28mself\u001b[39m\u001b[38;5;241m.\u001b[39m_takeable)\n\u001b[0;32m-> 1147\u001b[0m     \u001b[38;5;28;01mreturn\u001b[39;00m \u001b[38;5;28mself\u001b[39m\u001b[38;5;241m.\u001b[39m_getitem_tuple(key)\n\u001b[1;32m   1148\u001b[0m \u001b[38;5;28;01melse\u001b[39;00m:\n\u001b[1;32m   1149\u001b[0m     \u001b[38;5;66;03m# we by definition only have the 0th axis\u001b[39;00m\n\u001b[1;32m   1150\u001b[0m     axis \u001b[38;5;241m=\u001b[39m \u001b[38;5;28mself\u001b[39m\u001b[38;5;241m.\u001b[39maxis \u001b[38;5;129;01mor\u001b[39;00m \u001b[38;5;241m0\u001b[39m\n",
      "File \u001b[0;32m~/anaconda3/envs/data_anaylsis/lib/python3.11/site-packages/pandas/core/indexing.py:1330\u001b[0m, in \u001b[0;36m_LocIndexer._getitem_tuple\u001b[0;34m(self, tup)\u001b[0m\n\u001b[1;32m   1328\u001b[0m \u001b[38;5;28;01mwith\u001b[39;00m suppress(IndexingError):\n\u001b[1;32m   1329\u001b[0m     tup \u001b[38;5;241m=\u001b[39m \u001b[38;5;28mself\u001b[39m\u001b[38;5;241m.\u001b[39m_expand_ellipsis(tup)\n\u001b[0;32m-> 1330\u001b[0m     \u001b[38;5;28;01mreturn\u001b[39;00m \u001b[38;5;28mself\u001b[39m\u001b[38;5;241m.\u001b[39m_getitem_lowerdim(tup)\n\u001b[1;32m   1332\u001b[0m \u001b[38;5;66;03m# no multi-index, so validate all of the indexers\u001b[39;00m\n\u001b[1;32m   1333\u001b[0m tup \u001b[38;5;241m=\u001b[39m \u001b[38;5;28mself\u001b[39m\u001b[38;5;241m.\u001b[39m_validate_tuple_indexer(tup)\n",
      "File \u001b[0;32m~/anaconda3/envs/data_anaylsis/lib/python3.11/site-packages/pandas/core/indexing.py:1015\u001b[0m, in \u001b[0;36m_LocationIndexer._getitem_lowerdim\u001b[0;34m(self, tup)\u001b[0m\n\u001b[1;32m   1013\u001b[0m \u001b[38;5;66;03m# we may have a nested tuples indexer here\u001b[39;00m\n\u001b[1;32m   1014\u001b[0m \u001b[38;5;28;01mif\u001b[39;00m \u001b[38;5;28mself\u001b[39m\u001b[38;5;241m.\u001b[39m_is_nested_tuple_indexer(tup):\n\u001b[0;32m-> 1015\u001b[0m     \u001b[38;5;28;01mreturn\u001b[39;00m \u001b[38;5;28mself\u001b[39m\u001b[38;5;241m.\u001b[39m_getitem_nested_tuple(tup)\n\u001b[1;32m   1017\u001b[0m \u001b[38;5;66;03m# we maybe be using a tuple to represent multiple dimensions here\u001b[39;00m\n\u001b[1;32m   1018\u001b[0m ax0 \u001b[38;5;241m=\u001b[39m \u001b[38;5;28mself\u001b[39m\u001b[38;5;241m.\u001b[39mobj\u001b[38;5;241m.\u001b[39m_get_axis(\u001b[38;5;241m0\u001b[39m)\n",
      "File \u001b[0;32m~/anaconda3/envs/data_anaylsis/lib/python3.11/site-packages/pandas/core/indexing.py:1127\u001b[0m, in \u001b[0;36m_LocationIndexer._getitem_nested_tuple\u001b[0;34m(self, tup)\u001b[0m\n\u001b[1;32m   1124\u001b[0m     axis \u001b[38;5;241m-\u001b[39m\u001b[38;5;241m=\u001b[39m \u001b[38;5;241m1\u001b[39m\n\u001b[1;32m   1125\u001b[0m     \u001b[38;5;28;01mcontinue\u001b[39;00m\n\u001b[0;32m-> 1127\u001b[0m obj \u001b[38;5;241m=\u001b[39m \u001b[38;5;28mgetattr\u001b[39m(obj, \u001b[38;5;28mself\u001b[39m\u001b[38;5;241m.\u001b[39mname)\u001b[38;5;241m.\u001b[39m_getitem_axis(key, axis\u001b[38;5;241m=\u001b[39maxis)\n\u001b[1;32m   1128\u001b[0m axis \u001b[38;5;241m-\u001b[39m\u001b[38;5;241m=\u001b[39m \u001b[38;5;241m1\u001b[39m\n\u001b[1;32m   1130\u001b[0m \u001b[38;5;66;03m# if we have a scalar, we are done\u001b[39;00m\n",
      "File \u001b[0;32m~/anaconda3/envs/data_anaylsis/lib/python3.11/site-packages/pandas/core/indexing.py:1382\u001b[0m, in \u001b[0;36m_LocIndexer._getitem_axis\u001b[0;34m(self, key, axis)\u001b[0m\n\u001b[1;32m   1379\u001b[0m     \u001b[38;5;28;01mif\u001b[39;00m \u001b[38;5;28mhasattr\u001b[39m(key, \u001b[38;5;124m\"\u001b[39m\u001b[38;5;124mndim\u001b[39m\u001b[38;5;124m\"\u001b[39m) \u001b[38;5;129;01mand\u001b[39;00m key\u001b[38;5;241m.\u001b[39mndim \u001b[38;5;241m>\u001b[39m \u001b[38;5;241m1\u001b[39m:\n\u001b[1;32m   1380\u001b[0m         \u001b[38;5;28;01mraise\u001b[39;00m \u001b[38;5;167;01mValueError\u001b[39;00m(\u001b[38;5;124m\"\u001b[39m\u001b[38;5;124mCannot index with multidimensional key\u001b[39m\u001b[38;5;124m\"\u001b[39m)\n\u001b[0;32m-> 1382\u001b[0m     \u001b[38;5;28;01mreturn\u001b[39;00m \u001b[38;5;28mself\u001b[39m\u001b[38;5;241m.\u001b[39m_getitem_iterable(key, axis\u001b[38;5;241m=\u001b[39maxis)\n\u001b[1;32m   1384\u001b[0m \u001b[38;5;66;03m# nested tuple slicing\u001b[39;00m\n\u001b[1;32m   1385\u001b[0m \u001b[38;5;28;01mif\u001b[39;00m is_nested_tuple(key, labels):\n",
      "File \u001b[0;32m~/anaconda3/envs/data_anaylsis/lib/python3.11/site-packages/pandas/core/indexing.py:1322\u001b[0m, in \u001b[0;36m_LocIndexer._getitem_iterable\u001b[0;34m(self, key, axis)\u001b[0m\n\u001b[1;32m   1319\u001b[0m \u001b[38;5;28mself\u001b[39m\u001b[38;5;241m.\u001b[39m_validate_key(key, axis)\n\u001b[1;32m   1321\u001b[0m \u001b[38;5;66;03m# A collection of keys\u001b[39;00m\n\u001b[0;32m-> 1322\u001b[0m keyarr, indexer \u001b[38;5;241m=\u001b[39m \u001b[38;5;28mself\u001b[39m\u001b[38;5;241m.\u001b[39m_get_listlike_indexer(key, axis)\n\u001b[1;32m   1323\u001b[0m \u001b[38;5;28;01mreturn\u001b[39;00m \u001b[38;5;28mself\u001b[39m\u001b[38;5;241m.\u001b[39mobj\u001b[38;5;241m.\u001b[39m_reindex_with_indexers(\n\u001b[1;32m   1324\u001b[0m     {axis: [keyarr, indexer]}, copy\u001b[38;5;241m=\u001b[39m\u001b[38;5;28;01mTrue\u001b[39;00m, allow_dups\u001b[38;5;241m=\u001b[39m\u001b[38;5;28;01mTrue\u001b[39;00m\n\u001b[1;32m   1325\u001b[0m )\n",
      "File \u001b[0;32m~/anaconda3/envs/data_anaylsis/lib/python3.11/site-packages/pandas/core/indexing.py:1520\u001b[0m, in \u001b[0;36m_LocIndexer._get_listlike_indexer\u001b[0;34m(self, key, axis)\u001b[0m\n\u001b[1;32m   1517\u001b[0m ax \u001b[38;5;241m=\u001b[39m \u001b[38;5;28mself\u001b[39m\u001b[38;5;241m.\u001b[39mobj\u001b[38;5;241m.\u001b[39m_get_axis(axis)\n\u001b[1;32m   1518\u001b[0m axis_name \u001b[38;5;241m=\u001b[39m \u001b[38;5;28mself\u001b[39m\u001b[38;5;241m.\u001b[39mobj\u001b[38;5;241m.\u001b[39m_get_axis_name(axis)\n\u001b[0;32m-> 1520\u001b[0m keyarr, indexer \u001b[38;5;241m=\u001b[39m ax\u001b[38;5;241m.\u001b[39m_get_indexer_strict(key, axis_name)\n\u001b[1;32m   1522\u001b[0m \u001b[38;5;28;01mreturn\u001b[39;00m keyarr, indexer\n",
      "File \u001b[0;32m~/anaconda3/envs/data_anaylsis/lib/python3.11/site-packages/pandas/core/indexes/base.py:6115\u001b[0m, in \u001b[0;36mIndex._get_indexer_strict\u001b[0;34m(self, key, axis_name)\u001b[0m\n\u001b[1;32m   6112\u001b[0m \u001b[38;5;28;01melse\u001b[39;00m:\n\u001b[1;32m   6113\u001b[0m     keyarr, indexer, new_indexer \u001b[38;5;241m=\u001b[39m \u001b[38;5;28mself\u001b[39m\u001b[38;5;241m.\u001b[39m_reindex_non_unique(keyarr)\n\u001b[0;32m-> 6115\u001b[0m \u001b[38;5;28mself\u001b[39m\u001b[38;5;241m.\u001b[39m_raise_if_missing(keyarr, indexer, axis_name)\n\u001b[1;32m   6117\u001b[0m keyarr \u001b[38;5;241m=\u001b[39m \u001b[38;5;28mself\u001b[39m\u001b[38;5;241m.\u001b[39mtake(indexer)\n\u001b[1;32m   6118\u001b[0m \u001b[38;5;28;01mif\u001b[39;00m \u001b[38;5;28misinstance\u001b[39m(key, Index):\n\u001b[1;32m   6119\u001b[0m     \u001b[38;5;66;03m# GH 42790 - Preserve name from an Index\u001b[39;00m\n",
      "File \u001b[0;32m~/anaconda3/envs/data_anaylsis/lib/python3.11/site-packages/pandas/core/indexes/base.py:6176\u001b[0m, in \u001b[0;36mIndex._raise_if_missing\u001b[0;34m(self, key, indexer, axis_name)\u001b[0m\n\u001b[1;32m   6174\u001b[0m     \u001b[38;5;28;01mif\u001b[39;00m use_interval_msg:\n\u001b[1;32m   6175\u001b[0m         key \u001b[38;5;241m=\u001b[39m \u001b[38;5;28mlist\u001b[39m(key)\n\u001b[0;32m-> 6176\u001b[0m     \u001b[38;5;28;01mraise\u001b[39;00m \u001b[38;5;167;01mKeyError\u001b[39;00m(\u001b[38;5;124mf\u001b[39m\u001b[38;5;124m\"\u001b[39m\u001b[38;5;124mNone of [\u001b[39m\u001b[38;5;132;01m{\u001b[39;00mkey\u001b[38;5;132;01m}\u001b[39;00m\u001b[38;5;124m] are in the [\u001b[39m\u001b[38;5;132;01m{\u001b[39;00maxis_name\u001b[38;5;132;01m}\u001b[39;00m\u001b[38;5;124m]\u001b[39m\u001b[38;5;124m\"\u001b[39m)\n\u001b[1;32m   6178\u001b[0m not_found \u001b[38;5;241m=\u001b[39m \u001b[38;5;28mlist\u001b[39m(ensure_index(key)[missing_mask\u001b[38;5;241m.\u001b[39mnonzero()[\u001b[38;5;241m0\u001b[39m]]\u001b[38;5;241m.\u001b[39munique())\n\u001b[1;32m   6179\u001b[0m \u001b[38;5;28;01mraise\u001b[39;00m \u001b[38;5;167;01mKeyError\u001b[39;00m(\u001b[38;5;124mf\u001b[39m\u001b[38;5;124m\"\u001b[39m\u001b[38;5;132;01m{\u001b[39;00mnot_found\u001b[38;5;132;01m}\u001b[39;00m\u001b[38;5;124m not in index\u001b[39m\u001b[38;5;124m\"\u001b[39m)\n",
      "\u001b[0;31mKeyError\u001b[0m: \"None of [Index(['1987', '2010'], dtype='object')] are in the [columns]\""
     ]
    }
   ],
   "source": [
    "# 第二层引用多选择\n",
    "df.loc[('Albania','1987')]"
   ]
  },
  {
   "cell_type": "code",
   "execution_count": null,
   "id": "b6e369f0",
   "metadata": {},
   "outputs": [],
   "source": []
  }
 ],
 "metadata": {
  "kernelspec": {
   "display_name": "data_anaylsis",
   "language": "python",
   "name": "python3"
  },
  "language_info": {
   "codemirror_mode": {
    "name": "ipython",
    "version": 3
   },
   "file_extension": ".py",
   "mimetype": "text/x-python",
   "name": "python",
   "nbconvert_exporter": "python",
   "pygments_lexer": "ipython3",
   "version": "3.11.5"
  }
 },
 "nbformat": 4,
 "nbformat_minor": 5
}

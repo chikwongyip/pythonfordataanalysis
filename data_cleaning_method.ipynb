{
 "cells": [
  {
   "cell_type": "markdown",
   "id": "efa41bca",
   "metadata": {},
   "source": [
    "常用方法\n",
    "1.数据中，选择需要的的行或者列\n",
    "2.基础索引方式，就是直接引用\n",
    "3.ioc[行索引名称或者条件,列索引名或者标签]\n",
    "4.iloc[行索引位置，列索引位置]\n",
    "5.注意，区分loc和iloc\n"
   ]
  },
  {
   "cell_type": "code",
   "execution_count": null,
   "id": "f52a62bc",
   "metadata": {},
   "outputs": [],
   "source": [
    "import pandas as pd\n",
    "import numpy as np\n",
    "df = pd.read_csv('data/master.csv',encoding='utf-8')\n"
   ]
  },
  {
   "cell_type": "code",
   "execution_count": null,
   "id": "c28850ca",
   "metadata": {},
   "outputs": [],
   "source": [
    "# 查看数据\n",
    "df.info()"
   ]
  },
  {
   "cell_type": "code",
   "execution_count": null,
   "id": "65b4bd78",
   "metadata": {},
   "outputs": [],
   "source": [
    "# 查看前5条数据\n",
    "df.head(5)"
   ]
  },
  {
   "cell_type": "code",
   "execution_count": null,
   "id": "e9942dd7",
   "metadata": {},
   "outputs": [],
   "source": [
    "df.tail(5)"
   ]
  },
  {
   "cell_type": "code",
   "execution_count": null,
   "id": "27b3a2e2",
   "metadata": {},
   "outputs": [],
   "source": [
    "# 简单索引\n",
    "df['country']"
   ]
  },
  {
   "cell_type": "code",
   "execution_count": null,
   "id": "30e32c61",
   "metadata": {},
   "outputs": [],
   "source": [
    "df['country'][:5]"
   ]
  },
  {
   "cell_type": "code",
   "execution_count": null,
   "id": "8b0ea352",
   "metadata": {},
   "outputs": [],
   "source": [
    "# 多变量选择\n",
    "df[['country','year']][0:5]"
   ]
  },
  {
   "cell_type": "code",
   "execution_count": null,
   "id": "bf933330",
   "metadata": {},
   "outputs": [],
   "source": [
    "# loc 和 iloc 的使用\n",
    "df.loc[3:4]"
   ]
  },
  {
   "cell_type": "code",
   "execution_count": null,
   "id": "2d71e17a",
   "metadata": {},
   "outputs": [],
   "source": [
    "# 选择列和column\n",
    "df.loc[:,['country','sex']]"
   ]
  },
  {
   "cell_type": "code",
   "execution_count": null,
   "id": "b87c8391",
   "metadata": {},
   "outputs": [],
   "source": [
    "df.loc[1:3,['country','population']]"
   ]
  },
  {
   "cell_type": "code",
   "execution_count": null,
   "id": "fcf953ec",
   "metadata": {},
   "outputs": [],
   "source": []
  },
  {
   "cell_type": "code",
   "execution_count": null,
   "id": "78f9aa66",
   "metadata": {},
   "outputs": [],
   "source": [
    "# 获取 在某个特定条件下 对应字段数据\n",
    "df.loc[df.country == 'Uzbekistan',['sex','population']]"
   ]
  },
  {
   "cell_type": "code",
   "execution_count": null,
   "id": "e6d6b17d",
   "metadata": {},
   "outputs": [],
   "source": [
    "# 多条件选\n",
    "df.loc[(df.country == 'Albania') | (df.country=='USA'),['year','sex','age']]"
   ]
  },
  {
   "cell_type": "code",
   "execution_count": null,
   "id": "09176a89",
   "metadata": {},
   "outputs": [],
   "source": [
    "# 注意iloc是位置\n",
    "df.iloc[:,1:4] #按照位置选第二列到第四列\n"
   ]
  },
  {
   "cell_type": "code",
   "execution_count": null,
   "id": "b9f1f484",
   "metadata": {},
   "outputs": [],
   "source": [
    "df.iloc[3,[1,2]] #按照位置选择第四行，第二列和第三列数据 3不是代表索引是位置"
   ]
  },
  {
   "cell_type": "code",
   "execution_count": null,
   "id": "8d973da9",
   "metadata": {},
   "outputs": [],
   "source": [
    "df.iloc[2:7,[1,3]]"
   ]
  },
  {
   "cell_type": "code",
   "execution_count": null,
   "id": "20e9fbf7",
   "metadata": {},
   "outputs": [],
   "source": [
    "df.iloc[2:7]"
   ]
  },
  {
   "cell_type": "markdown",
   "id": "ca88f4e8",
   "metadata": {},
   "source": [
    "数据增加和删除\n",
    "在数据中直接增加列\n",
    "使用df.insert()\n",
    "掌握drop(labels,axis,inplace=True)的用法\n",
    "labels表示删除的数据，axis表示轴，inplace=True表示对原数据是否生效\n",
    "axis = 0 按行操作，axis = 1 按列操作\n",
    "使用del 函数直接删除其中一列"
   ]
  },
  {
   "cell_type": "code",
   "execution_count": null,
   "id": "d59abfa0",
   "metadata": {},
   "outputs": [],
   "source": [
    "# 增加一列人口大于2万\n",
    "df['population_up'] = np.where(df['population'] >= 20000,'high','low') \n",
    "df.head()"
   ]
  },
  {
   "cell_type": "code",
   "execution_count": null,
   "id": "f14bc451",
   "metadata": {},
   "outputs": [],
   "source": [
    "# 删除列\n",
    "del df['population_up']\n",
    "df.head()"
   ]
  },
  {
   "cell_type": "code",
   "execution_count": null,
   "id": "85d85213",
   "metadata": {},
   "outputs": [],
   "source": [
    "df['population_up'] = np.where(df['population'] >= 20000,'high','low') \n",
    "population_up = df['population_up']\n",
    "df.insert(0,'pop_1',population_up)\n",
    "df.head()"
   ]
  },
  {
   "cell_type": "code",
   "execution_count": null,
   "id": "bf8dc9bf",
   "metadata": {},
   "outputs": [],
   "source": [
    "df.drop(labels=['pop_1','population_up'],axis=1,inplace=True)\n",
    "df"
   ]
  },
  {
   "cell_type": "code",
   "execution_count": null,
   "id": "a9f61a03",
   "metadata": {},
   "outputs": [],
   "source": [
    "# df.drop(labels=[3,4],inplace=True,axis=0) #删除3，4 index的行\n",
    "df.drop(labels=range(1,3),axis=0,inplace=True)\n",
    "df.head()"
   ]
  },
  {
   "cell_type": "markdown",
   "id": "49c1090c",
   "metadata": {},
   "source": [
    "3.数据修改和查找\n",
    "1.在数据中，可以使用rename修改列名称或者行索引名称\n",
    "2.使用loc方法修改数据\n",
    "3.使用loc方法查找符合条件数据\n",
    "4.条件与条件之间用&或者|连接 分别代表'且' 和 '或'\n",
    "5.使用between 和 isin选择满足条件的行"
   ]
  },
  {
   "cell_type": "code",
   "execution_count": null,
   "id": "c76b8d16",
   "metadata": {},
   "outputs": [],
   "source": [
    "df.head()"
   ]
  },
  {
   "cell_type": "code",
   "execution_count": null,
   "id": "0a124639",
   "metadata": {},
   "outputs": [],
   "source": [
    "df.loc[df['sex'] == 'male','sex'] = '男'\n",
    "df.loc[df['sex'] == 'female','sex'] = '女'\n",
    "\n",
    "df.head()"
   ]
  },
  {
   "cell_type": "code",
   "execution_count": null,
   "id": "a15ebde7",
   "metadata": {},
   "outputs": [],
   "source": [
    "df.rename(columns={'country-year':'country_year'},inplace=True)\n",
    "df.head()"
   ]
  },
  {
   "cell_type": "code",
   "execution_count": null,
   "id": "49e38c9e",
   "metadata": {},
   "outputs": [],
   "source": [
    "# 条件查询\n",
    "df[df['sex'] == '男'].head()"
   ]
  },
  {
   "cell_type": "code",
   "execution_count": null,
   "id": "1a0d1f9c",
   "metadata": {},
   "outputs": [],
   "source": [
    "df[(df['sex']== '男') & (df['suicides_no'] >= 10)].head()"
   ]
  },
  {
   "cell_type": "code",
   "execution_count": 88,
   "id": "5fad8b97",
   "metadata": {},
   "outputs": [
    {
     "data": {
      "text/html": [
       "<div>\n",
       "<style scoped>\n",
       "    .dataframe tbody tr th:only-of-type {\n",
       "        vertical-align: middle;\n",
       "    }\n",
       "\n",
       "    .dataframe tbody tr th {\n",
       "        vertical-align: top;\n",
       "    }\n",
       "\n",
       "    .dataframe thead th {\n",
       "        text-align: right;\n",
       "    }\n",
       "</style>\n",
       "<table border=\"1\" class=\"dataframe\">\n",
       "  <thead>\n",
       "    <tr style=\"text-align: right;\">\n",
       "      <th></th>\n",
       "      <th>country</th>\n",
       "      <th>year</th>\n",
       "      <th>sex</th>\n",
       "      <th>age</th>\n",
       "      <th>suicides_no</th>\n",
       "      <th>population</th>\n",
       "      <th>suicides/100k pop</th>\n",
       "      <th>country_year</th>\n",
       "      <th>HDI for year</th>\n",
       "      <th>gdp_for_year ($)</th>\n",
       "      <th>gdp_per_capita ($)</th>\n",
       "      <th>generation</th>\n",
       "    </tr>\n",
       "  </thead>\n",
       "  <tbody>\n",
       "    <tr>\n",
       "      <th>0</th>\n",
       "      <td>Albania</td>\n",
       "      <td>1987</td>\n",
       "      <td>男</td>\n",
       "      <td>15-24 years</td>\n",
       "      <td>21</td>\n",
       "      <td>312900</td>\n",
       "      <td>6.71</td>\n",
       "      <td>Albania1987</td>\n",
       "      <td>NaN</td>\n",
       "      <td>2,156,624,900</td>\n",
       "      <td>796</td>\n",
       "      <td>Generation X</td>\n",
       "    </tr>\n",
       "    <tr>\n",
       "      <th>5</th>\n",
       "      <td>Albania</td>\n",
       "      <td>1987</td>\n",
       "      <td>女</td>\n",
       "      <td>75+ years</td>\n",
       "      <td>1</td>\n",
       "      <td>35600</td>\n",
       "      <td>2.81</td>\n",
       "      <td>Albania1987</td>\n",
       "      <td>NaN</td>\n",
       "      <td>2,156,624,900</td>\n",
       "      <td>796</td>\n",
       "      <td>G.I. Generation</td>\n",
       "    </tr>\n",
       "    <tr>\n",
       "      <th>6</th>\n",
       "      <td>Albania</td>\n",
       "      <td>1987</td>\n",
       "      <td>女</td>\n",
       "      <td>35-54 years</td>\n",
       "      <td>6</td>\n",
       "      <td>278800</td>\n",
       "      <td>2.15</td>\n",
       "      <td>Albania1987</td>\n",
       "      <td>NaN</td>\n",
       "      <td>2,156,624,900</td>\n",
       "      <td>796</td>\n",
       "      <td>Silent</td>\n",
       "    </tr>\n",
       "    <tr>\n",
       "      <th>7</th>\n",
       "      <td>Albania</td>\n",
       "      <td>1987</td>\n",
       "      <td>女</td>\n",
       "      <td>25-34 years</td>\n",
       "      <td>4</td>\n",
       "      <td>257200</td>\n",
       "      <td>1.56</td>\n",
       "      <td>Albania1987</td>\n",
       "      <td>NaN</td>\n",
       "      <td>2,156,624,900</td>\n",
       "      <td>796</td>\n",
       "      <td>Boomers</td>\n",
       "    </tr>\n",
       "    <tr>\n",
       "      <th>8</th>\n",
       "      <td>Albania</td>\n",
       "      <td>1987</td>\n",
       "      <td>男</td>\n",
       "      <td>55-74 years</td>\n",
       "      <td>1</td>\n",
       "      <td>137500</td>\n",
       "      <td>0.73</td>\n",
       "      <td>Albania1987</td>\n",
       "      <td>NaN</td>\n",
       "      <td>2,156,624,900</td>\n",
       "      <td>796</td>\n",
       "      <td>G.I. Generation</td>\n",
       "    </tr>\n",
       "    <tr>\n",
       "      <th>...</th>\n",
       "      <td>...</td>\n",
       "      <td>...</td>\n",
       "      <td>...</td>\n",
       "      <td>...</td>\n",
       "      <td>...</td>\n",
       "      <td>...</td>\n",
       "      <td>...</td>\n",
       "      <td>...</td>\n",
       "      <td>...</td>\n",
       "      <td>...</td>\n",
       "      <td>...</td>\n",
       "      <td>...</td>\n",
       "    </tr>\n",
       "    <tr>\n",
       "      <th>9521</th>\n",
       "      <td>Georgia</td>\n",
       "      <td>1997</td>\n",
       "      <td>男</td>\n",
       "      <td>35-54 years</td>\n",
       "      <td>38</td>\n",
       "      <td>557750</td>\n",
       "      <td>6.81</td>\n",
       "      <td>Georgia1997</td>\n",
       "      <td>NaN</td>\n",
       "      <td>3,510,540,809</td>\n",
       "      <td>828</td>\n",
       "      <td>Boomers</td>\n",
       "    </tr>\n",
       "    <tr>\n",
       "      <th>9522</th>\n",
       "      <td>Georgia</td>\n",
       "      <td>1997</td>\n",
       "      <td>男</td>\n",
       "      <td>15-24 years</td>\n",
       "      <td>22</td>\n",
       "      <td>354700</td>\n",
       "      <td>6.20</td>\n",
       "      <td>Georgia1997</td>\n",
       "      <td>NaN</td>\n",
       "      <td>3,510,540,809</td>\n",
       "      <td>828</td>\n",
       "      <td>Generation X</td>\n",
       "    </tr>\n",
       "    <tr>\n",
       "      <th>9523</th>\n",
       "      <td>Georgia</td>\n",
       "      <td>1997</td>\n",
       "      <td>女</td>\n",
       "      <td>75+ years</td>\n",
       "      <td>7</td>\n",
       "      <td>123300</td>\n",
       "      <td>5.68</td>\n",
       "      <td>Georgia1997</td>\n",
       "      <td>NaN</td>\n",
       "      <td>3,510,540,809</td>\n",
       "      <td>828</td>\n",
       "      <td>G.I. Generation</td>\n",
       "    </tr>\n",
       "    <tr>\n",
       "      <th>9524</th>\n",
       "      <td>Georgia</td>\n",
       "      <td>1997</td>\n",
       "      <td>女</td>\n",
       "      <td>55-74 years</td>\n",
       "      <td>12</td>\n",
       "      <td>455100</td>\n",
       "      <td>2.64</td>\n",
       "      <td>Georgia1997</td>\n",
       "      <td>NaN</td>\n",
       "      <td>3,510,540,809</td>\n",
       "      <td>828</td>\n",
       "      <td>Silent</td>\n",
       "    </tr>\n",
       "    <tr>\n",
       "      <th>9525</th>\n",
       "      <td>Georgia</td>\n",
       "      <td>1997</td>\n",
       "      <td>女</td>\n",
       "      <td>35-54 years</td>\n",
       "      <td>13</td>\n",
       "      <td>629400</td>\n",
       "      <td>2.07</td>\n",
       "      <td>Georgia1997</td>\n",
       "      <td>NaN</td>\n",
       "      <td>3,510,540,809</td>\n",
       "      <td>828</td>\n",
       "      <td>Boomers</td>\n",
       "    </tr>\n",
       "  </tbody>\n",
       "</table>\n",
       "<p>100 rows × 12 columns</p>\n",
       "</div>"
      ],
      "text/plain": [
       "      country  year sex          age  suicides_no  population  \\\n",
       "0     Albania  1987   男  15-24 years           21      312900   \n",
       "5     Albania  1987   女    75+ years            1       35600   \n",
       "6     Albania  1987   女  35-54 years            6      278800   \n",
       "7     Albania  1987   女  25-34 years            4      257200   \n",
       "8     Albania  1987   男  55-74 years            1      137500   \n",
       "...       ...   ...  ..          ...          ...         ...   \n",
       "9521  Georgia  1997   男  35-54 years           38      557750   \n",
       "9522  Georgia  1997   男  15-24 years           22      354700   \n",
       "9523  Georgia  1997   女    75+ years            7      123300   \n",
       "9524  Georgia  1997   女  55-74 years           12      455100   \n",
       "9525  Georgia  1997   女  35-54 years           13      629400   \n",
       "\n",
       "      suicides/100k pop country_year  HDI for year  gdp_for_year ($)   \\\n",
       "0                  6.71  Albania1987           NaN      2,156,624,900   \n",
       "5                  2.81  Albania1987           NaN      2,156,624,900   \n",
       "6                  2.15  Albania1987           NaN      2,156,624,900   \n",
       "7                  1.56  Albania1987           NaN      2,156,624,900   \n",
       "8                  0.73  Albania1987           NaN      2,156,624,900   \n",
       "...                 ...          ...           ...                ...   \n",
       "9521               6.81  Georgia1997           NaN      3,510,540,809   \n",
       "9522               6.20  Georgia1997           NaN      3,510,540,809   \n",
       "9523               5.68  Georgia1997           NaN      3,510,540,809   \n",
       "9524               2.64  Georgia1997           NaN      3,510,540,809   \n",
       "9525               2.07  Georgia1997           NaN      3,510,540,809   \n",
       "\n",
       "      gdp_per_capita ($)       generation  \n",
       "0                    796     Generation X  \n",
       "5                    796  G.I. Generation  \n",
       "6                    796           Silent  \n",
       "7                    796          Boomers  \n",
       "8                    796  G.I. Generation  \n",
       "...                  ...              ...  \n",
       "9521                 828          Boomers  \n",
       "9522                 828     Generation X  \n",
       "9523                 828  G.I. Generation  \n",
       "9524                 828           Silent  \n",
       "9525                 828          Boomers  \n",
       "\n",
       "[100 rows x 12 columns]"
      ]
     },
     "execution_count": 88,
     "metadata": {},
     "output_type": "execute_result"
    }
   ],
   "source": [
    "# 使用between，inclusive=True\n",
    "df[df['gdp_per_capita ($)'].between(769,896,inclusive='both')].head(100)"
   ]
  },
  {
   "cell_type": "code",
   "execution_count": 90,
   "id": "c24387d6",
   "metadata": {},
   "outputs": [
    {
     "data": {
      "text/html": [
       "<div>\n",
       "<style scoped>\n",
       "    .dataframe tbody tr th:only-of-type {\n",
       "        vertical-align: middle;\n",
       "    }\n",
       "\n",
       "    .dataframe tbody tr th {\n",
       "        vertical-align: top;\n",
       "    }\n",
       "\n",
       "    .dataframe thead th {\n",
       "        text-align: right;\n",
       "    }\n",
       "</style>\n",
       "<table border=\"1\" class=\"dataframe\">\n",
       "  <thead>\n",
       "    <tr style=\"text-align: right;\">\n",
       "      <th></th>\n",
       "      <th>country</th>\n",
       "      <th>year</th>\n",
       "      <th>sex</th>\n",
       "      <th>age</th>\n",
       "      <th>suicides_no</th>\n",
       "      <th>population</th>\n",
       "      <th>suicides/100k pop</th>\n",
       "      <th>country_year</th>\n",
       "      <th>HDI for year</th>\n",
       "      <th>gdp_for_year ($)</th>\n",
       "      <th>gdp_per_capita ($)</th>\n",
       "      <th>generation</th>\n",
       "    </tr>\n",
       "  </thead>\n",
       "  <tbody>\n",
       "  </tbody>\n",
       "</table>\n",
       "</div>"
      ],
      "text/plain": [
       "Empty DataFrame\n",
       "Columns: [country, year, sex, age, suicides_no, population, suicides/100k pop, country_year, HDI for year,  gdp_for_year ($) , gdp_per_capita ($), generation]\n",
       "Index: []"
      ]
     },
     "execution_count": 90,
     "metadata": {},
     "output_type": "execute_result"
    }
   ],
   "source": [
    "df[df['country'].isin(['America'])].head()"
   ]
  },
  {
   "cell_type": "markdown",
   "id": "3371250b",
   "metadata": {},
   "source": [
    "4.数据整理\n",
    "在清洗过程中，很多时候需要将不用的数据整理在一起，方便后续的分析，这个过程叫数据合并\n",
    "合并方法:有堆叠和按住键进行合并，按主键合并类似SQL里面的关联操作"
   ]
  }
 ],
 "metadata": {
  "kernelspec": {
   "display_name": "snowflake_python",
   "language": "python",
   "name": "python3"
  },
  "language_info": {
   "codemirror_mode": {
    "name": "ipython",
    "version": 3
   },
   "file_extension": ".py",
   "mimetype": "text/x-python",
   "name": "python",
   "nbconvert_exporter": "python",
   "pygments_lexer": "ipython3",
   "version": "3.11.9"
  }
 },
 "nbformat": 4,
 "nbformat_minor": 5
}

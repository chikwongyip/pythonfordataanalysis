{
 "cells": [
  {
   "cell_type": "code",
   "execution_count": 1,
   "id": "9358ded7",
   "metadata": {
    "pycharm": {
     "name": "#%%\n"
    },
    "ExecuteTime": {
     "end_time": "2023-12-16T07:30:44.438885Z",
     "start_time": "2023-12-16T07:30:44.319291Z"
    }
   },
   "outputs": [
    {
     "name": "stdout",
     "output_type": "stream",
     "text": [
      "hello world\n"
     ]
    }
   ],
   "source": [
    "print(\"hello world\")"
   ]
  },
  {
   "cell_type": "code",
   "execution_count": 1,
   "id": "26308254",
   "metadata": {
    "pycharm": {
     "name": "#%%\n"
    },
    "ExecuteTime": {
     "end_time": "2023-12-16T07:30:44.447134Z",
     "start_time": "2023-12-16T07:30:44.324292Z"
    }
   },
   "outputs": [],
   "source": []
  },
  {
   "cell_type": "code",
   "execution_count": 1,
   "id": "b34c5b2c",
   "metadata": {
    "pycharm": {
     "name": "#%%\n"
    },
    "ExecuteTime": {
     "end_time": "2023-12-16T07:30:44.447332Z",
     "start_time": "2023-12-16T07:30:44.324818Z"
    }
   },
   "outputs": [],
   "source": []
  },
  {
   "cell_type": "code",
   "execution_count": 1,
   "id": "5130de25",
   "metadata": {
    "pycharm": {
     "name": "#%%\n"
    },
    "ExecuteTime": {
     "end_time": "2023-12-16T07:30:44.501547Z",
     "start_time": "2023-12-16T07:30:44.324936Z"
    }
   },
   "outputs": [],
   "source": []
  },
  {
   "cell_type": "code",
   "execution_count": 2,
   "id": "e5c53e14",
   "metadata": {
    "pycharm": {
     "name": "#%%\n"
    },
    "ExecuteTime": {
     "end_time": "2023-12-16T07:30:44.515190Z",
     "start_time": "2023-12-16T07:30:44.326392Z"
    }
   },
   "outputs": [],
   "source": [
    "b = [1,2,3]"
   ]
  },
  {
   "cell_type": "code",
   "execution_count": 3,
   "id": "9c7ed0ff",
   "metadata": {
    "pycharm": {
     "name": "#%%\n"
    },
    "ExecuteTime": {
     "end_time": "2023-12-16T07:30:44.545178Z",
     "start_time": "2023-12-16T07:30:44.328348Z"
    }
   },
   "outputs": [],
   "source": [
    "b?"
   ]
  },
  {
   "cell_type": "code",
   "execution_count": 4,
   "id": "74819abc",
   "metadata": {
    "pycharm": {
     "name": "#%%\n"
    },
    "ExecuteTime": {
     "end_time": "2023-12-16T07:30:44.669914Z",
     "start_time": "2023-12-16T07:30:44.329757Z"
    }
   },
   "outputs": [
    {
     "ename": "NameError",
     "evalue": "name 'array' is not defined",
     "output_type": "error",
     "traceback": [
      "\u001B[0;31m---------------------------------------------------------------------------\u001B[0m",
      "\u001B[0;31mNameError\u001B[0m                                 Traceback (most recent call last)",
      "Cell \u001B[0;32mIn[4], line 1\u001B[0m\n\u001B[0;32m----> 1\u001B[0m \u001B[38;5;28;01mfor\u001B[39;00m x \u001B[38;5;129;01min\u001B[39;00m array:\n\u001B[1;32m      2\u001B[0m     \u001B[38;5;28;01mif\u001B[39;00m x \u001B[38;5;241m<\u001B[39m pivot:\n\u001B[1;32m      3\u001B[0m         less\u001B[38;5;241m.\u001B[39mappend(x)\n",
      "\u001B[0;31mNameError\u001B[0m: name 'array' is not defined"
     ]
    }
   ],
   "source": [
    "for x in array:\n",
    "    if x < pivot:\n",
    "        less.append(x)\n",
    "    else:\n",
    "        greater.append(x)"
   ]
  },
  {
   "cell_type": "code",
   "execution_count": null,
   "id": "cf424654",
   "metadata": {
    "pycharm": {
     "name": "#%%\n"
    },
    "ExecuteTime": {
     "start_time": "2023-12-16T07:30:44.550082Z"
    }
   },
   "outputs": [],
   "source": [
    "a = [1,2,3]\n",
    "b = a\n",
    "a.append(4)\n",
    "b"
   ]
  },
  {
   "cell_type": "code",
   "execution_count": null,
   "id": "0bc9ce82",
   "metadata": {
    "pycharm": {
     "name": "#%%\n"
    },
    "ExecuteTime": {
     "start_time": "2023-12-16T07:30:44.552022Z"
    }
   },
   "outputs": [],
   "source": [
    "def append_element(some_list,element):\n",
    "    some_list.append(element)\n",
    "\n",
    "data = [1,2,3]\n",
    "append_element(data,4)"
   ]
  },
  {
   "cell_type": "code",
   "execution_count": null,
   "id": "cb520761",
   "metadata": {
    "pycharm": {
     "name": "#%%\n"
    },
    "ExecuteTime": {
     "start_time": "2023-12-16T07:30:44.552779Z"
    }
   },
   "outputs": [],
   "source": [
    "data"
   ]
  },
  {
   "cell_type": "code",
   "execution_count": null,
   "id": "a6f97388",
   "metadata": {
    "pycharm": {
     "name": "#%%\n"
    },
    "ExecuteTime": {
     "start_time": "2023-12-16T07:30:44.554035Z"
    }
   },
   "outputs": [],
   "source": [
    "a = 5\n",
    "type(a)\n",
    "a = 'string'\n",
    "type(a)"
   ]
  },
  {
   "cell_type": "code",
   "execution_count": null,
   "id": "091528ad",
   "metadata": {
    "pycharm": {
     "name": "#%%\n"
    },
    "ExecuteTime": {
     "start_time": "2023-12-16T07:30:44.555315Z"
    }
   },
   "outputs": [],
   "source": [
    "a = 5\n",
    "isinstance(a,int)"
   ]
  },
  {
   "cell_type": "code",
   "execution_count": null,
   "id": "6cd65929",
   "metadata": {
    "pycharm": {
     "name": "#%%\n"
    },
    "ExecuteTime": {
     "start_time": "2023-12-16T07:30:44.556424Z"
    }
   },
   "outputs": [],
   "source": [
    "a = 'foo'"
   ]
  },
  {
   "cell_type": "code",
   "execution_count": null,
   "id": "33d65dab",
   "metadata": {
    "pycharm": {
     "name": "#%%\n"
    },
    "ExecuteTime": {
     "start_time": "2023-12-16T07:30:44.557484Z"
    }
   },
   "outputs": [],
   "source": [
    "a = 'foo'\n",
    "getattr(a,'split')"
   ]
  },
  {
   "cell_type": "code",
   "execution_count": null,
   "id": "385edef7",
   "metadata": {
    "pycharm": {
     "name": "#%%\n"
    },
    "ExecuteTime": {
     "start_time": "2023-12-16T07:30:44.558745Z"
    }
   },
   "outputs": [],
   "source": [
    "def isiterable(obj):\n",
    "    try:\n",
    "        iter(obj)\n",
    "        return True\n",
    "    except TypeError:\n",
    "        return False\n",
    "\n",
    "isiterable('string')"
   ]
  },
  {
   "cell_type": "code",
   "execution_count": null,
   "id": "22ee4f9a",
   "metadata": {
    "pycharm": {
     "name": "#%%\n"
    },
    "ExecuteTime": {
     "start_time": "2023-12-16T07:30:44.559576Z"
    }
   },
   "outputs": [],
   "source": [
    "a = [1,2,3]\n",
    "isinstance(a,list)\n",
    "isinstance(a,tuple)"
   ]
  },
  {
   "cell_type": "code",
   "execution_count": null,
   "id": "d2a7fbc7",
   "metadata": {
    "pycharm": {
     "name": "#%%\n"
    },
    "ExecuteTime": {
     "start_time": "2023-12-16T07:30:44.560845Z"
    }
   },
   "outputs": [],
   "source": [
    "a = False\n",
    "b= False\n",
    "a ^ b\n"
   ]
  },
  {
   "cell_type": "code",
   "execution_count": null,
   "id": "7209ea6f",
   "metadata": {
    "pycharm": {
     "name": "#%%\n"
    },
    "ExecuteTime": {
     "start_time": "2023-12-16T07:30:44.562237Z"
    }
   },
   "outputs": [],
   "source": [
    "a_list = ['foo',1,[2,3]]\n",
    "a_list[2] = [3.4]\n",
    "a_list"
   ]
  },
  {
   "cell_type": "code",
   "execution_count": null,
   "id": "d60bafe7",
   "metadata": {
    "pycharm": {
     "name": "#%%\n"
    },
    "ExecuteTime": {
     "start_time": "2023-12-16T07:30:44.563516Z"
    }
   },
   "outputs": [],
   "source": [
    "#元组不可变\n",
    "a_tuple = (3,4,(4,5))\n",
    "a_tuple[1] = ['a']\n"
   ]
  },
  {
   "cell_type": "code",
   "execution_count": null,
   "id": "c6a75892",
   "metadata": {
    "pycharm": {
     "name": "#%%\n"
    },
    "ExecuteTime": {
     "start_time": "2023-12-16T07:30:44.565018Z"
    }
   },
   "outputs": [],
   "source": [
    "#标量类型\n",
    "#数值类型 int 和float int 可以存储任意大数\n",
    "inval = 17239871\n",
    "inval ** 6"
   ]
  },
  {
   "cell_type": "code",
   "execution_count": null,
   "id": "3a007b90",
   "metadata": {
    "pycharm": {
     "name": "#%%\n"
    },
    "ExecuteTime": {
     "start_time": "2023-12-16T07:30:44.566440Z"
    }
   },
   "outputs": [],
   "source": [
    "fval = 7.243\n",
    "fval2 = 6.78e-5\n",
    "3 / 2"
   ]
  },
  {
   "cell_type": "code",
   "execution_count": null,
   "id": "f70e0f4f",
   "metadata": {
    "pycharm": {
     "name": "#%%\n"
    },
    "ExecuteTime": {
     "start_time": "2023-12-16T07:30:44.567715Z"
    }
   },
   "outputs": [],
   "source": [
    "#整除\n",
    "3 // 2"
   ]
  },
  {
   "cell_type": "code",
   "execution_count": null,
   "id": "7db46be9",
   "metadata": {
    "pycharm": {
     "name": "#%%\n"
    },
    "ExecuteTime": {
     "start_time": "2023-12-16T07:30:44.568873Z"
    }
   },
   "outputs": [],
   "source": [
    "#可以使用单引号或者双引号来写字符串\n",
    "a = 'one way of writing a string'\n",
    "b = \"another way\"\n",
    "print(a + b)"
   ]
  },
  {
   "cell_type": "code",
   "execution_count": null,
   "id": "10dea0d8",
   "metadata": {
    "pycharm": {
     "name": "#%%\n"
    },
    "ExecuteTime": {
     "start_time": "2023-12-16T07:30:44.569969Z"
    }
   },
   "outputs": [],
   "source": [
    "c = \"\"\"\n",
    "this is a longer string that\n",
    "spans multiple lines\n",
    "\"\"\"\n",
    "print(c)"
   ]
  },
  {
   "cell_type": "code",
   "execution_count": null,
   "id": "8233fce7",
   "metadata": {
    "pycharm": {
     "name": "#%%\n"
    },
    "ExecuteTime": {
     "start_time": "2023-12-16T07:30:44.571864Z"
    }
   },
   "outputs": [],
   "source": [
    "# 字符串是不可变的，不能修改\n",
    "a = \"this is a string\"\n",
    "a[0] = '1'\n"
   ]
  },
  {
   "cell_type": "code",
   "execution_count": null,
   "id": "da6789df",
   "metadata": {
    "pycharm": {
     "name": "#%%\n"
    },
    "ExecuteTime": {
     "start_time": "2023-12-16T07:30:44.573123Z"
    }
   },
   "outputs": [],
   "source": [
    "a = 5.6 \n",
    "s = str(a)\n",
    "print(s)"
   ]
  },
  {
   "cell_type": "code",
   "execution_count": null,
   "id": "8e92414d",
   "metadata": {
    "pycharm": {
     "name": "#%%\n"
    },
    "ExecuteTime": {
     "start_time": "2023-12-16T07:30:44.574414Z"
    }
   },
   "outputs": [],
   "source": [
    "#字符串是一个序列的unicode字符，因此可以像其他序列一样处理\n",
    "s = 'python'\n",
    "list(s)\n"
   ]
  },
  {
   "cell_type": "code",
   "execution_count": null,
   "id": "7cca67bc",
   "metadata": {
    "pycharm": {
     "name": "#%%\n"
    },
    "ExecuteTime": {
     "start_time": "2023-12-16T07:30:44.575757Z"
    }
   },
   "outputs": [],
   "source": [
    "s = r'this\\has\\no\\special\\characters'\n",
    "s"
   ]
  },
  {
   "cell_type": "code",
   "execution_count": null,
   "id": "866a05f7",
   "metadata": {
    "pycharm": {
     "name": "#%%\n"
    },
    "ExecuteTime": {
     "start_time": "2023-12-16T07:30:44.576778Z"
    }
   },
   "outputs": [],
   "source": [
    "a = 'this is the first half'\n",
    "b = 'and this is the second half'\n",
    "a + b\n"
   ]
  },
  {
   "cell_type": "code",
   "execution_count": null,
   "id": "cb880ff0",
   "metadata": {
    "pycharm": {
     "name": "#%%\n"
    },
    "ExecuteTime": {
     "start_time": "2023-12-16T07:30:44.578251Z"
    }
   },
   "outputs": [],
   "source": [
    "template = '{0:.2f} {1:s} are worth US${2:d}'\n",
    "#{0:2f} 表示格式化第一个参数为带有两位小数点的浮点数\n",
    "#{1:s} 表示格式化第二个参数为字符串\n",
    "#{2:d}表示格式化第三个参数为一个整数\n",
    "template.format(4.56670,'adasdas',1)\n"
   ]
  },
  {
   "cell_type": "code",
   "execution_count": null,
   "id": "1eda867e",
   "metadata": {
    "pycharm": {
     "name": "#%%\n"
    },
    "ExecuteTime": {
     "start_time": "2023-12-16T07:30:44.579258Z"
    }
   },
   "outputs": [],
   "source": [
    "#字节unicode Unicode 是一级字符串类型，这样可以更一致处理 ASCII和Non-ASCII\n",
    "val = \"español\"\n",
    "val"
   ]
  },
  {
   "cell_type": "code",
   "execution_count": null,
   "id": "0ba763ed",
   "metadata": {
    "pycharm": {
     "name": "#%%\n"
    },
    "ExecuteTime": {
     "start_time": "2023-12-16T07:30:44.579910Z"
    }
   },
   "outputs": [],
   "source": [
    "val_utf8 = val.encode('utf-8')\n",
    "val_utf8"
   ]
  },
  {
   "cell_type": "code",
   "execution_count": null,
   "id": "14fba333",
   "metadata": {
    "pycharm": {
     "name": "#%%\n"
    },
    "ExecuteTime": {
     "start_time": "2023-12-16T07:30:44.581091Z"
    }
   },
   "outputs": [],
   "source": [
    "#如果你知道一个字节对象是Unicode 编码可以用decode 方法解码\n",
    "val_utf8.decode('utf-8')\n"
   ]
  },
  {
   "cell_type": "code",
   "execution_count": null,
   "id": "a19b6155",
   "metadata": {
    "pycharm": {
     "name": "#%%\n"
    },
    "ExecuteTime": {
     "start_time": "2023-12-16T07:30:44.581895Z"
    }
   },
   "outputs": [],
   "source": [
    "#类型转换\n",
    "#str，bool int float 也是函数也可以用来转换类型\n",
    "s = '3.141234'\n",
    "fval = float(s)\n",
    "type(fval)\n",
    "int(fval)\n",
    "bool(fval)\n",
    "bool(0)\n"
   ]
  },
  {
   "cell_type": "code",
   "execution_count": null,
   "id": "a17a79c4",
   "metadata": {
    "pycharm": {
     "name": "#%%\n"
    },
    "ExecuteTime": {
     "start_time": "2023-12-16T07:30:44.582678Z"
    }
   },
   "outputs": [],
   "source": [
    "#None 也是Python 空值类型，如果一个函数没有明确返回值，就会默认返回None\n",
    "a = None\n",
    "a is None"
   ]
  },
  {
   "cell_type": "code",
   "execution_count": null,
   "id": "39dfd4ff",
   "metadata": {
    "pycharm": {
     "name": "#%%\n"
    },
    "ExecuteTime": {
     "start_time": "2023-12-16T07:30:44.583314Z"
    }
   },
   "outputs": [],
   "source": [
    "b = 5\n",
    "b is not None\n"
   ]
  },
  {
   "cell_type": "code",
   "execution_count": null,
   "id": "59a5c6c6",
   "metadata": {
    "pycharm": {
     "name": "#%%\n"
    },
    "ExecuteTime": {
     "start_time": "2023-12-16T07:30:44.583899Z"
    }
   },
   "outputs": [],
   "source": [
    "#None 也是常常作为函数的默认参数\n",
    "def add_and_maybe_multiply(a,b,c):\n",
    "    result = a + b\n",
    "    if c is not None:\n",
    "        result = result * c\n",
    "    return result\n",
    "add_and_maybe_multiply(2,5,None)\n"
   ]
  },
  {
   "cell_type": "code",
   "execution_count": null,
   "id": "50c30ebe",
   "metadata": {
    "pycharm": {
     "name": "#%%\n"
    },
    "ExecuteTime": {
     "start_time": "2023-12-16T07:30:44.584536Z"
    }
   },
   "outputs": [],
   "source": [
    "type(None)\n"
   ]
  },
  {
   "cell_type": "code",
   "execution_count": null,
   "id": "02eb7664",
   "metadata": {
    "pycharm": {
     "name": "#%%\n"
    },
    "ExecuteTime": {
     "start_time": "2023-12-16T07:30:44.585256Z"
    }
   },
   "outputs": [],
   "source": [
    "#日期和时间\n",
    "from datetime import datetime,date,time\n",
    "dt = datetime(2021,11,25,15,29,30)\n",
    "dt.day"
   ]
  },
  {
   "cell_type": "code",
   "execution_count": null,
   "id": "92da3b40",
   "metadata": {
    "pycharm": {
     "name": "#%%\n"
    },
    "ExecuteTime": {
     "start_time": "2023-12-16T07:30:44.585876Z"
    }
   },
   "outputs": [],
   "source": [
    "dt.month"
   ]
  },
  {
   "cell_type": "code",
   "execution_count": null,
   "id": "d97d1caa",
   "metadata": {
    "pycharm": {
     "name": "#%%\n"
    },
    "ExecuteTime": {
     "start_time": "2023-12-16T07:30:44.586443Z"
    }
   },
   "outputs": [],
   "source": [
    "dt.date()"
   ]
  },
  {
   "cell_type": "code",
   "execution_count": null,
   "id": "862ca865",
   "metadata": {
    "pycharm": {
     "name": "#%%\n"
    },
    "ExecuteTime": {
     "start_time": "2023-12-16T07:30:44.586936Z"
    }
   },
   "outputs": [],
   "source": [
    "dt.strftime('%y%d%m')"
   ]
  },
  {
   "cell_type": "code",
   "execution_count": null,
   "id": "497df695",
   "metadata": {
    "pycharm": {
     "name": "#%%\n"
    },
    "ExecuteTime": {
     "start_time": "2023-12-16T07:30:44.587550Z"
    }
   },
   "outputs": [],
   "source": [
    "dt.strftime('%y年%d日%m月')"
   ]
  },
  {
   "cell_type": "code",
   "execution_count": null,
   "id": "ffbaea8d",
   "metadata": {
    "pycharm": {
     "name": "#%%\n"
    },
    "ExecuteTime": {
     "start_time": "2023-12-16T07:30:44.588211Z"
    }
   },
   "outputs": [],
   "source": [
    "#当你聚类分析时候对时间序列进行分组时候，把时间分钟和秒替换成0\n",
    "dt.replace(minute = 0,second = 0)"
   ]
  },
  {
   "cell_type": "code",
   "execution_count": null,
   "id": "db36e990",
   "metadata": {
    "pycharm": {
     "name": "#%%\n"
    },
    "ExecuteTime": {
     "start_time": "2023-12-16T07:30:44.588686Z"
    }
   },
   "outputs": [],
   "source": [
    "#两个datetime 对象的差会产生一个datetime.timedelta类型\n",
    "dt2 = datetime(2011,9,25,15,29,30)\n",
    "delta = dt -dt2\n",
    "delta"
   ]
  }
 ],
 "metadata": {
  "kernelspec": {
   "display_name": "Python 3 (ipykernel)",
   "language": "python",
   "name": "python3"
  },
  "language_info": {
   "codemirror_mode": {
    "name": "ipython",
    "version": 3
   },
   "file_extension": ".py",
   "mimetype": "text/x-python",
   "name": "python",
   "nbconvert_exporter": "python",
   "pygments_lexer": "ipython3",
   "version": "3.9.12"
  }
 },
 "nbformat": 4,
 "nbformat_minor": 5
}
